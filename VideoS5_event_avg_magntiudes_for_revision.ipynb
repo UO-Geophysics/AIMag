{
 "cells": [
  {
   "cell_type": "code",
   "execution_count": 1,
   "id": "641ae5c2",
   "metadata": {},
   "outputs": [
    {
     "name": "stderr",
     "output_type": "stream",
     "text": [
      "2023-11-10 21:51:46.429229: W tensorflow/stream_executor/platform/default/dso_loader.cc:64] Could not load dynamic library 'libcudart.so.11.0'; dlerror: libcudart.so.11.0: cannot open shared object file: No such file or directory\n",
      "2023-11-10 21:51:46.429251: I tensorflow/stream_executor/cuda/cudart_stub.cc:29] Ignore above cudart dlerror if you do not have a GPU set up on your machine.\n"
     ]
    }
   ],
   "source": [
    "### ----- Imports ----- ###\n",
    "\n",
    "import matplotlib.pyplot as plt\n",
    "import matplotlib.ticker as ticker\n",
    "import numpy as np\n",
    "import os.path\n",
    "import os\n",
    "import shutil\n",
    "import glob\n",
    "import h5py\n",
    "import tensorflow as tf\n",
    "from tensorflow.keras import layers\n",
    "from tensorflow.keras import backend as K\n",
    "from scipy import stats\n",
    "\n",
    "dataset = 'v1b'"
   ]
  },
  {
   "cell_type": "code",
   "execution_count": 16,
   "id": "7b22c9e6",
   "metadata": {},
   "outputs": [],
   "source": [
    "### ----- Parameters ----- ###\n",
    "\n",
    "# Where to save the products\n",
    "models_figs_path = '/home/sdybing/mlaapde/testdata_preds/all_test_rerun/revised_figures/'\n",
    "\n",
    "# MLAAPDE/data generation params\n",
    "sr = 20 # Sampling rate\n",
    "trim_sec = 60 # Trimming amount around phase pick to get from MLAAPDE\n",
    "trim_pre_sec = trim_sec\n",
    "trim_post_sec = trim_pre_sec\n",
    "window_len = trim_pre_sec + trim_post_sec\n",
    "n_channels = 3 # Instrument channels\n",
    "cut_lens = [7, 8, 9, 10, 11, 12, 13, 14, 15, 16, 17, 18, 19, 20, 25, 30, 35, 40, 50, 60, 70, 80, 90, 100, 110, 120]\n",
    "cut_lens_finish = [70, 80, 90, 100, 110, 120]\n",
    "cut_lens_test = [7]\n",
    "desired_shift = 3\n",
    "max_shift = desired_shift * 2 # Since the shifting method actually makes it half what this value is set to\n",
    "min_snr_db = False\n",
    "max_snr_db = False\n",
    "log_progress_fraction = 100\n",
    "valid_phases = ['P', 'Pn', 'Pg']\n",
    "cast_dtype = np.float32\n",
    "\n",
    "# Training/model params\n",
    "epochs_number = 200\n",
    "batch_size = int(256) # Reducing to help memory\n",
    "monte_carlo_sampling = 50\n",
    "drop_rate = 0.5\n",
    "filters = [32, 64, 96, 128, 256] \n",
    "\n",
    "# Used if loading a trained model\n",
    "training_dataset = 'v1b'\n",
    "shift_status = 'shifted'\n",
    "model_folder_path = '/home/sdybing/mlaapde/training/'\n",
    "\n",
    "# To make end error plots\n",
    "mean_errors = []\n",
    "median_errors = []\n",
    "std_errors = []\n",
    "\n",
    "evtavg_mean_errors = []\n",
    "evtavg_median_errors = []\n",
    "evtavg_std_errors = []"
   ]
  },
  {
   "cell_type": "code",
   "execution_count": 3,
   "id": "895208f9",
   "metadata": {},
   "outputs": [],
   "source": [
    "### ----- Load the MLAAPDE testing dataset from HDF5 files ----- ###\n",
    "\n",
    "hdf5_save_dir = '/hdd/mlaapde/decimated'\n",
    "\n",
    "testing_data = h5py.File(hdf5_save_dir + '/testing_data.hdf5', 'r')\n",
    "# test_waves = testing_data['waves'][:]\n",
    "test_mags = testing_data['magnitude'][:]\n",
    "test_phase_id = testing_data['phase_id'][:]\n",
    "\n",
    "testing_data.close()"
   ]
  },
  {
   "cell_type": "code",
   "execution_count": 4,
   "id": "8beb8af3",
   "metadata": {},
   "outputs": [],
   "source": [
    "new_test_pids = []\n",
    "\n",
    "for idx in range(len(test_phase_id)):\n",
    "#     print(test_phase_id[idx])\n",
    "#     print(test_phase_id[idx].decode())\n",
    "    new_test_pids.append(test_phase_id[idx].decode())"
   ]
  },
  {
   "cell_type": "code",
   "execution_count": 5,
   "id": "c9d716be",
   "metadata": {},
   "outputs": [
    {
     "name": "stdout",
     "output_type": "stream",
     "text": [
      "us70006xvh\n"
     ]
    }
   ],
   "source": [
    "print(new_test_pids[0].split('_')[0])\n",
    "\n",
    "mlaa_eventids = []\n",
    "\n",
    "for idx in range(len(np.array(new_test_pids))):\n",
    "    eventid = new_test_pids[idx].split('_')[0]\n",
    "    mlaa_eventids.append(eventid)"
   ]
  },
  {
   "cell_type": "code",
   "execution_count": 6,
   "id": "5746b714",
   "metadata": {},
   "outputs": [],
   "source": [
    "unique_mlaa_eventids = list(set(mlaa_eventids))"
   ]
  },
  {
   "cell_type": "code",
   "execution_count": 7,
   "id": "91475dc4",
   "metadata": {},
   "outputs": [
    {
     "data": {
      "text/plain": [
       "26987"
      ]
     },
     "execution_count": 7,
     "metadata": {},
     "output_type": "execute_result"
    }
   ],
   "source": [
    "len(unique_mlaa_eventids)"
   ]
  },
  {
   "cell_type": "code",
   "execution_count": 8,
   "id": "dc944674",
   "metadata": {},
   "outputs": [],
   "source": [
    "# train_data = h5py.File(hdf5_save_dir + '/training_data_full_decimate2.hdf5', 'r')\n",
    "# train_mags = train_data['magnitude'][:]"
   ]
  },
  {
   "cell_type": "code",
   "execution_count": 9,
   "id": "ed679636",
   "metadata": {},
   "outputs": [
    {
     "name": "stdout",
     "output_type": "stream",
     "text": [
      "(324365,)\n"
     ]
    }
   ],
   "source": [
    "# test_waves_t = test_waves.transpose(0,2,1)\n",
    "\n",
    "# print(test_waves_t.shape)\n",
    "print(test_mags.shape)"
   ]
  },
  {
   "cell_type": "code",
   "execution_count": 10,
   "id": "9038a885",
   "metadata": {},
   "outputs": [],
   "source": [
    "# del test_waves"
   ]
  },
  {
   "cell_type": "code",
   "execution_count": 11,
   "id": "5b82d944",
   "metadata": {},
   "outputs": [],
   "source": [
    "nsamp = 2920609\n",
    "n_test_samp = len(test_mags)\n",
    "data = 'testing'"
   ]
  },
  {
   "cell_type": "code",
   "execution_count": 12,
   "id": "24e2aec5",
   "metadata": {},
   "outputs": [
    {
     "name": "stdout",
     "output_type": "stream",
     "text": [
      "(13449,)\n",
      "(13151,)\n",
      "(13151,)\n"
     ]
    }
   ],
   "source": [
    "### ----- Load the historic testing dataset ----- ###\n",
    "\n",
    "historic_path = '/hdd/mlaapde/decimated/'\n",
    "\n",
    "# historic_test_waves = np.load(historic_path + 'historic_test_waves.npy')\n",
    "historic_test_mags = np.load(historic_path + 'historic_test_mags.npy')\n",
    "historic_test_eventids = np.load(historic_path + 'historic_test_eventids.npy')\n",
    "# print(historic_test_waves.shape)\n",
    "n_channels_hist = 3\n",
    "\n",
    "bad_hist_indices = np.loadtxt('/home/sdybing/mlaapde/codes/bad_historic_waves.txt').astype(int)\n",
    "\n",
    "# historic_test_waves_nonan = np.delete(historic_test_waves, bad_hist_indices, axis = 0)\n",
    "historic_test_mags_nonan = np.delete(historic_test_mags, bad_hist_indices, axis = 0)\n",
    "historic_test_eventids_nonan = np.delete(historic_test_eventids, bad_hist_indices, axis = 0)\n",
    "\n",
    "# print(historic_test_waves.shape)\n",
    "# print(historic_test_waves_nonan.shape)\n",
    "print(historic_test_mags.shape)\n",
    "print(historic_test_mags_nonan.shape)\n",
    "print(historic_test_eventids_nonan.shape)\n",
    "\n",
    "# n_historic_test_samp = len(historic_test_waves_nonan)\n",
    "n_historic_test_samp = len(historic_test_mags_nonan)\n"
   ]
  },
  {
   "cell_type": "code",
   "execution_count": 13,
   "id": "d2f90355",
   "metadata": {},
   "outputs": [
    {
     "name": "stdout",
     "output_type": "stream",
     "text": [
      "76\n"
     ]
    }
   ],
   "source": [
    "unique_historic_eventids = list(set(historic_test_eventids_nonan))\n",
    "print(len(unique_historic_eventids))"
   ]
  },
  {
   "cell_type": "code",
   "execution_count": 14,
   "id": "0eec3b6a",
   "metadata": {},
   "outputs": [],
   "source": [
    "all_eventids = np.concatenate((mlaa_eventids, historic_test_eventids_nonan))\n",
    "all_unique_eventids = np.concatenate((unique_mlaa_eventids, unique_historic_eventids))"
   ]
  },
  {
   "cell_type": "code",
   "execution_count": null,
   "id": "30a546a4",
   "metadata": {
    "scrolled": true
   },
   "outputs": [
    {
     "name": "stdout",
     "output_type": "stream",
     "text": [
      "---------------------------------\n",
      "Cut len: 7\n",
      "Shift len: 1\n",
      "Loading saved predicted magnitudes...\n",
      "Mean error: 0.084\n",
      "Median error: -0.005\n",
      "Error standard deviation: 1.18\n"
     ]
    }
   ],
   "source": [
    "### ----- VIDEO S5 ----- ###\n",
    "\n",
    "### THE LOOP ###\n",
    "\n",
    "# Just using MLAAPDE or historic too?\n",
    "mlaa_only = False\n",
    "\n",
    "for cut_len in cut_lens:\n",
    "    \n",
    "    shift_len = cut_len - max_shift\n",
    "    print('---------------------------------')\n",
    "    print('Cut len: ' + str(cut_len))\n",
    "    print('Shift len: ' + str(shift_len))\n",
    "\n",
    "    all_test_mags = np.concatenate((test_mags, historic_test_mags_nonan))\n",
    "    # print(all_test_mags.shape)\n",
    "\n",
    "    all_test_mags = np.round_(all_test_mags, decimals = 1) # Get rid of extra digits\n",
    "    \n",
    "    ### ----- Load the predicted magnitudes ----- ###\n",
    "    \n",
    "    print('Loading saved predicted magnitudes...')\n",
    "    \n",
    "    if mlaa_only == False:\n",
    "        tag = '_all_test'\n",
    "        predict_all = np.load('/home/sdybing/mlaapde/testdata_preds/all_test_rerun/mag_preds/' + str(cut_len-6) + 's_window_magpreds.npy')\n",
    "        \n",
    "    if mlaa_only == True:\n",
    "        tag = '_mlaa_only'\n",
    "        predict_all = np.load('/home/sdybing/mlaapde/testdata_preds/mlaa_only/pred_mags_' + str(cut_len-6) + 's_window.npy')\n",
    "    \n",
    "    ## ----- Quick plot of the predictions vs. true magnitudes ----- ###\n",
    "\n",
    "#     fig4, ax = plt.subplots(facecolor = 'white')\n",
    "#     ax.scatter(all_test_mags, predict_all, alpha = 0.4, facecolors = 'r', edgecolors = 'r')\n",
    "#     ax.plot([all_test_mags.min(), all_test_mags.max()], [all_test_mags.min(), all_test_mags.max()], 'k--', alpha=1, lw=2)\n",
    "#     ax.set_xlabel('Measured magnitude')\n",
    "#     ax.set_ylabel('Predicted magnitude')\n",
    "#     plt.show()\n",
    "# #     fig4.savefig(models_figs_path + 'scatter_plots/' + str(cut_len-6) + 's_window_scatter_pred_vs_cat.png')\n",
    "#     plt.close();\n",
    "    \n",
    "    ### ----- Rename things ----- ###\n",
    "\n",
    "    measured_mags = all_test_mags\n",
    "    predicted_mags = predict_all.flatten()\n",
    "\n",
    "    ### ----- Calculate the error and standard deviation ----- ###\n",
    "\n",
    "    errors = []\n",
    "\n",
    "    for idx in range(len(predicted_mags)):\n",
    "        predicted = predicted_mags[idx]\n",
    "        measured = measured_mags[idx]\n",
    "        error = predicted - measured\n",
    "        errors.append(error)\n",
    "        \n",
    "    mean_error = np.mean(np.array(errors))\n",
    "    median_error = np.median(np.array(errors))\n",
    "    std_error = np.std(np.array(errors))\n",
    "    \n",
    "    # print('Error shape: ' + str(np.array(errors).shape))\n",
    "\n",
    "    print('Mean error: ' + str(round(mean_error,3)))\n",
    "    print('Median error: ' + str(round(median_error,3)))\n",
    "    print('Error standard deviation: ' + str(round(std_error,2)))\n",
    "\n",
    "    mean_errors.append(mean_error)\n",
    "    median_errors.append(median_error)\n",
    "    std_errors.append(std_error)\n",
    "\n",
    "#     ### ----- Make the box and whisker plots with STF magnitude line ----- ###\n",
    "\n",
    "#     Tt = shift_len / 2\n",
    "#     M0_dyncm = Tt**3 * (0.625 * 10**23)\n",
    "#     Mw = ((2/3) * np.log10(M0_dyncm)) - 10.73 # M0 in dyne-cm\n",
    "\n",
    "#     bins = np.arange(7,92,1)/10\n",
    "#     data_bins = []\n",
    "\n",
    "#     for abin in bins:\n",
    "#     #     print(abin)\n",
    "#         i = np.where(measured_mags == abin)[0]\n",
    "#     #     print(measured_mags[i])\n",
    "#         predict_bin = np.array(predicted_mags[i])\n",
    "#     #     print(predict_bin)\n",
    "#         data_bins.append(predict_bin)\n",
    "#     #     print('-----')\n",
    "    \n",
    "#     # ----- Make boxplot ----- #\n",
    "\n",
    "#     fig = plt.figure(figsize = (14, 9), dpi = 300, facecolor = 'white')\n",
    "\n",
    "#     plt.rcParams['text.usetex'] = False\n",
    "\n",
    "#     fig.suptitle(str(shift_len) + 's window', fontsize = 20, y = 0.93, color = 'black')\n",
    "#     ax = fig.add_subplot(111)\n",
    "#     ax.set_facecolor('white')\n",
    "#     # ax.text(x = 30, y = 8.8, s = 'Model: ' + m_name, fontsize = 13, color = 'black')\n",
    "#     ax.grid(which = 'major', axis = 'y', markevery = 0.5, zorder = 2)\n",
    "#     ax.grid(which = 'major', axis = 'x', zorder = 2.5)\n",
    "#     ax.set_ylim(0,9.2)\n",
    "\n",
    "#     bp = ax.boxplot(data_bins, notch = False, patch_artist = True, zorder = 3)\n",
    "\n",
    "#     both_test_mags = [test_mags*10-6, historic_test_mags_nonan*10-6]\n",
    "#     ax2 = ax.twinx()\n",
    "#     ax2.hist(both_test_mags, bins = 85, color = ['#730114', '#f01f42'], stacked = True, zorder = 3.5)\n",
    "#     ax2.set_ylim(0,110000)\n",
    "#     ax2.set_yticks([0, 10000, 20000])\n",
    "#     ax2.set_yticklabels(['0', '10,000', '20,000'])\n",
    "#     # ax2.set_ylabel('Count of waveforms in each magnitude bin', fontsize = 16, color = 'black', rotation = 270, labelpad = 18)\n",
    "#     ax2.text(s = 'Count of waveforms\\nin each magnitude bin', x = 86.5, y = 30000, fontsize = 18, color = 'black', rotation = 270)\n",
    "#     ax2.tick_params(labelsize = 18, color = 'black')\n",
    "#     ax2.set_zorder(3.5)\n",
    "\n",
    "#     ax2.axvline(((Mw*10)-6), color = 'blue', linestyle = '--', linewidth = 2, zorder = 20)\n",
    "\n",
    "#     for patch in bp['boxes']:\n",
    "#         patch.set_facecolor('#72d1d6')\n",
    "#         patch.set_edgecolor('#001528')\n",
    "#     for median in bp['medians']:\n",
    "#         median.set(color = '#001528', linewidth = 3)\n",
    "#     for whisker in bp['whiskers']:\n",
    "#         whisker.set(color = '#001528', linewidth = 1)\n",
    "#     for cap in bp['caps']:\n",
    "#         cap.set(color = '#001528', linewidth = 1)\n",
    "#     for flier in bp['fliers']:\n",
    "#         flier.set(marker = '+', color = '#001528', alpha = 0.5)\n",
    "\n",
    "#     bins_list = bins.tolist()\n",
    "#     ax.set_xticklabels(bins_list, fontsize = 18, color = 'black')\n",
    "#     ax.xaxis.set_major_locator(ticker.FixedLocator([4, 14, 24, 34, 44, 54, 64, 74, 84]))\n",
    "#     ax.set_yticks([0, 1, 2, 3, 4, 5, 6, 7, 8, 9])\n",
    "#     ax.tick_params(labelsize = 18, color = 'black')\n",
    "#     ax.set_ylabel('Estimated magnitude', fontsize = 20, color = 'black')\n",
    "#     ax.set_xlabel('Catalog magnitude', fontsize = 20, color = 'black')\n",
    "\n",
    "#     linex = [4, 14, 24, 34, 44, 54, 64, 74, 84]\n",
    "#     liney = [1, 2, 3, 4, 5, 6, 7, 8, 9]\n",
    "#     liney05u = [1.5, 2.5, 3.5, 4.5, 5.5, 6.5, 7.5, 8.5, 9.5]\n",
    "#     liney05d = [0.5, 1.5, 2.5, 3.5, 4.5, 5.5, 6.5, 7.5, 8.5]\n",
    "\n",
    "#     ax.plot(linex, liney, 'black', linestyle = '--', linewidth = 3, alpha = 0.4)\n",
    "#     ax.plot(linex, liney05u, 'gray', linestyle = '--', linewidth = 2, alpha = 0.4)\n",
    "#     ax.plot(linex, liney05d, 'gray', linestyle = '--', linewidth = 2, alpha = 0.4)\n",
    "#     ax2.text(s = 'Testing data results', x = 2, y = 104000, fontsize = 18, backgroundcolor = '#72d1d6', color = 'black', zorder = 25)\n",
    "#     ax2.text(s = 'STF magnitude: ' + str(round(Mw,2)), x = 2, y = 96500, fontsize = 18, backgroundcolor = 'blue', color = 'white', zorder = 25)\n",
    "#     ax2.text(s = 'MLAAPDE test data distrib.', x = 57.8, y = 20000, fontsize = 18, backgroundcolor = '#730114', color = 'white', zorder = 25)\n",
    "#     ax2.text(s = 'Historic test data distrib.', x = 59.85, y = 12500, fontsize = 18, backgroundcolor = '#f01f42', color = 'white', zorder = 25)\n",
    "\n",
    "#     plt.show();\n",
    "# #     plt.savefig(save_dir + '/boxplot_durline_' + m_name + '.png', format = 'PNG', facecolor = 'white', transparent = False)\n",
    "# #     plt.savefig('/home/sdybing/mlaapde/figures/testing/boxplots/' + str(cut_len-6) + 's_window.png', format = 'PNG', facecolor = 'white', transparent = False)\n",
    "# #     plt.savefig(models_figs_path + 'boxplots/' + str(cut_len-6) + 's_window_boxplot_pred_vs_cat.png', format = 'PNG', facecolor = 'white', transparent = False)\n",
    "# #     plt.close();\n",
    "    \n",
    "    uni_meas_mags = []\n",
    "    evt_avg_pred_mags = []\n",
    "\n",
    "    for idx in range(len(all_unique_eventids)):\n",
    "\n",
    "        uni_id = all_unique_eventids[idx]\n",
    "    #     print(uni_id)\n",
    "\n",
    "        i = np.where(all_eventids == uni_id)[0]\n",
    "    #     print(all_eventids[i])\n",
    "\n",
    "        pred_mags = predicted_mags[i]\n",
    "        evt_avg_mag = np.mean(pred_mags)\n",
    "        meas_mag = measured_mags[i][0]\n",
    "    #     print(evt_avg_mag)\n",
    "    #     print(meas_mag)\n",
    "\n",
    "        uni_meas_mags.append(meas_mag)\n",
    "        evt_avg_pred_mags.append(evt_avg_mag)\n",
    "        \n",
    "    uni_meas_mags = np.array(uni_meas_mags)\n",
    "    evt_avg_pred_mags = np.array(evt_avg_pred_mags)\n",
    "    \n",
    "    ### ----- Calculate the error and standard deviation ----- ###\n",
    "\n",
    "    evtavg_errors = []\n",
    "\n",
    "    for idx in range(len(evt_avg_pred_mags)):\n",
    "        predicted = evt_avg_pred_mags[idx]\n",
    "        measured = uni_meas_mags[idx]\n",
    "        error = predicted - measured\n",
    "        evtavg_errors.append(error)\n",
    "        \n",
    "    mean_error = np.mean(np.array(evtavg_errors))\n",
    "    median_error = np.median(np.array(evtavg_errors))\n",
    "    std_error = np.std(np.array(evtavg_errors))\n",
    "    \n",
    "    # print('Error shape: ' + str(np.array(errors).shape))\n",
    "\n",
    "    print('Mean error: ' + str(round(mean_error,3)))\n",
    "    print('Median error: ' + str(round(median_error,3)))\n",
    "    print('Error standard deviation: ' + str(round(std_error,2)))\n",
    "\n",
    "    evtavg_mean_errors.append(mean_error)\n",
    "    evtavg_median_errors.append(median_error)\n",
    "    evtavg_std_errors.append(std_error)\n",
    "\n",
    "    ### ----- Make the box and whisker plots with STF magnitude line ----- ###\n",
    "\n",
    "    Tt = shift_len / 2\n",
    "    M0_dyncm = Tt**3 * (0.625 * 10**23)\n",
    "    Mw = ((2/3) * np.log10(M0_dyncm)) - 10.73 # M0 in dyne-cm\n",
    "\n",
    "    bins = np.arange(7,92,1)/10\n",
    "    data_bins = []\n",
    "\n",
    "    for abin in bins:\n",
    "    #     print(abin)\n",
    "        i = np.where(uni_meas_mags == abin)[0]\n",
    "    #     print(measured_mags[i])\n",
    "        predict_bin = np.array(evt_avg_pred_mags[i])\n",
    "    #     print(predict_bin)\n",
    "        data_bins.append(predict_bin)\n",
    "    #     print('-----')\n",
    "\n",
    "    # ----- Make boxplot ----- #\n",
    "\n",
    "    fig = plt.figure(figsize = (14, 9), dpi = 300, facecolor = 'white')\n",
    "\n",
    "    plt.rcParams['text.usetex'] = False\n",
    "\n",
    "    fig.suptitle('Event-averaged magnitude: ' + str(shift_len) + '-second window', fontsize = 20, y = 0.93, color = 'black')\n",
    "    ax = fig.add_subplot(111)\n",
    "    ax.set_facecolor('white')\n",
    "    # ax.text(x = 30, y = 8.8, s = 'Model: ' + m_name, fontsize = 13, color = 'black')\n",
    "    ax.grid(which = 'major', axis = 'y', markevery = 0.5, zorder = 2)\n",
    "    ax.grid(which = 'major', axis = 'x', zorder = 2.5)\n",
    "    ax.set_ylim(0,9.2)\n",
    "\n",
    "    bp = ax.boxplot(data_bins, notch = False, patch_artist = True, zorder = 3)\n",
    "\n",
    "    both_test_mags = [test_mags*10-6, historic_test_mags_nonan*10-6]\n",
    "    ax2 = ax.twinx()\n",
    "    ax2.hist(both_test_mags, bins = 85, color = ['#730114', '#f01f42'], stacked = True, zorder = 3.5)\n",
    "    ax2.set_ylim(0,110000)\n",
    "    ax2.set_yticks([0, 10000, 20000])\n",
    "    ax2.set_yticklabels(['0', '10,000', '20,000'])\n",
    "    # ax2.set_ylabel('Count of waveforms in each magnitude bin', fontsize = 16, color = 'black', rotation = 270, labelpad = 18)\n",
    "    ax2.text(s = 'Count of waveforms\\nin each magnitude bin', x = 86.5, y = 30000, fontsize = 18, color = 'black', rotation = 270)\n",
    "    ax2.tick_params(labelsize = 18, color = 'black')\n",
    "    ax2.set_zorder(3.5)\n",
    "\n",
    "    ax2.axvline(((Mw*10)-6), color = 'blue', linestyle = '--', linewidth = 2, zorder = 20)\n",
    "\n",
    "    for patch in bp['boxes']:\n",
    "        patch.set_facecolor('#72d1d6')\n",
    "        patch.set_edgecolor('#001528')\n",
    "    for median in bp['medians']:\n",
    "        median.set(color = '#001528', linewidth = 3)\n",
    "    for whisker in bp['whiskers']:\n",
    "        whisker.set(color = '#001528', linewidth = 1)\n",
    "    for cap in bp['caps']:\n",
    "        cap.set(color = '#001528', linewidth = 1)\n",
    "    for flier in bp['fliers']:\n",
    "        flier.set(marker = '+', color = '#001528', alpha = 0.5)\n",
    "\n",
    "    bins_list = bins.tolist()\n",
    "    ax.set_xticklabels(bins_list, fontsize = 18, color = 'black')\n",
    "    ax.xaxis.set_major_locator(ticker.FixedLocator([4, 14, 24, 34, 44, 54, 64, 74, 84]))\n",
    "    ax.set_yticks([0, 1, 2, 3, 4, 5, 6, 7, 8, 9])\n",
    "    ax.tick_params(labelsize = 18, color = 'black')\n",
    "    ax.set_ylabel('Estimated magnitude', fontsize = 20, color = 'black')\n",
    "    ax.set_xlabel('Catalog magnitude', fontsize = 20, color = 'black')\n",
    "\n",
    "    linex = [4, 14, 24, 34, 44, 54, 64, 74, 84]\n",
    "    liney = [1, 2, 3, 4, 5, 6, 7, 8, 9]\n",
    "    liney05u = [1.5, 2.5, 3.5, 4.5, 5.5, 6.5, 7.5, 8.5, 9.5]\n",
    "    liney05d = [0.5, 1.5, 2.5, 3.5, 4.5, 5.5, 6.5, 7.5, 8.5]\n",
    "\n",
    "    ax.plot(linex, liney, 'black', linestyle = '--', linewidth = 3, alpha = 0.4)\n",
    "    ax.plot(linex, liney05u, 'gray', linestyle = '--', linewidth = 2, alpha = 0.4)\n",
    "    ax.plot(linex, liney05d, 'gray', linestyle = '--', linewidth = 2, alpha = 0.4)\n",
    "    ax2.text(s = 'Testing data results', x = 2, y = 104000, fontsize = 18, backgroundcolor = '#72d1d6', color = 'black', zorder = 25)\n",
    "    ax2.text(s = 'STF magnitude: ' + str(round(Mw,2)), x = 2, y = 96500, fontsize = 18, backgroundcolor = 'blue', color = 'white', zorder = 25)\n",
    "    ax2.text(s = 'MLAAPDE test data distrib.', x = 57.8, y = 20000, fontsize = 18, backgroundcolor = '#730114', color = 'white', zorder = 25)\n",
    "    ax2.text(s = 'Historical test data distrib.', x = 58.1, y = 12500, fontsize = 18, backgroundcolor = '#f01f42', color = 'white', zorder = 25)\n",
    "\n",
    "#     plt.show();\n",
    "    #     plt.savefig(save_dir + '/boxplot_durline_' + m_name + '.png', format = 'PNG', facecolor = 'white', transparent = False)\n",
    "    #     plt.savefig('/home/sdybing/mlaapde/figures/testing/boxplots/' + str(cut_len-6) + 's_window.png', format = 'PNG', facecolor = 'white', transparent = False)\n",
    "    plt.savefig(models_figs_path + 'evtavg_boxplots/' + str(cut_len-6) + 's_window_boxplot_pred_vs_cat.png', format = 'PNG', facecolor = 'white', transparent = False)\n",
    "    plt.close();\n",
    "\n"
   ]
  },
  {
   "cell_type": "code",
   "execution_count": 27,
   "id": "74e67cff",
   "metadata": {},
   "outputs": [
    {
     "data": {
      "text/plain": [
       "26"
      ]
     },
     "execution_count": 27,
     "metadata": {},
     "output_type": "execute_result"
    }
   ],
   "source": [
    "len(std_errors[-26:])"
   ]
  },
  {
   "cell_type": "code",
   "execution_count": 28,
   "id": "0f7c63ad",
   "metadata": {},
   "outputs": [],
   "source": [
    "np.save('/home/sdybing/mlaapde/testdata_preds/all_test_rerun/revised_figures/allwindows_std_errors.npy', np.array(std_errors[-26:]))\n",
    "np.save('/home/sdybing/mlaapde/testdata_preds/all_test_rerun/revised_figures/allwindows_evtavg_std_errors.npy', np.array(evtavg_std_errors))\n",
    "\n"
   ]
  },
  {
   "cell_type": "code",
   "execution_count": 16,
   "id": "2cbe682c",
   "metadata": {},
   "outputs": [],
   "source": [
    "# ### ----- FIGURE 7 ----- ###\n",
    "\n",
    "# ### ----- Plot error and std for all windows ----- ###\n",
    "\n",
    "# shift_lengths = []\n",
    "\n",
    "# for cut_len in cut_lens:\n",
    "#     shift_len = cut_len - max_shift\n",
    "#     shift_lengths.append(shift_len)\n",
    "    \n",
    "# plt.figure(figsize = (10, 6), dpi = 300, facecolor = 'white')\n",
    "# # plt.title('Testing errors/stds: models trained with\\n2.92 million augmented samples shifted up to 3 seconds', fontsize = 16)\n",
    "# plt.errorbar(shift_lengths, median_errors, color = '#001528', yerr = std_errors, fmt = '.', markersize = 10, ecolor = '#f01f42', capsize = 3, label = 'Median (black) and\\nstandard deviation (red)')\n",
    "# # plt.scatter(shift_lengths, mean_errors, color = '#2DADB4')\n",
    "# plt.grid()\n",
    "# plt.xlabel('Window length (s)', fontsize = 14)\n",
    "# plt.ylabel('Median error and standard deviation\\n(Estimated - catalog magnitude)', fontsize = 14)\n",
    "# plt.xticks(fontsize = 13)\n",
    "# plt.yticks(fontsize = 13)\n",
    "# plt.legend(fontsize = 12)\n",
    "# plt.axhline(0, color = 'black', linestyle = '--', alpha = 0.75)\n",
    "\n",
    "# # plt.show()\n",
    "# plt.savefig('/home/sdybing/mlaapde/testdata_preds/all_test_rerun/revised_figures/medianstderror_timeplot.png', format = 'PNG', facecolor = 'white', transparent = False)\n",
    "# plt.close();"
   ]
  },
  {
   "cell_type": "code",
   "execution_count": 17,
   "id": "556a573f",
   "metadata": {},
   "outputs": [],
   "source": [
    "# ### ----- F7 for evt averaged errors ----- ###\n",
    "\n",
    "# ### ----- Plot error and std for all windows ----- ###\n",
    "\n",
    "# shift_lengths = []\n",
    "\n",
    "# for cut_len in cut_lens:\n",
    "#     shift_len = cut_len - max_shift\n",
    "#     shift_lengths.append(shift_len)\n",
    "    \n",
    "# plt.figure(figsize = (10, 6), dpi = 300, facecolor = 'white')\n",
    "# # plt.title('Testing errors/stds: models trained with\\n2.92 million augmented samples shifted up to 3 seconds', fontsize = 16)\n",
    "# plt.errorbar(shift_lengths, evtavg_median_errors, color = '#001528', yerr = evtavg_std_errors, fmt = '.', markersize = 10, ecolor = '#f01f42', capsize = 3, label = 'Median (black) and\\nstandard deviation (red)')\n",
    "# # plt.scatter(shift_lengths, mean_errors, color = '#2DADB4')\n",
    "# plt.grid()\n",
    "# plt.xlabel('Window length (s)', fontsize = 14)\n",
    "# plt.ylabel('Median error and standard deviation\\n(Estimated - catalog magnitude)', fontsize = 14)\n",
    "# plt.xticks(fontsize = 13)\n",
    "# plt.yticks(fontsize = 13)\n",
    "# plt.legend(fontsize = 12)\n",
    "# plt.axhline(0, color = 'black', linestyle = '--', alpha = 0.75)\n",
    "\n",
    "# # plt.show()\n",
    "# plt.savefig('/home/sdybing/mlaapde/testdata_preds/all_test_rerun/revised_figures/medianstderror_timeplot_evtavgmag.png', format = 'PNG', facecolor = 'white', transparent = False)\n",
    "# plt.close();"
   ]
  },
  {
   "cell_type": "code",
   "execution_count": 24,
   "id": "91763c42",
   "metadata": {},
   "outputs": [
    {
     "data": {
      "text/plain": [
       "26"
      ]
     },
     "execution_count": 24,
     "metadata": {},
     "output_type": "execute_result"
    }
   ],
   "source": []
  },
  {
   "cell_type": "code",
   "execution_count": 34,
   "id": "caacaf91",
   "metadata": {},
   "outputs": [],
   "source": [
    "shift_lengths = []\n",
    "\n",
    "for cut_len in cut_lens:\n",
    "    shift_len = cut_len - max_shift\n",
    "    shift_lengths.append(shift_len)\n",
    "\n",
    "plt.figure(figsize = (10, 6), dpi = 300, facecolor = 'white')\n",
    "plt.scatter(shift_lengths, std_errors[-26:], label = 'Single-station standard deviation of error', color = '#2DADB4')\n",
    "plt.scatter(shift_lengths, evtavg_std_errors, label = 'Event-average standard deviation of error', color = '#E9072D')\n",
    "plt.legend(fontsize = 14)\n",
    "plt.xlabel('Time window (s)', fontsize = 14)\n",
    "plt.ylabel('Error standard deviation', fontsize = 14)\n",
    "plt.tick_params(labelsize = 14)\n",
    "plt.xlim(1,114)\n",
    "\n",
    "# plt.show()\n",
    "plt.savefig('/home/sdybing/mlaapde/testdata_preds/all_test_rerun/revised_figures/methodcomparison_stderror.png', format = 'PNG', facecolor = 'white', transparent = False)\n",
    "plt.close();"
   ]
  },
  {
   "cell_type": "code",
   "execution_count": 61,
   "id": "d3c5cc45",
   "metadata": {},
   "outputs": [],
   "source": [
    "plt.title('Histogram of errors in magnitude estimations averaged by event')\n",
    "plt.hist(evtavg_errors, bins = 100, label = 'Entire magnitude range')\n",
    "\n",
    "k = np.where((uni_meas_mags >= 4) & (uni_meas_mags <= 7))[0]\n",
    "\n",
    "plt.hist(np.array(evtavg_errors)[k], bins = 50, label = 'M4-M7 only')\n",
    "plt.axvline(0, color = 'lightgray', linestyle = '--')\n",
    "plt.xlim(-2,3)\n",
    "plt.xlabel('Magnitude estimation error (estimated - catalog)')\n",
    "plt.ylabel('Count')\n",
    "plt.legend()\n",
    "\n",
    "# plt.show()\n",
    "plt.savefig('/home/sdybing/mlaapde/testdata_preds/all_test_rerun/revised_figures/errordistributioncomparison_evtavgmag.png', format = 'PNG', facecolor = 'white', transparent = False)\n",
    "plt.close();"
   ]
  },
  {
   "cell_type": "code",
   "execution_count": null,
   "id": "2a6eb4ba",
   "metadata": {},
   "outputs": [],
   "source": []
  },
  {
   "cell_type": "code",
   "execution_count": null,
   "id": "50461e01",
   "metadata": {},
   "outputs": [],
   "source": [
    "stats_save_dir = '/home/sdybing/mlaapde/testdata_preds/all_test_rerun/boxplot_stats/' + str(cut_len-6) + 's_window/'\n",
    "medians = np.load(stats_save_dir + str(cut_len-6) + 's_window_medians.npy')\n",
    "medians_float = []\n",
    "for med in medians:\n",
    "    if med != 'nan':\n",
    "        med_float = float(med)\n",
    "        medians_float.append(med_float)"
   ]
  },
  {
   "cell_type": "code",
   "execution_count": 33,
   "id": "ddab7ff3",
   "metadata": {},
   "outputs": [
    {
     "name": "stdout",
     "output_type": "stream",
     "text": [
      "27063\n",
      "Number of positive errors\n",
      "18104\n",
      "Number of negative errors\n",
      "8959\n"
     ]
    }
   ],
   "source": [
    "print(len(evtavg_errors))\n",
    "j = np.where(np.array(evtavg_errors) > 0)[0]\n",
    "print('Number of positive errors')\n",
    "print(len(j))\n",
    "print('Number of negative errors')\n",
    "print(len(evtavg_errors)-len(j))"
   ]
  },
  {
   "cell_type": "code",
   "execution_count": null,
   "id": "d6adc193",
   "metadata": {},
   "outputs": [],
   "source": []
  }
 ],
 "metadata": {
  "kernelspec": {
   "display_name": "Python 3 (ipykernel)",
   "language": "python",
   "name": "python3"
  },
  "language_info": {
   "codemirror_mode": {
    "name": "ipython",
    "version": 3
   },
   "file_extension": ".py",
   "mimetype": "text/x-python",
   "name": "python",
   "nbconvert_exporter": "python",
   "pygments_lexer": "ipython3",
   "version": "3.8.8"
  }
 },
 "nbformat": 4,
 "nbformat_minor": 5
}
