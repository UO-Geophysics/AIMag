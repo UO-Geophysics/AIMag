{
 "cells": [
  {
   "cell_type": "code",
   "execution_count": 14,
   "id": "69dd4cdd",
   "metadata": {},
   "outputs": [],
   "source": [
    "from obspy.clients.fdsn import Client\n",
    "from obspy import UTCDateTime, read\n",
    "import matplotlib\n",
    "import matplotlib.pyplot as plt\n",
    "import numpy as np\n",
    "from obspy.io.quakeml.core import Unpickler\n",
    "import pandas as pd\n",
    "import os\n",
    "\n",
    "client = Client(\"IRIS\")\n",
    "\n",
    "# Paths\n",
    "\n",
    "mseeds_path = '/data/sdybing/olderdata/mseeds/'\n",
    "array_path = '/data/sdybing/olderdata/arrays/'\n",
    "\n",
    "# Event catalog\n",
    "\n",
    "new_catalog = np.genfromtxt('/home/sdybing/neic-mlaapde/2000-2013_catalog.csv', delimiter = ',', dtype = 'str', skip_header = 1) # M7.5+ 01/01/2000 - 07/31/2013\n",
    "event_ids = new_catalog[:,8]\n",
    "\n",
    "# Other things\n",
    "\n",
    "resample_hz = 40\n",
    "nsamp_historic = 13449\n",
    "n_channels = 3\n",
    "window_len = 120\n",
    "historic_test_waves = np.zeros(shape = (nsamp_historic, window_len * resample_hz, n_channels))"
   ]
  },
  {
   "cell_type": "code",
   "execution_count": 15,
   "id": "9af32b50",
   "metadata": {},
   "outputs": [
    {
     "name": "stdout",
     "output_type": "stream",
     "text": [
      "['2000-03-28T11:00:22.510Z' '22.338' '143.73' '126.5' '7.6' 'mwc' '' 'us'\n",
      " 'usp0009qb4' '2022-04-29T18:35:42.761Z' 'us' 'hrv']\n"
     ]
    }
   ],
   "source": [
    "print(new_catalog[0])"
   ]
  },
  {
   "cell_type": "code",
   "execution_count": 16,
   "id": "63492d54",
   "metadata": {},
   "outputs": [
    {
     "name": "stdout",
     "output_type": "stream",
     "text": [
      "['7.6' '7.6' '7.9' '7.9' '8' '7.8' '7.8' '7.5' '7.7' '7.7' '8.4' '7.6'\n",
      " '7.5' '7.8' '7.5' '7.7' '7.7' '7.6' '7.6' '7.9' '7.6' '7.6' '7.6' '8.16'\n",
      " '7.8' '7.5' '8.1' '9.1' '8.6' '7.8' '7.6' '7.5' '7.6' '7.6' '7.6' '8'\n",
      " '7.7' '8.3' '8.1' '7.5' '8.1' '7.5' '8' '8.4' '7.9' '7.5' '7.7' '7.8'\n",
      " '7.9' '7.7' '7.7' '7.6' '7.8' '7.5' '8.1' '7.6' '7.7' '7.8' '8.8' '7.8'\n",
      " '7.5' '7.6' '7.5' '7.8' '9.1' '7.9' '7.7' '7.6' '8.6' '8.2' '7.7' '7.6'\n",
      " '7.6' '7.8' '7.5' '8' '7.7' '8.3']\n",
      "['mwc' 'mwc' 'mwc' 'mwc' 'mwc' 'mwc' 'mwc' 'mwc' 'mwc' 'mwc' 'mww' 'mwc'\n",
      " 'mwc' 'mwc' 'mwc' 'mwc' 'mwc' 'mwc' 'mwc' 'mw' 'mwb' 'mwc' 'mwc' 'mww'\n",
      " 'mwc' 'mwc' 'mwc' 'mw' 'mww' 'mwb' 'mwc' 'mwb' 'mwc' 'mwc' 'mwc' 'mwc'\n",
      " 'mwc' 'mwc' 'mwc' 'mwc' 'mwc' 'mwc' 'mwc' 'mww' 'mwc' 'mwc' 'mwc' 'mwc'\n",
      " 'mwc' 'mwc' 'mwc' 'mwc' 'mwc' 'mwc' 'mwc' 'mwc' 'mww' 'mwc' 'mww' 'mwc'\n",
      " 'mwc' 'mwc' 'mwc' 'mwc' 'mww' 'mwc' 'mwc' 'mww' 'mw' 'mwc' 'mww' 'mww'\n",
      " 'mww' 'mww' 'mw' 'mww' 'mww' 'mww']\n"
     ]
    }
   ],
   "source": [
    "magnitudes = new_catalog[:,4]\n",
    "mag_types = new_catalog[:,5]\n",
    "\n",
    "print(magnitudes)\n",
    "print(mag_types)"
   ]
  },
  {
   "cell_type": "code",
   "execution_count": 17,
   "id": "1c236141",
   "metadata": {
    "scrolled": true
   },
   "outputs": [
    {
     "name": "stdout",
     "output_type": "stream",
     "text": [
      "/data/sdybing/olderdata/mseeds/usp0009qb4\n",
      "/data/sdybing/olderdata/mseeds/usp0009sbh\n",
      "/data/sdybing/olderdata/mseeds/usp0009txv\n",
      "/data/sdybing/olderdata/mseeds/usp0009ut0\n",
      "/data/sdybing/olderdata/mseeds/usp000a3qq\n",
      "/data/sdybing/olderdata/mseeds/usp000a3sp\n",
      "/data/sdybing/olderdata/mseeds/usp000a45f\n",
      "/data/sdybing/olderdata/mseeds/usp000a70h\n",
      "/data/sdybing/olderdata/mseeds/usp000a7m5\n",
      "/data/sdybing/olderdata/mseeds/usp000a8ds\n",
      "/data/sdybing/olderdata/mseeds/official20010623203314130_33\n",
      "/data/sdybing/olderdata/mseeds/usp000aj40\n",
      "/data/sdybing/olderdata/mseeds/usp000ar78\n",
      "/data/sdybing/olderdata/mseeds/usp000asvm\n",
      "/data/sdybing/olderdata/mseeds/usp000azqw\n",
      "/data/sdybing/olderdata/mseeds/usp000ba6g\n",
      "/data/sdybing/olderdata/mseeds/usp000ba6m\n",
      "/data/sdybing/olderdata/mseeds/usp000bbpf\n",
      "/data/sdybing/olderdata/mseeds/usp000be54\n",
      "/data/sdybing/olderdata/mseeds/ak002e435qpj\n",
      "/data/sdybing/olderdata/mseeds/usp000bnyr\n",
      "/data/sdybing/olderdata/mseeds/usp000c2ka\n",
      "/data/sdybing/olderdata/mseeds/usp000c41f\n",
      "/data/sdybing/olderdata/mseeds/official20030925195006360_27\n",
      "/data/sdybing/olderdata/mseeds/usp000cd1n\n",
      "/data/sdybing/olderdata/mseeds/usp000d85g\n",
      "/data/sdybing/olderdata/mseeds/usp000db93\n",
      "/data/sdybing/olderdata/mseeds/official20041226005853450_30\n",
      "/data/sdybing/olderdata/mseeds/official20050328160936530_30\n",
      "/data/sdybing/olderdata/mseeds/usp000dsw1\n",
      "/data/sdybing/olderdata/mseeds/usp000dz2j\n",
      "/data/sdybing/olderdata/mseeds/usp000e09h\n",
      "/data/sdybing/olderdata/mseeds/usp000e12e\n",
      "/data/sdybing/olderdata/mseeds/usp000e8ys\n",
      "/data/sdybing/olderdata/mseeds/usp000ef1h\n",
      "/data/sdybing/olderdata/mseeds/usp000eg5g\n",
      "/data/sdybing/olderdata/mseeds/usp000ensm\n",
      "/data/sdybing/olderdata/mseeds/usp000exfn\n",
      "/data/sdybing/olderdata/mseeds/usp000f2ab\n",
      "/data/sdybing/olderdata/mseeds/usp000f34b\n",
      "/data/sdybing/olderdata/mseeds/usp000f83m\n",
      "/data/sdybing/olderdata/mseeds/usp000fj6k\n",
      "/data/sdybing/olderdata/mseeds/usp000fjta\n",
      "/data/sdybing/olderdata/mseeds/official20070912111026830_34\n",
      "/data/sdybing/olderdata/mseeds/usp000fn2b\n",
      "/data/sdybing/olderdata/mseeds/usp000fpca\n",
      "/data/sdybing/olderdata/mseeds/usp000fshy\n",
      "/data/sdybing/olderdata/mseeds/usp000fu3q\n",
      "/data/sdybing/olderdata/mseeds/usp000g650\n",
      "/data/sdybing/olderdata/mseeds/usp000gbc0\n",
      "/data/sdybing/olderdata/mseeds/usp000gs2d\n",
      "/data/sdybing/olderdata/mseeds/usp000gv5p\n",
      "/data/sdybing/olderdata/mseeds/usp000gz8j\n",
      "/data/sdybing/olderdata/mseeds/usp000h05x\n",
      "/data/sdybing/olderdata/mseeds/usp000h1ys\n",
      "/data/sdybing/olderdata/mseeds/usp000h237\n",
      "/data/sdybing/olderdata/mseeds/usp000h2g9\n",
      "/data/sdybing/olderdata/mseeds/usp000h2gd\n",
      "/data/sdybing/olderdata/mseeds/official20100227063411530_30\n",
      "/data/sdybing/olderdata/mseeds/usp000hat0\n",
      "/data/sdybing/olderdata/mseeds/usp000hdwb\n",
      "/data/sdybing/olderdata/mseeds/usp000hgmh\n",
      "/data/sdybing/olderdata/mseeds/usp000hgmq\n",
      "/data/sdybing/olderdata/mseeds/usp000hnj4\n",
      "/data/sdybing/olderdata/mseeds/official20110311054624120_30\n",
      "/data/sdybing/olderdata/mseeds/usp000hvpa\n",
      "/data/sdybing/olderdata/mseeds/usp000hvpg\n",
      "/data/sdybing/olderdata/mseeds/usp000j48h\n",
      "/data/sdybing/olderdata/mseeds/official20120411083836720_20\n",
      "/data/sdybing/olderdata/mseeds/usp000jhjb\n",
      "/data/sdybing/olderdata/mseeds/usp000jq9h\n",
      "/data/sdybing/olderdata/mseeds/usp000jr83\n",
      "/data/sdybing/olderdata/mseeds/usp000jrsw\n",
      "/data/sdybing/olderdata/mseeds/usp000juhz\n",
      "/data/sdybing/olderdata/mseeds/ak0138esnzr\n",
      "/data/sdybing/olderdata/mseeds/usc000f1s0\n",
      "/data/sdybing/olderdata/mseeds/usb000g7x7\n",
      "/data/sdybing/olderdata/mseeds/usb000h4jh\n"
     ]
    }
   ],
   "source": [
    "a = 0\n",
    "historic_test_mags = []\n",
    "historic_test_magtypes = []\n",
    "historic_test_eventids = []\n",
    "\n",
    "for idx in range(len(event_ids)):\n",
    "    \n",
    "    event_id = new_catalog[idx,8]\n",
    "#     print(event_id)\n",
    "    mag = float(new_catalog[idx,4])\n",
    "#     print(mag)\n",
    "    mag_type = new_catalog[idx,5]\n",
    "#     print(mag_type)\n",
    "\n",
    "    event_path = mseeds_path + event_id\n",
    "    print(event_path)\n",
    "    \n",
    "    stas = []\n",
    "    in_folder = os.listdir(event_path)\n",
    "    for i in in_folder:\n",
    "        if os.path.isdir(event_path + '/' + i):\n",
    "            stas.append(i)\n",
    "    \n",
    "    for sta in stas:\n",
    "        \n",
    "        historic_test_mags.append(mag)\n",
    "        historic_test_magtypes.append(mag_type)\n",
    "        historic_test_eventids.append(event_id)\n",
    "        a += 1"
   ]
  },
  {
   "cell_type": "code",
   "execution_count": 9,
   "id": "12f950fd",
   "metadata": {},
   "outputs": [
    {
     "name": "stdout",
     "output_type": "stream",
     "text": [
      "13449\n",
      "13449\n",
      "13449\n"
     ]
    }
   ],
   "source": [
    "print(a)\n",
    "print(len(historic_test_mags))\n",
    "print(len(historic_test_magtypes))"
   ]
  },
  {
   "cell_type": "code",
   "execution_count": 12,
   "id": "643772cd",
   "metadata": {},
   "outputs": [
    {
     "name": "stdout",
     "output_type": "stream",
     "text": [
      "(13449,)\n",
      "float32\n",
      "(13449,)\n",
      "<U3\n"
     ]
    }
   ],
   "source": [
    "historic_test_mags = np.array(historic_test_mags)\n",
    "historic_test_mags = np.float32(historic_test_mags)\n",
    "historic_test_magtypes = np.array(historic_test_magtypes)\n",
    "\n",
    "print(historic_test_mags.shape)\n",
    "print(historic_test_mags.dtype)\n",
    "print(historic_test_magtypes.shape)\n",
    "print(historic_test_magtypes.dtype)"
   ]
  },
  {
   "cell_type": "code",
   "execution_count": 18,
   "id": "6e76d913",
   "metadata": {},
   "outputs": [],
   "source": [
    "np.save(array_path + 'historic_test_mags.npy', historic_test_mags)\n",
    "np.save(array_path + 'historic_test_magtypes.npy', historic_test_magtypes)\n",
    "np.save(array_path + 'historic_test_eventids.npy', historic_test_eventids)"
   ]
  },
  {
   "cell_type": "code",
   "execution_count": null,
   "id": "3a8f0677",
   "metadata": {},
   "outputs": [],
   "source": []
  }
 ],
 "metadata": {
  "kernelspec": {
   "display_name": "Python 3 (ipykernel)",
   "language": "python",
   "name": "python3"
  },
  "language_info": {
   "codemirror_mode": {
    "name": "ipython",
    "version": 3
   },
   "file_extension": ".py",
   "mimetype": "text/x-python",
   "name": "python",
   "nbconvert_exporter": "python",
   "pygments_lexer": "ipython3",
   "version": "3.8.8"
  }
 },
 "nbformat": 4,
 "nbformat_minor": 5
}
