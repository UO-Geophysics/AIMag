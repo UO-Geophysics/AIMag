{
 "cells": [
  {
   "cell_type": "code",
   "execution_count": 26,
   "id": "d461bb8d",
   "metadata": {},
   "outputs": [],
   "source": [
    "import matplotlib.pyplot as plt\n",
    "import numpy as np\n",
    "import matplotlib.ticker as ticker\n",
    "import h5py\n",
    "# from matplotlib.patches import StepPatch\n",
    "\n",
    "cut_lens = [7, 8, 9, 10, 11, 12, 13, 14, 15, 16, 17, 18, 19, 20, 25, 30, 35, 40, 50, 60, 70, 80, 90, 100, 110, 120]\n",
    "test_cut_lens = [7]\n",
    "desired_shift = 3\n",
    "max_shift = desired_shift * 2"
   ]
  },
  {
   "cell_type": "code",
   "execution_count": 2,
   "id": "b3751dd7",
   "metadata": {},
   "outputs": [],
   "source": [
    "metadata = np.load('/home/sdybing/mlaapde/testdata_preds/all_test_rerun/all_test_metadata.npy', allow_pickle = True)\n",
    "\n",
    "# Columns: \n",
    "# 0) sta_lat\n",
    "# 1) sta_lons\n",
    "# 2) source_lat\n",
    "# 3) source_lon\n",
    "# 4) source_depth_km\n",
    "# 5) source_dist_km"
   ]
  },
  {
   "cell_type": "code",
   "execution_count": 3,
   "id": "42b66e26",
   "metadata": {},
   "outputs": [
    {
     "data": {
      "text/plain": [
       "(337516, 6)"
      ]
     },
     "execution_count": 3,
     "metadata": {},
     "output_type": "execute_result"
    }
   ],
   "source": [
    "metadata.shape"
   ]
  },
  {
   "cell_type": "code",
   "execution_count": 4,
   "id": "d9e8124b",
   "metadata": {},
   "outputs": [],
   "source": [
    "depth = metadata[:,4]\n",
    "dist = metadata[:,5]"
   ]
  },
  {
   "cell_type": "code",
   "execution_count": 5,
   "id": "33ab01b3",
   "metadata": {},
   "outputs": [
    {
     "name": "stdout",
     "output_type": "stream",
     "text": [
      "[51.61514859435106 57.98450098468874 60.640698388479244 ...\n",
      " '8222.601078296822' '8222.601078296822' '6727.379558984372']\n",
      "[  52.   58.   61. ... 8223. 8223. 6727.]\n",
      "[   0.    0.    0. ... 8200. 8200. 6800.]\n",
      "[10.0 10.0 10.0 ... '598.1' '598.1' '598.1']\n",
      "[ 10.  10.  10. ... 598. 598. 598.]\n",
      "[ 10.  10.  10. ... 600. 600. 600.]\n"
     ]
    }
   ],
   "source": [
    "float_dist = dist.astype(float)\n",
    "round_dist = np.around(float_dist)\n",
    "print(dist)\n",
    "print(round_dist)\n",
    "round_dist_200 = np.round(float_dist / 200) * 200\n",
    "print(round_dist_200)\n",
    "round_dist_200_mlaa = round_dist_200[:324365]\n",
    "round_dist_200_hist = round_dist_200[-13151:]\n",
    "\n",
    "float_depth = depth.astype(float)\n",
    "round_depth = np.around(float_depth)\n",
    "print(depth)\n",
    "print(round_depth)\n",
    "round_depth_10 = np.round(float_depth / 10) * 10\n",
    "round_depth_10_mlaa = round_depth_10[:324365]\n",
    "round_depth_10_hist = round_depth_10[-13151:]\n",
    "print(round_depth_10)"
   ]
  },
  {
   "cell_type": "code",
   "execution_count": 6,
   "id": "936b021b",
   "metadata": {},
   "outputs": [
    {
     "data": {
      "image/png": "[encoded data removed]",
      "text/plain": [
       "<Figure size 640x480 with 1 Axes>"
      ]
     },
     "metadata": {},
     "output_type": "display_data"
    }
   ],
   "source": [
    "plt.hist(float_dist, bins = 50);"
   ]
  },
  {
   "cell_type": "code",
   "execution_count": 7,
   "id": "3d342117",
   "metadata": {},
   "outputs": [
    {
     "data": {
      "text/plain": [
       "337516"
      ]
     },
     "execution_count": 7,
     "metadata": {},
     "output_type": "execute_result"
    }
   ],
   "source": [
    "len(round_depth)"
   ]
  },
  {
   "cell_type": "code",
   "execution_count": 8,
   "id": "63adb02d",
   "metadata": {},
   "outputs": [
    {
     "data": {
      "text/plain": [
       "675.0"
      ]
     },
     "execution_count": 8,
     "metadata": {},
     "output_type": "execute_result"
    }
   ],
   "source": [
    "max(round_depth)"
   ]
  },
  {
   "cell_type": "code",
   "execution_count": 9,
   "id": "895208f9",
   "metadata": {},
   "outputs": [],
   "source": [
    "### ----- Load the MLAAPDE testing dataset from HDF5 files ----- ###\n",
    "\n",
    "hdf5_save_dir = '/hdd/mlaapde/decimated'\n",
    "\n",
    "testing_data = h5py.File(hdf5_save_dir + '/testing_data.hdf5', 'r')\n",
    "test_waves = testing_data['waves'][:]\n",
    "test_mags = testing_data['magnitude'][:]\n",
    "test_phase_id = testing_data['phase_id'][:]\n",
    "\n",
    "testing_data.close()"
   ]
  },
  {
   "cell_type": "code",
   "execution_count": 10,
   "id": "ed679636",
   "metadata": {},
   "outputs": [
    {
     "name": "stdout",
     "output_type": "stream",
     "text": [
      "(324365, 2400, 3)\n",
      "(324365,)\n"
     ]
    }
   ],
   "source": [
    "test_waves_t = test_waves.transpose(0,2,1)\n",
    "\n",
    "print(test_waves_t.shape)\n",
    "print(test_mags.shape)"
   ]
  },
  {
   "cell_type": "code",
   "execution_count": 11,
   "id": "e60cfa82",
   "metadata": {},
   "outputs": [],
   "source": [
    "small_mag_is = []\n",
    "med_mag_is = []\n",
    "big_mag_is = []\n",
    "very_small_mag_is = []\n",
    "\n",
    "for i in range(len(test_mags)):\n",
    "    mag = test_mags[i]\n",
    "    if mag < 3:\n",
    "        very_small_mag_is.append(i)\n",
    "    elif mag >= 3 and mag < 4.5:\n",
    "        small_mag_is.append(i)\n",
    "    elif mag >= 4.5 and mag < 6.5:\n",
    "        med_mag_is.append(i)\n",
    "    else:\n",
    "        big_mag_is.append(i)"
   ]
  },
  {
   "cell_type": "code",
   "execution_count": 12,
   "id": "de124987",
   "metadata": {},
   "outputs": [],
   "source": [
    "big_mlaa_mags = test_mags[big_mag_is]\n",
    "med_mags = test_mags[med_mag_is]\n",
    "small_mags = test_mags[small_mag_is]"
   ]
  },
  {
   "cell_type": "code",
   "execution_count": 13,
   "id": "fbf965a1",
   "metadata": {},
   "outputs": [
    {
     "name": "stdout",
     "output_type": "stream",
     "text": [
      "2191\n",
      "136857\n",
      "125907\n",
      "264955\n"
     ]
    }
   ],
   "source": [
    "print(len(big_mlaa_mags))\n",
    "print(len(med_mags))\n",
    "print(len(small_mags))\n",
    "\n",
    "print(len(big_mlaa_mags) + len(med_mags) + len(small_mags))"
   ]
  },
  {
   "cell_type": "code",
   "execution_count": 14,
   "id": "9038a885",
   "metadata": {},
   "outputs": [],
   "source": [
    "del test_waves"
   ]
  },
  {
   "cell_type": "code",
   "execution_count": 15,
   "id": "173f773f",
   "metadata": {},
   "outputs": [
    {
     "name": "stdout",
     "output_type": "stream",
     "text": [
      "(13449, 2400, 3)\n",
      "(13449, 2400, 3)\n",
      "(13151, 2400, 3)\n",
      "(13449,)\n",
      "(13151,)\n"
     ]
    }
   ],
   "source": [
    "### ----- Load the historic testing dataset ----- ###\n",
    "\n",
    "historic_path = '/hdd/mlaapde/decimated/'\n",
    "\n",
    "historic_test_waves = np.load(historic_path + 'historic_test_waves.npy')\n",
    "historic_test_mags = np.load(historic_path + 'historic_test_mags.npy')\n",
    "print(historic_test_waves.shape)\n",
    "n_channels_hist = 3\n",
    "\n",
    "bad_hist_indices = np.loadtxt('/home/sdybing/mlaapde/codes/bad_historic_waves.txt').astype(int)\n",
    "\n",
    "historic_test_waves_nonan = np.delete(historic_test_waves, bad_hist_indices, axis = 0)\n",
    "historic_test_mags_nonan = np.delete(historic_test_mags, bad_hist_indices, axis = 0)\n",
    "\n",
    "print(historic_test_waves.shape)\n",
    "print(historic_test_waves_nonan.shape)\n",
    "print(historic_test_mags.shape)\n",
    "print(historic_test_mags_nonan.shape)\n",
    "\n",
    "n_historic_test_samp = len(historic_test_waves_nonan)"
   ]
  },
  {
   "cell_type": "code",
   "execution_count": 16,
   "id": "ccc28e4a",
   "metadata": {},
   "outputs": [
    {
     "data": {
      "text/plain": [
       "7.5"
      ]
     },
     "execution_count": 16,
     "metadata": {},
     "output_type": "execute_result"
    }
   ],
   "source": [
    "min(historic_test_mags_nonan)"
   ]
  },
  {
   "cell_type": "code",
   "execution_count": 17,
   "id": "95458170",
   "metadata": {},
   "outputs": [],
   "source": [
    "big_mags = np.append(np.array(big_mlaa_mags), historic_test_mags_nonan)"
   ]
  },
  {
   "cell_type": "code",
   "execution_count": 18,
   "id": "d8dd0edc",
   "metadata": {},
   "outputs": [
    {
     "name": "stdout",
     "output_type": "stream",
     "text": [
      "278106\n"
     ]
    }
   ],
   "source": [
    "print(len(big_mags) + len(med_mags) + len(small_mags))"
   ]
  },
  {
   "cell_type": "code",
   "execution_count": 19,
   "id": "f477b722",
   "metadata": {},
   "outputs": [],
   "source": [
    "both_test_mags = [test_mags*10-6, historic_test_mags_nonan*10-6]"
   ]
  },
  {
   "cell_type": "code",
   "execution_count": 20,
   "id": "f2d4060c",
   "metadata": {},
   "outputs": [
    {
     "data": {
      "text/plain": [
       "[array([20., 20., 20., ..., 25., 25., 25.]),\n",
       " array([70., 70., 70., ..., 77., 77., 77.], dtype=float32)]"
      ]
     },
     "execution_count": 20,
     "metadata": {},
     "output_type": "execute_result"
    }
   ],
   "source": [
    "both_test_mags"
   ]
  },
  {
   "cell_type": "code",
   "execution_count": 21,
   "id": "b7cce704",
   "metadata": {},
   "outputs": [
    {
     "data": {
      "text/plain": [
       "array([    0,   200,   400,   600,   800,  1000,  1200,  1400,  1600,\n",
       "        1800,  2000,  2200,  2400,  2600,  2800,  3000,  3200,  3400,\n",
       "        3600,  3800,  4000,  4200,  4400,  4600,  4800,  5000,  5200,\n",
       "        5400,  5600,  5800,  6000,  6200,  6400,  6600,  6800,  7000,\n",
       "        7200,  7400,  7600,  7800,  8000,  8200,  8400,  8600,  8800,\n",
       "        9000,  9200,  9400,  9600,  9800, 10000, 10200, 10400, 10600,\n",
       "       10800, 11000, 11200, 11400, 11600, 11800, 12000, 12200, 12400,\n",
       "       12600, 12800, 13000, 13200, 13400, 13600, 13800, 14000, 14200,\n",
       "       14400, 14600, 14800, 15000, 15200, 15400, 15600, 15800, 16000,\n",
       "       16200, 16400, 16600, 16800, 17000, 17200, 17400, 17600, 17800,\n",
       "       18000, 18200, 18400, 18600, 18800])"
      ]
     },
     "execution_count": 21,
     "metadata": {},
     "output_type": "execute_result"
    }
   ],
   "source": [
    "bins = np.arange(0,19000,200)\n",
    "bins"
   ]
  },
  {
   "cell_type": "code",
   "execution_count": 22,
   "id": "df651d01",
   "metadata": {},
   "outputs": [
    {
     "data": {
      "text/plain": [
       "8200"
      ]
     },
     "execution_count": 22,
     "metadata": {},
     "output_type": "execute_result"
    }
   ],
   "source": [
    "bins[41]"
   ]
  },
  {
   "cell_type": "code",
   "execution_count": 23,
   "id": "bc2a0d42",
   "metadata": {},
   "outputs": [
    {
     "data": {
      "text/plain": [
       "array([   0.,    0.,    0., ..., 8200., 8200., 6800.])"
      ]
     },
     "execution_count": 23,
     "metadata": {},
     "output_type": "execute_result"
    }
   ],
   "source": [
    "round_dist_200"
   ]
  },
  {
   "cell_type": "code",
   "execution_count": 34,
   "id": "09aa1a90",
   "metadata": {
    "scrolled": false
   },
   "outputs": [
    {
     "name": "stdout",
     "output_type": "stream",
     "text": [
      "1\n",
      "2\n",
      "3\n",
      "4\n",
      "5\n",
      "6\n",
      "7\n",
      "8\n",
      "9\n",
      "10\n",
      "11\n",
      "12\n",
      "13\n",
      "14\n",
      "19\n",
      "24\n",
      "29\n",
      "34\n",
      "44\n",
      "54\n",
      "64\n",
      "74\n",
      "84\n",
      "94\n",
      "104\n",
      "114\n"
     ]
    }
   ],
   "source": [
    "for cut_len in cut_lens:\n",
    "    \n",
    "    shift_len = cut_len - max_shift\n",
    "    print(shift_len)\n",
    "    errors = np.loadtxt('/home/sdybing/mlaapde/testdata_preds/all_test_rerun/errors/' + str(shift_len) + 's_window_errors.txt')\n",
    "    # print(len(errors))\n",
    "    \n",
    "    # Distance boxplot ### ----- FIGURE 5 ----- ###\n",
    "    \n",
    "    bins = np.arange(0,20000,200)\n",
    "#     print(bins)\n",
    "    data_bins = []\n",
    "#     histogram_bins = []\n",
    "\n",
    "    for abin in bins:\n",
    "#         print(abin)\n",
    "        i = np.where(round_dist_200 == abin)[0]\n",
    "#         print(round_dist[i])\n",
    "        error_bin = np.array(errors[i])\n",
    "    #     print(error_bin)\n",
    "        data_bins.append(error_bin)\n",
    "#         histogram_bins.append(np.array(round_dist_200[i])) # doesn't work\n",
    "    #     print('-----')\n",
    "\n",
    "    fig = plt.figure(figsize = (14, 9), dpi = 300, facecolor = 'none')\n",
    "\n",
    "    plt.rcParams['text.usetex'] = False\n",
    "\n",
    "    fig.suptitle('Magnitude estimation error by hypocentral distance (km): ' + str(shift_len) + '-second window', fontsize = 20, y = 0.93, color = 'black')\n",
    "    ax = fig.add_subplot(111)\n",
    "    \n",
    "    both_dist_200 = [round_dist_200_mlaa/200+0.5, round_dist_200_hist/200+0.5]\n",
    "    ax2 = ax.twinx()\n",
    "    ax2.set_yscale('log')\n",
    "    ax2.hist(both_dist_200, bins = 95, color = ['#730114', '#f01f42'], stacked = True, alpha = 0.7)\n",
    "    ax2.set_ylim(10**0, 10**19)\n",
    "    ax2.set_yticks([1, 100, 10000])\n",
    "    ax2.set_yticklabels(['1', '100', '10,000'])\n",
    "#     ax2.set_ylim(0,150000)\n",
    "#     ax2.set_yticks([0, 10000, 20000, 30000, 40000])\n",
    "#     ax2.set_yticklabels(['0', '10,000', '20,000', '30,000', '40,000'], style = 'italic')\n",
    "    ax2.text(s = 'Log count of waveforms\\nin each distance bin', x = 102, y = 700000, fontsize = 18, color = 'black', rotation = 270)\n",
    "    ax2.tick_params(labelsize = 18, color = 'black')\n",
    "    ax2.set_zorder(2.9)\n",
    "    mlaa_label = ax2.text(s = 'MLAAPDE test data distrib.', x = 68.35, y = 10**18, fontsize = 18, backgroundcolor = '#730114', color = 'white', zorder = 25)\n",
    "    hist_label = ax2.text(s = 'Historical test data distrib.', x = 68.7, y = 5*10**16, fontsize = 18, backgroundcolor = '#f01f42', color = 'white', zorder = 25)\n",
    "    mlaa_label.set_bbox(dict(facecolor = '#730114', alpha = 0.8, edgecolor = 'none'))\n",
    "    hist_label.set_bbox(dict(facecolor = '#f01f42', alpha = 0.8, edgecolor = 'none'))\n",
    "    \n",
    "    ax.grid(which = 'major', axis = 'y', markevery = 0.5, zorder = 2)\n",
    "    ax.grid(which = 'major', axis = 'x', zorder = 2.5)\n",
    "\n",
    "    bp = ax.boxplot(data_bins, notch = False, patch_artist = True, zorder = 3)\n",
    "    \n",
    "    ax.set_facecolor('none')\n",
    "    \n",
    "    for patch in bp['boxes']:\n",
    "        patch.set_facecolor('#99D9D9') \n",
    "        patch.set_edgecolor('#001528')\n",
    "    for median in bp['medians']:\n",
    "        median.set(color = '#001528', linewidth = 3)\n",
    "    for whisker in bp['whiskers']:\n",
    "        whisker.set(color = '#001528', linewidth = 1)\n",
    "    for cap in bp['caps']:\n",
    "        cap.set(color = '#001528', linewidth = 1)\n",
    "    for flier in bp['fliers']:\n",
    "        flier.set(marker = '+', color = '#001528', alpha = 0.5)\n",
    "\n",
    "    bins_list = bins.tolist()\n",
    "    ax.set_xticklabels(bins_list, fontsize = 18, color = 'black')\n",
    "    ax.xaxis.set_major_locator(ticker.FixedLocator([1, 11, 21, 31, 41, 51, 61, 71, 81, 91, 101]))\n",
    "#     ax.xaxis.set_major_locator(ticker.FixedLocator([0, 10]))\n",
    "    ax.axhline(0, color = 'gray', linestyle = '--', linewidth = 2, alpha = 0.8, zorder = 2)\n",
    "    ax.tick_params(labelsize = 16, color = 'black')\n",
    "    ax.set_ylabel('Magnitude error (estimated - catalog)', fontsize = 20, color = 'black')\n",
    "    ax.set_xlabel('Hypocentral distance (km)', fontsize = 20, color = 'black')\n",
    "    ax.set_ylim(-7,5)\n",
    "    ax.set_zorder(3.1)\n",
    "    ax.set_alpha(0)\n",
    "\n",
    "#     plt.show();\n",
    "    plt.savefig('/home/sdybing/mlaapde/testdata_preds/all_test_rerun/revised_figures/error_hypdist_boxplots/' + str(shift_len) + 's_window_error_hypdist_boxplot.png', format = 'PNG', facecolor = 'white', transparent = False)\n",
    "    plt.close();\n",
    "    \n",
    "    # Depth boxplot ### ----- FIGURE 4 ----- ###\n",
    "    \n",
    "    bins = np.arange(0,700,10)\n",
    "#     print(len(bins))\n",
    "    data_bins = []\n",
    "\n",
    "    for abin in bins:\n",
    "    #     print(abin)\n",
    "        i = np.where(round_depth_10 == abin)[0]\n",
    "    #     print(measured_mags[i])\n",
    "        error_bin = np.array(errors[i])\n",
    "    #     print(predict_bin)\n",
    "        data_bins.append(error_bin)\n",
    "    #     print('-----')\n",
    "\n",
    "#     fig = plt.figure(figsize = (14, 9), dpi = 300, facecolor = 'white')\n",
    "    fig = plt.figure(figsize = (14, 9), dpi = 300, facecolor = 'none')\n",
    "\n",
    "    plt.rcParams['text.usetex'] = False\n",
    "\n",
    "    fig.suptitle('Magnitude estimation error by source depth (km): ' + str(shift_len) + '-second window', fontsize = 20, y = 0.93, color = 'black')\n",
    "    ax = fig.add_subplot(111)\n",
    "    \n",
    "    both_depth_10 = [round_depth_10_mlaa/10+0.5, round_depth_10_hist/10+0.5]\n",
    "    histcount_mlaa, histbins_mlaa  = np.histogram(round_depth_10_mlaa, bins = bins)\n",
    "    histcount_hist, histbins_hist  = np.histogram(round_depth_10_hist, bins = bins)\n",
    "    histcount_extramlaa, histbins_extramlaa = np.histogram(round_depth_10_mlaa, bins = bins)\n",
    "    histcount_extrahist, histbins_extrahist = np.histogram(round_depth_10_hist, bins = bins)\n",
    "    histcount_mlaa[1] = 0\n",
    "    histcount_hist[1] = 0\n",
    "    \n",
    "    for idx in range(len(histcount_extramlaa)):\n",
    "        if idx == 1:\n",
    "            histcount_extramlaa[idx] = histcount_extramlaa[idx]\n",
    "        else:\n",
    "            histcount_extramlaa[idx] = 0\n",
    "    for idx in range(len(histcount_extrahist)):\n",
    "        if idx == 1:\n",
    "            histcount_extrahist[idx] = histcount_extrahist[idx]\n",
    "        else:\n",
    "            histcount_extrahist[idx] = 0\n",
    "            \n",
    "    ax2 = ax.twinx()\n",
    "#     ax2.hist(both_depth_10, bins = 70, color = ['#730114', '#f01f42'], stacked = True, zorder = 3.5)\n",
    "    ax2.bar(x = histbins_hist[:-1]/10+1, height = histcount_hist+histcount_mlaa, align = 'center', width = 1, color = '#f01f42') # Adding height of other bar so that it's stacked properly\n",
    "    ax2.bar(x = histbins_mlaa[:-1]/10+1, height = histcount_mlaa, align = 'center', width = 1, color = '#730114')\n",
    "    ax2.bar(x = histbins_extrahist[:-1]/10+1, height = histcount_extrahist+histcount_extramlaa, align = 'center', width = 1, color = '#f01f42', alpha = 0.4)\n",
    "    ax2.bar(x = histbins_extramlaa[:-1]/10+1, height = histcount_extramlaa, align = 'center', width = 1, color = '#730114', alpha = 0.2)\n",
    "#     extra.set_zorder = 0\n",
    "    ax2.set_ylim(0,170000)\n",
    "#     ax2.set_ylim(10**1, 10**19.5)\n",
    "#     ax2.set_yscale('log')\n",
    "    ax2.set_yticks([0, 10000, 20000, 30000])\n",
    "    ax2.set_yticklabels(['0', '10,000', '20,000', '30,000'])\n",
    "    # ax2.set_ylabel('Count of waveforms in each magnitude bin', fontsize = 16, color = 'black', rotation = 270, labelpad = 18)\n",
    "    ax2.text(s = 'Count of waveforms\\nin each depth bin', x = 71.5, y = 42000, fontsize = 18, color = 'black', rotation = 270)\n",
    "    ax2.tick_params(labelsize = 18, color = 'black')\n",
    "    ax2.set_zorder(2.9)\n",
    "    ax2.text(s = 'MLAAPDE test data distrib.', x = 47.8, y = 161000, fontsize = 18, backgroundcolor = '#730114', color = 'white', zorder = 25)\n",
    "    ax2.text(s = 'Historical test data distrib.', x = 48.1, y = 149500, fontsize = 18, backgroundcolor = '#f01f42', color = 'white', zorder = 25)\n",
    "    \n",
    "# #     ax.set_facecolor('white')\n",
    "    ax.grid(which = 'major', axis = 'y', markevery = 0.5, zorder = 2)\n",
    "    ax.grid(which = 'major', axis = 'x', zorder = 2.5)\n",
    "\n",
    "    bp = ax.boxplot(data_bins, notch = False, patch_artist = True, zorder = 3)\n",
    "    \n",
    "    ax.set_facecolor('none')\n",
    "\n",
    "    for patch in bp['boxes']:\n",
    "        patch.set_facecolor('#99D9D9') \n",
    "        patch.set_edgecolor('#001528')\n",
    "    for median in bp['medians']:\n",
    "        median.set(color = '#001528', linewidth = 3)\n",
    "    for whisker in bp['whiskers']:\n",
    "        whisker.set(color = '#001528', linewidth = 1)\n",
    "    for cap in bp['caps']:\n",
    "        cap.set(color = '#001528', linewidth = 1)\n",
    "    for flier in bp['fliers']:\n",
    "        flier.set(marker = '+', color = '#001528', alpha = 0.5)\n",
    "\n",
    "    bins_list = bins.tolist()\n",
    "    ax.set_xticklabels(bins_list, fontsize = 18, color = 'black')\n",
    "    ax.xaxis.set_major_locator(ticker.FixedLocator([1, 11, 21, 31, 41, 51, 61, 71, 81, 91, 101]))\n",
    "#     ax.xaxis.set_major_locator(ticker.FixedLocator([0, 10]))\n",
    "    ax.axhline(0, color = 'gray', linestyle = '--', linewidth = 2, alpha = 0.8, zorder = 2)\n",
    "    ax.tick_params(labelsize = 16, color = 'black')\n",
    "    ax.set_ylabel('Magnitude error (estimated - catalog)', fontsize = 20, color = 'black')\n",
    "    ax.set_xlabel('Earthquake source depth (km)', fontsize = 20, color = 'black')\n",
    "    ax.set_ylim(-7,5)\n",
    "    ax.set_zorder(3.1)\n",
    "    ax.set_alpha(0)\n",
    "    \n",
    "#     plt.show();\n",
    "    plt.savefig('/home/sdybing/mlaapde/testdata_preds/all_test_rerun/revised_figures/error_depth_boxplots/' + str(shift_len) + 's_window_error_depth_boxplot.png', format = 'PNG', facecolor = 'white', transparent = False)\n",
    "    plt.close();\n"
   ]
  },
  {
   "cell_type": "code",
   "execution_count": 19,
   "id": "c683bc88",
   "metadata": {},
   "outputs": [],
   "source": [
    "count, bins  = np.histogram(round_depth_10, bins = bins)"
   ]
  },
  {
   "cell_type": "code",
   "execution_count": 224,
   "id": "e18bddf5",
   "metadata": {},
   "outputs": [],
   "source": [
    "# count[1] = 0"
   ]
  },
  {
   "cell_type": "code",
   "execution_count": 225,
   "id": "834535d5",
   "metadata": {},
   "outputs": [
    {
     "data": {
      "text/plain": [
       "69"
      ]
     },
     "execution_count": 225,
     "metadata": {},
     "output_type": "execute_result"
    }
   ],
   "source": [
    "len(count)"
   ]
  },
  {
   "cell_type": "code",
   "execution_count": 226,
   "id": "231e31fe",
   "metadata": {},
   "outputs": [
    {
     "data": {
      "text/plain": [
       "70"
      ]
     },
     "execution_count": 226,
     "metadata": {},
     "output_type": "execute_result"
    }
   ],
   "source": [
    "len(bins)"
   ]
  },
  {
   "cell_type": "code",
   "execution_count": 227,
   "id": "ee48bd17",
   "metadata": {},
   "outputs": [
    {
     "data": {
      "text/plain": [
       "array([ 15580, 136248,  26841,  22356,  30343,  10697,   8665,   6578,\n",
       "         6028,   5118,   5615,   6098,   5792,   4540,   3706,   3392,\n",
       "         3197,   2230,   2100,   1597,   1366,   1524,   1053,    921,\n",
       "          784,    545,    543,    257,    402,    311,    276,    576,\n",
       "          206,    113,    186,    180,    346,    197,    549,    431,\n",
       "          432,    745,    427,    386,    344,    681,    212,    321,\n",
       "          506,    445,    768,    756,    984,   1256,   1251,   1420,\n",
       "         1276,   1171,   1654,   1055,   1302,    790,    748,    556,\n",
       "          416,     32,     34,      0,     61])"
      ]
     },
     "execution_count": 227,
     "metadata": {},
     "output_type": "execute_result"
    }
   ],
   "source": [
    "count"
   ]
  },
  {
   "cell_type": "code",
   "execution_count": 234,
   "id": "ae7f243d",
   "metadata": {},
   "outputs": [
    {
     "data": {
      "text/plain": [
       "array([  0,  10,  20,  30,  40,  50,  60,  70,  80,  90, 100, 110, 120,\n",
       "       130, 140, 150, 160, 170, 180, 190, 200, 210, 220, 230, 240, 250,\n",
       "       260, 270, 280, 290, 300, 310, 320, 330, 340, 350, 360, 370, 380,\n",
       "       390, 400, 410, 420, 430, 440, 450, 460, 470, 480, 490, 500, 510,\n",
       "       520, 530, 540, 550, 560, 570, 580, 590, 600, 610, 620, 630, 640,\n",
       "       650, 660, 670, 680])"
      ]
     },
     "execution_count": 234,
     "metadata": {},
     "output_type": "execute_result"
    }
   ],
   "source": [
    "bins[:-1]"
   ]
  },
  {
   "cell_type": "code",
   "execution_count": 63,
   "id": "2f508230",
   "metadata": {},
   "outputs": [
    {
     "data": {
      "text/plain": [
       "(337516,)"
      ]
     },
     "execution_count": 63,
     "metadata": {},
     "output_type": "execute_result"
    }
   ],
   "source": [
    "round_dist_200.shape"
   ]
  },
  {
   "cell_type": "code",
   "execution_count": 60,
   "id": "d1626c81",
   "metadata": {},
   "outputs": [],
   "source": [
    "### Group the plots by magnitude\n",
    "\n",
    "hist_bigmag_is = []\n",
    "\n",
    "for i in range(len(round_dist_200)):\n",
    "    if i >= 324365: # only get the last indices that are the historic ones\n",
    "        hist_bigmag_is.append(i)"
   ]
  },
  {
   "cell_type": "code",
   "execution_count": 66,
   "id": "f392c2d7",
   "metadata": {},
   "outputs": [
    {
     "data": {
      "text/plain": [
       "15342"
      ]
     },
     "execution_count": 66,
     "metadata": {},
     "output_type": "execute_result"
    }
   ],
   "source": [
    "all_big_mag_is = big_mag_is + hist_bigmag_is\n",
    "len(all_big_mag_is)"
   ]
  },
  {
   "cell_type": "code",
   "execution_count": 67,
   "id": "0cf1f03c",
   "metadata": {},
   "outputs": [
    {
     "name": "stdout",
     "output_type": "stream",
     "text": [
      "1\n",
      "2\n",
      "3\n",
      "4\n",
      "5\n",
      "6\n",
      "7\n",
      "8\n",
      "9\n",
      "10\n",
      "11\n",
      "12\n",
      "13\n",
      "14\n",
      "19\n",
      "24\n",
      "29\n",
      "34\n",
      "44\n",
      "54\n",
      "64\n",
      "74\n",
      "84\n",
      "94\n",
      "104\n",
      "114\n"
     ]
    }
   ],
   "source": [
    "for cut_len in cut_lens:\n",
    "    \n",
    "    group = all_big_mag_is # Don't forget to change figure name and saving location\n",
    "    \n",
    "    shift_len = cut_len - max_shift\n",
    "    print(shift_len)\n",
    "    errors = np.loadtxt('/home/sdybing/mlaapde/testdata_preds/all_test_rerun/errors/' + str(shift_len) + 's_window_errors.txt')\n",
    "    group_errors = errors[group]\n",
    "    # print(len(errors))\n",
    "    \n",
    "    # Distance boxplot\n",
    "    \n",
    "    distances = round_dist_200[group]\n",
    "    \n",
    "    bins = np.arange(0,20000,200)\n",
    "#     print(bins)\n",
    "    data_bins = []\n",
    "#     histogram_bins = []\n",
    "\n",
    "    for abin in bins:\n",
    "#         print(abin)\n",
    "        i = np.where(distances == abin)[0]\n",
    "#         print(round_dist[i])\n",
    "        error_bin = np.array(group_errors[i])\n",
    "    #     print(error_bin)\n",
    "        data_bins.append(error_bin)\n",
    "#         histogram_bins.append(np.array(round_dist_200[i])) # doesn't work\n",
    "    #     print('-----')\n",
    "\n",
    "    fig = plt.figure(figsize = (14, 9), dpi = 300, facecolor = 'none')\n",
    "\n",
    "    plt.rcParams['text.usetex'] = False\n",
    "\n",
    "    fig.suptitle('M6.5-9.1: Magnitude prediction error by hypocentral distance (km) - ' + str(shift_len) + 's window', fontsize = 20, y = 0.93, color = 'black')\n",
    "    ax = fig.add_subplot(111)\n",
    "    \n",
    "#     both_dist_200 = [round_dist_200_mlaa/200+0.5, round_dist_200_hist/200+0.5]\n",
    "#     ax2 = ax.twinx()\n",
    "#     ax2.set_yscale('log')\n",
    "#     ax2.hist(both_dist_200, bins = 95, color = ['#730114', '#f01f42'], stacked = True, alpha = 0.7)\n",
    "#     ax2.set_ylim(10**0, 10**19)\n",
    "#     ax2.set_yticks([1, 100, 10000])\n",
    "#     ax2.set_yticklabels(['1', '100', '10,000'], style = 'italic')\n",
    "# #     ax2.set_ylim(0,150000)\n",
    "# #     ax2.set_yticks([0, 10000, 20000, 30000, 40000])\n",
    "# #     ax2.set_yticklabels(['0', '10,000', '20,000', '30,000', '40,000'], style = 'italic')\n",
    "#     ax2.text(s = 'Log count of waveforms\\nin each distance bin', x = 102, y = 700000, fontsize = 16, color = 'black', rotation = 270, style = 'italic')\n",
    "#     ax2.tick_params(labelsize = 14, color = 'black')\n",
    "#     ax2.set_zorder(2.9)\n",
    "#     mlaa_label = ax2.text(s = 'MLAAPDE test data distrib.', x = 68.35, y = 10**18, fontsize = 18, backgroundcolor = '#730114', color = 'white', zorder = 25)\n",
    "#     hist_label = ax2.text(s = 'Historic test data distrib.', x = 70.65, y = 5*10**16, fontsize = 18, backgroundcolor = '#f01f42', color = 'white', zorder = 25)\n",
    "#     mlaa_label.set_bbox(dict(facecolor = '#730114', alpha = 0.8, edgecolor = 'none'))\n",
    "#     hist_label.set_bbox(dict(facecolor = '#f01f42', alpha = 0.8, edgecolor = 'none'))\n",
    "    \n",
    "    ax.grid(which = 'major', axis = 'y', markevery = 0.5, zorder = 2)\n",
    "    ax.grid(which = 'major', axis = 'x', zorder = 2.5)\n",
    "\n",
    "    bp = ax.boxplot(data_bins, notch = False, patch_artist = True, zorder = 3)\n",
    "    \n",
    "    ax.set_facecolor('none')\n",
    "    \n",
    "    for patch in bp['boxes']:\n",
    "        patch.set_facecolor('#99D9D9') \n",
    "        patch.set_edgecolor('#001528')\n",
    "    for median in bp['medians']:\n",
    "        median.set(color = '#001528', linewidth = 3)\n",
    "    for whisker in bp['whiskers']:\n",
    "        whisker.set(color = '#001528', linewidth = 1)\n",
    "    for cap in bp['caps']:\n",
    "        cap.set(color = '#001528', linewidth = 1)\n",
    "    for flier in bp['fliers']:\n",
    "        flier.set(marker = '+', color = '#001528', alpha = 0.5)\n",
    "\n",
    "    bins_list = bins.tolist()\n",
    "    ax.set_xticklabels(bins_list, fontsize = 14, color = 'black')\n",
    "    ax.xaxis.set_major_locator(ticker.FixedLocator([1, 11, 21, 31, 41, 51, 61, 71, 81, 91, 101]))\n",
    "#     ax.xaxis.set_major_locator(ticker.FixedLocator([0, 10]))\n",
    "    ax.axhline(0, color = 'gray', linestyle = '--', linewidth = 2, alpha = 0.8, zorder = 2)\n",
    "    ax.tick_params(labelsize = 14, color = 'black')\n",
    "    ax.set_ylabel('Magnitude error (predicted - catalog)', fontsize = 16, color = 'black')\n",
    "    ax.set_xlabel('Hypocentral distance (km)', fontsize = 16, color = 'black')\n",
    "    ax.set_ylim(-7,5)\n",
    "    ax.set_zorder(3.1)\n",
    "    ax.set_alpha(0)\n",
    "\n",
    "#     plt.show();\n",
    "    plt.savefig('/home/sdybing/mlaapde/testdata_preds/all_test_rerun/figures/error_hypdist_boxplots/mag_separation/big_mags/' + str(shift_len) + 's_window_error_hypdist_boxplot.png', format = 'PNG', facecolor = 'white', transparent = False)\n",
    "    plt.close();\n",
    "    \n",
    "    # Depth boxplot\n",
    "    \n",
    "    depths = round_depth_10[group]\n",
    "    \n",
    "    bins = np.arange(0,700,10)\n",
    "#     print(len(bins))\n",
    "    data_bins = []\n",
    "\n",
    "    for abin in bins:\n",
    "    #     print(abin)\n",
    "        i = np.where(depths == abin)[0]\n",
    "    #     print(measured_mags[i])\n",
    "        error_bin = np.array(group_errors[i])\n",
    "    #     print(predict_bin)\n",
    "        data_bins.append(error_bin)\n",
    "    #     print('-----')\n",
    "\n",
    "#     fig = plt.figure(figsize = (14, 9), dpi = 300, facecolor = 'white')\n",
    "    fig = plt.figure(figsize = (14, 9), dpi = 300, facecolor = 'none')\n",
    "\n",
    "    plt.rcParams['text.usetex'] = False\n",
    "\n",
    "    fig.suptitle('M6.5-9.1: Magnitude prediction error by source depth (km) - ' + str(shift_len) + 's window', fontsize = 20, y = 0.93, color = 'black')\n",
    "    ax = fig.add_subplot(111)\n",
    "    \n",
    "#     both_depth_10 = [round_depth_10_mlaa/10+0.5, round_depth_10_hist/10+0.5]\n",
    "#     histcount_mlaa, histbins_mlaa  = np.histogram(round_depth_10_mlaa, bins = bins)\n",
    "#     histcount_hist, histbins_hist  = np.histogram(round_depth_10_hist, bins = bins)\n",
    "#     histcount_extramlaa, histbins_extramlaa = np.histogram(round_depth_10_mlaa, bins = bins)\n",
    "#     histcount_extrahist, histbins_extrahist = np.histogram(round_depth_10_hist, bins = bins)\n",
    "#     histcount_mlaa[1] = 0\n",
    "#     histcount_hist[1] = 0\n",
    "    \n",
    "#     for idx in range(len(histcount_extramlaa)):\n",
    "#         if idx == 1:\n",
    "#             histcount_extramlaa[idx] = histcount_extramlaa[idx]\n",
    "#         else:\n",
    "#             histcount_extramlaa[idx] = 0\n",
    "#     for idx in range(len(histcount_extrahist)):\n",
    "#         if idx == 1:\n",
    "#             histcount_extrahist[idx] = histcount_extrahist[idx]\n",
    "#         else:\n",
    "#             histcount_extrahist[idx] = 0\n",
    "            \n",
    "#     ax2 = ax.twinx()\n",
    "# #     ax2.hist(both_depth_10, bins = 70, color = ['#730114', '#f01f42'], stacked = True, zorder = 3.5)\n",
    "#     ax2.bar(x = histbins_hist[:-1]/10+1, height = histcount_hist+histcount_mlaa, align = 'center', width = 1, color = '#f01f42') # Adding height of other bar so that it's stacked properly\n",
    "#     ax2.bar(x = histbins_mlaa[:-1]/10+1, height = histcount_mlaa, align = 'center', width = 1, color = '#730114')\n",
    "#     ax2.bar(x = histbins_extrahist[:-1]/10+1, height = histcount_extrahist+histcount_extramlaa, align = 'center', width = 1, color = '#f01f42', alpha = 0.4)\n",
    "#     ax2.bar(x = histbins_extramlaa[:-1]/10+1, height = histcount_extramlaa, align = 'center', width = 1, color = '#730114', alpha = 0.2)\n",
    "# #     extra.set_zorder = 0\n",
    "#     ax2.set_ylim(0,170000)\n",
    "# #     ax2.set_ylim(10**1, 10**19.5)\n",
    "# #     ax2.set_yscale('log')\n",
    "#     ax2.set_yticks([0, 10000, 20000, 30000])\n",
    "#     ax2.set_yticklabels(['0', '10,000', '20,000', '30,000'], style = 'italic')\n",
    "#     # ax2.set_ylabel('Count of waveforms in each magnitude bin', fontsize = 16, color = 'black', rotation = 270, labelpad = 18)\n",
    "#     ax2.text(s = 'Count of waveforms\\nin each depth bin', x = 71.5, y = 42000, fontsize = 16, color = 'black', rotation = 270, style = 'italic')\n",
    "#     ax2.tick_params(labelsize = 14, color = 'black')\n",
    "#     ax2.set_zorder(2.9)\n",
    "#     ax2.text(s = 'MLAAPDE test data distrib.', x = 47.8, y = 161000, fontsize = 18, backgroundcolor = '#730114', color = 'white', zorder = 25)\n",
    "#     ax2.text(s = 'Historic test data distrib.', x = 49.5, y = 149500, fontsize = 18, backgroundcolor = '#f01f42', color = 'white', zorder = 25)\n",
    "    \n",
    "# #     ax.set_facecolor('white')\n",
    "    ax.grid(which = 'major', axis = 'y', markevery = 0.5, zorder = 2)\n",
    "    ax.grid(which = 'major', axis = 'x', zorder = 2.5)\n",
    "\n",
    "    bp = ax.boxplot(data_bins, notch = False, patch_artist = True, zorder = 3)\n",
    "    \n",
    "    ax.set_facecolor('none')\n",
    "\n",
    "    for patch in bp['boxes']:\n",
    "        patch.set_facecolor('#99D9D9') \n",
    "        patch.set_edgecolor('#001528')\n",
    "    for median in bp['medians']:\n",
    "        median.set(color = '#001528', linewidth = 3)\n",
    "    for whisker in bp['whiskers']:\n",
    "        whisker.set(color = '#001528', linewidth = 1)\n",
    "    for cap in bp['caps']:\n",
    "        cap.set(color = '#001528', linewidth = 1)\n",
    "    for flier in bp['fliers']:\n",
    "        flier.set(marker = '+', color = '#001528', alpha = 0.5)\n",
    "\n",
    "    bins_list = bins.tolist()\n",
    "    ax.set_xticklabels(bins_list, fontsize = 14, color = 'black')\n",
    "    ax.xaxis.set_major_locator(ticker.FixedLocator([1, 11, 21, 31, 41, 51, 61, 71, 81, 91, 101]))\n",
    "#     ax.xaxis.set_major_locator(ticker.FixedLocator([0, 10]))\n",
    "    ax.axhline(0, color = 'gray', linestyle = '--', linewidth = 2, alpha = 0.8, zorder = 2)\n",
    "    ax.tick_params(labelsize = 14, color = 'black')\n",
    "    ax.set_ylabel('Magnitude error (predicted - catalog)', fontsize = 16, color = 'black')\n",
    "    ax.set_xlabel('Earthquake source depth (km)', fontsize = 16, color = 'black')\n",
    "    ax.set_ylim(-7,5)\n",
    "    ax.set_zorder(3.1)\n",
    "    ax.set_alpha(0)\n",
    "    \n",
    "#     plt.show();\n",
    "    plt.savefig('/home/sdybing/mlaapde/testdata_preds/all_test_rerun/figures/error_depth_boxplots/mag_separation/big_mags/' + str(shift_len) + 's_window_error_depth_boxplot.png', format = 'PNG', facecolor = 'white', transparent = False)\n",
    "    plt.close();"
   ]
  },
  {
   "cell_type": "code",
   "execution_count": 71,
   "id": "d95f1546",
   "metadata": {},
   "outputs": [],
   "source": [
    "### Saving the indices\n",
    "\n",
    "np.save('/home/sdybing/mlaapde/testdata_preds/all_test_rerun/small_mag_is.npy', np.array(small_mag_is))\n",
    "np.save('/home/sdybing/mlaapde/testdata_preds/all_test_rerun/med_mag_is.npy', np.array(med_mag_is))\n",
    "np.save('/home/sdybing/mlaapde/testdata_preds/all_test_rerun/all_big_mag_is.npy', np.array(all_big_mag_is))\n",
    "np.save('/home/sdybing/mlaapde/testdata_preds/all_test_rerun/very_small_mag_is.npy', np.array(very_small_mag_is))"
   ]
  },
  {
   "cell_type": "code",
   "execution_count": null,
   "id": "c029e068",
   "metadata": {},
   "outputs": [],
   "source": []
  }
 ],
 "metadata": {
  "kernelspec": {
   "display_name": "Python 3 (ipykernel)",
   "language": "python",
   "name": "python3"
  },
  "language_info": {
   "codemirror_mode": {
    "name": "ipython",
    "version": 3
   },
   "file_extension": ".py",
   "mimetype": "text/x-python",
   "name": "python",
   "nbconvert_exporter": "python",
   "pygments_lexer": "ipython3",
   "version": "3.8.8"
  }
 },
 "nbformat": 4,
 "nbformat_minor": 5
}
