{
 "cells": [
  {
   "cell_type": "code",
   "execution_count": 1,
   "id": "641ae5c2",
   "metadata": {},
   "outputs": [],
   "source": [
    "### ----- Imports ----- ###\n",
    "\n",
    "import matplotlib.pyplot as plt\n",
    "import matplotlib.ticker as ticker\n",
    "import numpy as np\n",
    "import pandas as pd\n",
    "import h5py\n",
    "import time"
   ]
  },
  {
   "cell_type": "code",
   "execution_count": 2,
   "id": "7b22c9e6",
   "metadata": {},
   "outputs": [],
   "source": [
    "### ----- Parameters ----- ###\n",
    "\n",
    "# Where to save the products\n",
    "models_figs_path = '/home/sdybing/mlaapde/figures/'"
   ]
  },
  {
   "cell_type": "code",
   "execution_count": 3,
   "id": "895208f9",
   "metadata": {},
   "outputs": [
    {
     "name": "stdout",
     "output_type": "stream",
     "text": [
      "<KeysViewHDF5 ['magnitude', 'magnitude_type', 'phase_id', 'snr_db', 'waves']>\n"
     ]
    }
   ],
   "source": [
    "### ----- Load the MLAAPDE testing dataset from HDF5 files ----- ###\n",
    "\n",
    "training_data = h5py.File('/hdd/mlaapde/decimated/training_data_full_decimate2.hdf5', 'r')\n",
    "validation_data = h5py.File('/hdd/mlaapde/decimated/validation_data_full_decimate2.hdf5', 'r')\n",
    "testing_data = h5py.File('/hdd/mlaapde/decimated/testing_data.hdf5', 'r')\n",
    "\n",
    "datasetnames = training_data.keys()\n",
    "print(datasetnames)\n",
    "\n",
    "train_mags = training_data['magnitude'][:]\n",
    "valid_mags = validation_data['magnitude'][:]\n",
    "test_mags = testing_data['magnitude'][:]"
   ]
  },
  {
   "cell_type": "code",
   "execution_count": 5,
   "id": "1375464f",
   "metadata": {},
   "outputs": [
    {
     "name": "stdout",
     "output_type": "stream",
     "text": [
      "4.390282893267543\n",
      "4.125973209193347\n",
      "4.200144092808031\n"
     ]
    }
   ],
   "source": [
    "print(np.mean(train_mags))\n",
    "print(np.mean(test_mags))\n",
    "print(np.mean(valid_mags))"
   ]
  },
  {
   "cell_type": "code",
   "execution_count": null,
   "id": "794f6cbe",
   "metadata": {},
   "outputs": [],
   "source": []
  }
 ],
 "metadata": {
  "kernelspec": {
   "display_name": "Python 3 (ipykernel)",
   "language": "python",
   "name": "python3"
  },
  "language_info": {
   "codemirror_mode": {
    "name": "ipython",
    "version": 3
   },
   "file_extension": ".py",
   "mimetype": "text/x-python",
   "name": "python",
   "nbconvert_exporter": "python",
   "pygments_lexer": "ipython3",
   "version": "3.8.8"
  }
 },
 "nbformat": 4,
 "nbformat_minor": 5
}
