{
 "cells": [
  {
   "cell_type": "code",
   "execution_count": 2,
   "id": "134baa41",
   "metadata": {},
   "outputs": [],
   "source": [
    "import numpy as np\n",
    "\n",
    "train_metadata = np.load('/home/sdybing/mlaapde/train_metadata_hypdists.npy', allow_pickle = True)"
   ]
  },
  {
   "cell_type": "code",
   "execution_count": 5,
   "id": "f6b8a31d",
   "metadata": {},
   "outputs": [],
   "source": [
    "# Columns:\n",
    "\n",
    "# 0: phase_id \n",
    "# 1: sta_lat\n",
    "# 2: sta_lon\n",
    "# 3: source_lat\n",
    "# 4: source_lon\n",
    "# 5: depth_km\n",
    "# 6: dist_km\n",
    "# 7: dist_deg"
   ]
  },
  {
   "cell_type": "code",
   "execution_count": 6,
   "id": "052d7bca",
   "metadata": {},
   "outputs": [
    {
     "data": {
      "text/plain": [
       "(2431341, 8)"
      ]
     },
     "execution_count": 6,
     "metadata": {},
     "output_type": "execute_result"
    }
   ],
   "source": [
    "train_metadata.shape"
   ]
  },
  {
   "cell_type": "code",
   "execution_count": 7,
   "id": "f24e92ba",
   "metadata": {},
   "outputs": [],
   "source": [
    "train_hypdists = train_metadata[:,6]"
   ]
  },
  {
   "cell_type": "code",
   "execution_count": 8,
   "id": "0be3f021",
   "metadata": {},
   "outputs": [
    {
     "name": "stdout",
     "output_type": "stream",
     "text": [
      "[2468.5467817920335 3269.185624306629 2084.5617685423535 ...\n",
      " 911.8946618625394 834.6798199569145 936.2610598718136]\n"
     ]
    }
   ],
   "source": [
    "print(train_hypdists)"
   ]
  },
  {
   "cell_type": "code",
   "execution_count": 11,
   "id": "9eb3e0de",
   "metadata": {},
   "outputs": [
    {
     "data": {
      "image/png": "[encoded data removed]",
      "text/plain": [
       "<Figure size 640x480 with 1 Axes>"
      ]
     },
     "metadata": {},
     "output_type": "display_data"
    }
   ],
   "source": [
    "import matplotlib.pyplot as plt\n",
    "\n",
    "plt.hist(train_hypdists, bins = 50, log = True);"
   ]
  },
  {
   "cell_type": "code",
   "execution_count": 12,
   "id": "6def9383",
   "metadata": {},
   "outputs": [
    {
     "name": "stdout",
     "output_type": "stream",
     "text": [
      "0.014435749856956793\n",
      "11081.64550107228\n",
      "3482.1103917563596\n"
     ]
    }
   ],
   "source": [
    "print(min(train_hypdists))\n",
    "print(max(train_hypdists))\n",
    "print(np.median(train_hypdists))"
   ]
  },
  {
   "cell_type": "code",
   "execution_count": 13,
   "id": "9df31597",
   "metadata": {},
   "outputs": [],
   "source": [
    "i = np.where(train_metadata[:,6] == min(train_hypdists))[0]"
   ]
  },
  {
   "cell_type": "code",
   "execution_count": 14,
   "id": "b4d98d1f",
   "metadata": {},
   "outputs": [
    {
     "name": "stdout",
     "output_type": "stream",
     "text": [
      "[['us10006qjm_GS.PW02.CH*.--_Pg' 36.43507 -96.905106 36.4352 -96.9051 5.1\n",
      "  0.014435749856956793 0.00012982381743999467]]\n"
     ]
    }
   ],
   "source": [
    "print(train_metadata[i])"
   ]
  },
  {
   "cell_type": "code",
   "execution_count": 15,
   "id": "bd0def4e",
   "metadata": {},
   "outputs": [],
   "source": [
    "import h5py\n",
    "\n",
    "### ----- Load the full dataset from HDF5 files ----- ###\n",
    "\n",
    "training_data = h5py.File('/hdd/mlaapde/decimated/training_data_full_decimate2.hdf5', 'r')\n",
    "\n",
    "train_mags = training_data['magnitude'][:]\n",
    "\n",
    "training_data.close()"
   ]
  },
  {
   "cell_type": "code",
   "execution_count": 18,
   "id": "fec2a4c6",
   "metadata": {},
   "outputs": [
    {
     "data": {
      "text/plain": [
       "array([4.1, 4.1, 4.1, ..., 3.8, 3.8, 3.8])"
      ]
     },
     "execution_count": 18,
     "metadata": {},
     "output_type": "execute_result"
    }
   ],
   "source": [
    "train_mags"
   ]
  },
  {
   "cell_type": "code",
   "execution_count": 39,
   "id": "e069a55c",
   "metadata": {},
   "outputs": [],
   "source": [
    "# Split magnitudes into bins, and then get the hypocentral distances for each bin to analyze\n",
    "\n",
    "magsless2 = []\n",
    "mags23 = []\n",
    "mags34 = []\n",
    "mags45 = []\n",
    "mags56 = []\n",
    "mags67 = []\n",
    "mags78 = []\n",
    "magsgreater8 = []\n",
    "\n",
    "for idx in range(len(train_mags)):\n",
    "    mag = train_mags[idx]\n",
    "    if mag <= 2:\n",
    "        magsless2.append(idx)\n",
    "    elif mag >2 and mag <= 3:\n",
    "        mags23.append(idx)\n",
    "    elif mag >3 and mag <= 4:\n",
    "        mags34.append(idx)\n",
    "    elif mag >4 and mag <= 5:\n",
    "        mags45.append(idx)\n",
    "    elif mag >5 and mag <= 6:\n",
    "        mags56.append(idx)\n",
    "    elif mag >6 and mag <= 7:\n",
    "        mags67.append(idx)\n",
    "    elif mag >7 and mag <= 8:\n",
    "        mags78.append(idx)\n",
    "    elif mag >8:\n",
    "        magsgreater8.append(idx)"
   ]
  },
  {
   "cell_type": "code",
   "execution_count": 40,
   "id": "ba10aa79",
   "metadata": {},
   "outputs": [
    {
     "name": "stdout",
     "output_type": "stream",
     "text": [
      "2431341\n"
     ]
    }
   ],
   "source": [
    "print(len(magsless2)+len(mags23)+len(mags34)+len(mags45)+len(mags56)+len(mags67)+len(mags78)+len(magsgreater8))"
   ]
  },
  {
   "cell_type": "code",
   "execution_count": 41,
   "id": "52b5e490",
   "metadata": {},
   "outputs": [],
   "source": [
    "distsless2 = train_hypdists[magsless2]\n",
    "dists23 = train_hypdists[mags23]\n",
    "dists34 = train_hypdists[mags34]\n",
    "dists45 = train_hypdists[mags45]\n",
    "dists56 = train_hypdists[mags56]\n",
    "dists67 = train_hypdists[mags67]\n",
    "dists78 = train_hypdists[mags78]\n",
    "distsgreater8 = train_hypdists[magsgreater8]"
   ]
  },
  {
   "cell_type": "code",
   "execution_count": 42,
   "id": "995f13b8",
   "metadata": {},
   "outputs": [],
   "source": [
    "means = []\n",
    "\n",
    "means.append(np.mean(distsless2))\n",
    "means.append(np.mean(dists23))\n",
    "means.append(np.mean(dists34))\n",
    "means.append(np.mean(dists45))\n",
    "means.append(np.mean(dists56))\n",
    "means.append(np.mean(dists67))\n",
    "means.append(np.mean(dists78))\n",
    "means.append(np.mean(distsgreater8))\n",
    "\n",
    "medians = []\n",
    "\n",
    "medians.append(np.median(distsless2))\n",
    "medians.append(np.median(dists23))\n",
    "medians.append(np.median(dists34))\n",
    "medians.append(np.median(dists45))\n",
    "medians.append(np.median(dists56))\n",
    "medians.append(np.median(dists67))\n",
    "medians.append(np.median(dists78))\n",
    "medians.append(np.median(distsgreater8))"
   ]
  },
  {
   "cell_type": "code",
   "execution_count": 43,
   "id": "37153b37",
   "metadata": {},
   "outputs": [],
   "source": [
    "groups = ['<M2', 'M2-3', 'M3-4', 'M4-5', 'M5-6', 'M6-7', 'M7-8', '>M8']"
   ]
  },
  {
   "cell_type": "code",
   "execution_count": 47,
   "id": "b614e28e",
   "metadata": {},
   "outputs": [],
   "source": [
    "plt.scatter(groups, means, label = \"Means\")\n",
    "plt.scatter(groups, medians, label = 'Medians')\n",
    "plt.legend()\n",
    "plt.ylim(min(train_hypdists), max(train_hypdists))\n",
    "plt.ylabel('Hypocentral distance (km)')\n",
    "plt.xlabel('Earthquakes in training dataset binned by magnitude')\n",
    "\n",
    "# plt.show()\n",
    "plt.savefig('/home/sdybing/mlaapde/testdata_preds/all_test_rerun/revised_figures/hypdist_distrib_by_mag.png', format = 'PNG')\n",
    "plt.close();"
   ]
  },
  {
   "cell_type": "code",
   "execution_count": null,
   "id": "bfa00191",
   "metadata": {},
   "outputs": [],
   "source": []
  }
 ],
 "metadata": {
  "kernelspec": {
   "display_name": "Python 3 (ipykernel)",
   "language": "python",
   "name": "python3"
  },
  "language_info": {
   "codemirror_mode": {
    "name": "ipython",
    "version": 3
   },
   "file_extension": ".py",
   "mimetype": "text/x-python",
   "name": "python",
   "nbconvert_exporter": "python",
   "pygments_lexer": "ipython3",
   "version": "3.8.8"
  }
 },
 "nbformat": 4,
 "nbformat_minor": 5
}
