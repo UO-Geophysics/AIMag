{
 "cells": [
  {
   "cell_type": "code",
   "execution_count": 1,
   "id": "1cbc03c7",
   "metadata": {},
   "outputs": [],
   "source": [
    "import pandas as pd\n",
    "import numpy as np"
   ]
  },
  {
   "cell_type": "code",
   "execution_count": 2,
   "id": "f446ab88",
   "metadata": {},
   "outputs": [
    {
     "name": "stderr",
     "output_type": "stream",
     "text": [
      "/tmp/ipykernel_3178034/3367429034.py:3: DtypeWarning: Columns (38) have mixed types. Specify dtype option on import or set low_memory=False.\n",
      "  metadata = pd.read_csv('/home/sdybing/mlaapde/mlaapde_metadata.csv')\n"
     ]
    }
   ],
   "source": [
    "# Metadata to get distances for MLAAPDE data only\n",
    "\n",
    "metadata = pd.read_csv('/home/sdybing/mlaapde/mlaapde_metadata.csv')\n",
    "pd.set_option('display.max_columns', None)"
   ]
  },
  {
   "cell_type": "code",
   "execution_count": 3,
   "id": "3f62552f",
   "metadata": {},
   "outputs": [
    {
     "name": "stdout",
     "output_type": "stream",
     "text": [
      "(5101567, 56)\n"
     ]
    }
   ],
   "source": [
    "np_metadata = metadata.to_numpy()\n",
    "print(np_metadata.shape)"
   ]
  },
  {
   "cell_type": "code",
   "execution_count": 4,
   "id": "9967da4e",
   "metadata": {},
   "outputs": [
    {
     "name": "stdout",
     "output_type": "stream",
     "text": [
      "(2431341,)\n",
      "(489268,)\n",
      "(324365,)\n"
     ]
    }
   ],
   "source": [
    "train_match_id_idxs = np.loadtxt('/home/sdybing/mlaapde/match_id_idxs_traindata.txt')\n",
    "train_idxs = train_match_id_idxs.astype(int)\n",
    "print(train_idxs.shape)\n",
    "\n",
    "valid_match_id_idxs = np.loadtxt('/home/sdybing/mlaapde/match_id_idxs_validdata.txt')\n",
    "valid_idxs = valid_match_id_idxs.astype(int)\n",
    "print(valid_idxs.shape)\n",
    "\n",
    "test_match_id_idxs = np.loadtxt('/home/sdybing/mlaapde/match_id_idxs_testdata.txt')\n",
    "test_idxs = test_match_id_idxs.astype(int)\n",
    "print(test_idxs.shape)"
   ]
  },
  {
   "cell_type": "code",
   "execution_count": 15,
   "id": "330eeca4",
   "metadata": {},
   "outputs": [],
   "source": [
    "all_phase_ids = np_metadata[:,1]\n",
    "train_phase_ids = all_phase_ids[train_idxs]\n",
    "valid_phase_ids = all_phase_ids[valid_idxs]\n",
    "test_phase_ids = all_phase_ids[test_idxs]"
   ]
  },
  {
   "cell_type": "code",
   "execution_count": 20,
   "id": "2ace946d",
   "metadata": {},
   "outputs": [],
   "source": [
    "# Pull out network operators\n",
    "\n",
    "train_nets = []\n",
    "for idx in range(len(train_phase_ids)):\n",
    "    pid = train_phase_ids[idx]\n",
    "    net = pid.split('_')[1].split('.')[0]\n",
    "    train_nets.append(net)\n",
    "    \n",
    "valid_nets = []\n",
    "for idx in range(len(valid_phase_ids)):\n",
    "    pid = valid_phase_ids[idx]\n",
    "    net = pid.split('_')[1].split('.')[0]\n",
    "    valid_nets.append(net)\n",
    "    \n",
    "test_nets = []\n",
    "for idx in range(len(test_phase_ids)):\n",
    "    pid = test_phase_ids[idx]\n",
    "    net = pid.split('_')[1].split('.')[0]\n",
    "    test_nets.append(net)"
   ]
  },
  {
   "cell_type": "code",
   "execution_count": 21,
   "id": "6bfe1cad",
   "metadata": {},
   "outputs": [
    {
     "name": "stdout",
     "output_type": "stream",
     "text": [
      "2431341\n",
      "489268\n",
      "324365\n"
     ]
    }
   ],
   "source": [
    "print(len(train_nets))\n",
    "print(len(valid_nets))\n",
    "print(len(test_nets))"
   ]
  },
  {
   "cell_type": "code",
   "execution_count": 41,
   "id": "3c075aa9",
   "metadata": {},
   "outputs": [],
   "source": [
    "all_nets = train_nets + valid_nets + test_nets"
   ]
  },
  {
   "cell_type": "code",
   "execution_count": 42,
   "id": "b5175366",
   "metadata": {},
   "outputs": [
    {
     "data": {
      "text/plain": [
       "3244974"
      ]
     },
     "execution_count": 42,
     "metadata": {},
     "output_type": "execute_result"
    }
   ],
   "source": [
    "len(all_nets)"
   ]
  },
  {
   "cell_type": "code",
   "execution_count": 43,
   "id": "49a91994",
   "metadata": {},
   "outputs": [],
   "source": [
    "unique_nets = list(set(all_nets))"
   ]
  },
  {
   "cell_type": "code",
   "execution_count": 44,
   "id": "5304225c",
   "metadata": {},
   "outputs": [
    {
     "data": {
      "text/plain": [
       "131"
      ]
     },
     "execution_count": 44,
     "metadata": {},
     "output_type": "execute_result"
    }
   ],
   "source": [
    "len(unique_nets)"
   ]
  },
  {
   "cell_type": "code",
   "execution_count": 45,
   "id": "d4222fed",
   "metadata": {},
   "outputs": [],
   "source": [
    "sort_nets = np.sort(unique_nets)"
   ]
  },
  {
   "cell_type": "code",
   "execution_count": 46,
   "id": "c439ac71",
   "metadata": {},
   "outputs": [
    {
     "data": {
      "text/plain": [
       "array(['AC', 'AE', 'AF', 'AG', 'AI', 'AK', 'AT', 'AU', 'AV', 'AY', 'AZ',\n",
       "       'BC', 'BE', 'BK', 'BL', 'BX', 'C', 'C0', 'C1', 'CA', 'CC', 'CH',\n",
       "       'CI', 'CM', 'CN', 'CO', 'CW', 'CY', 'CZ', 'DK', 'DR', 'EC', 'EO',\n",
       "       'EP', 'ET', 'G', 'GB', 'GE', 'GM', 'GO', 'GR', 'GS', 'GT', 'HK',\n",
       "       'HL', 'HT', 'HV', 'IE', 'II', 'IM', 'IN', 'IO', 'IU', 'JP', 'KC',\n",
       "       'KG', 'KN', 'KO', 'KR', 'KS', 'KY', 'KZ', 'LB', 'LD', 'LO', 'LX',\n",
       "       'MB', 'MG', 'MI', 'MM', 'MN', 'MP', 'MU', 'MX', 'MY', 'N4', 'NA',\n",
       "       'NC', 'NI', 'NM', 'NN', 'NP', 'NQ', 'NU', 'NV', 'NY', 'NZ', 'O2',\n",
       "       'OE', 'OH', 'OK', 'OO', 'OV', 'OX', 'PA', 'PE', 'PL', 'PM', 'PO',\n",
       "       'PR', 'PS', 'PT', 'RM', 'RO', 'RV', 'SB', 'SC', 'SE', 'SN', 'SS',\n",
       "       'SV', 'TA', 'TC', 'TJ', 'TM', 'TW', 'TX', 'UO', 'US', 'UU', 'UW',\n",
       "       'VU', 'WC', 'WI', 'WM', 'WU', 'WY', 'YX', 'ZC', 'ZD', 'ZW'],\n",
       "      dtype='<U2')"
      ]
     },
     "execution_count": 46,
     "metadata": {},
     "output_type": "execute_result"
    }
   ],
   "source": [
    "sort_nets"
   ]
  },
  {
   "cell_type": "code",
   "execution_count": null,
   "id": "91679b37",
   "metadata": {},
   "outputs": [],
   "source": []
  }
 ],
 "metadata": {
  "kernelspec": {
   "display_name": "Python 3 (ipykernel)",
   "language": "python",
   "name": "python3"
  },
  "language_info": {
   "codemirror_mode": {
    "name": "ipython",
    "version": 3
   },
   "file_extension": ".py",
   "mimetype": "text/x-python",
   "name": "python",
   "nbconvert_exporter": "python",
   "pygments_lexer": "ipython3",
   "version": "3.8.8"
  }
 },
 "nbformat": 4,
 "nbformat_minor": 5
}
