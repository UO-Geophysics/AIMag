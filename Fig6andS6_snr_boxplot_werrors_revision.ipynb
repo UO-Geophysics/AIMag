{
 "cells": [
  {
   "cell_type": "code",
   "execution_count": 99,
   "id": "c5d9d33b",
   "metadata": {},
   "outputs": [],
   "source": [
    "import matplotlib.pyplot as plt\n",
    "import matplotlib.ticker as ticker\n",
    "import numpy as np\n",
    "import h5py"
   ]
  },
  {
   "cell_type": "code",
   "execution_count": 100,
   "id": "2fb1da00",
   "metadata": {},
   "outputs": [],
   "source": [
    "cut_lens = [7, 8, 9, 10, 11, 12, 13, 14, 15, 16, 17, 18, 19, 20, 25, 30, 35, 40, 50, 60, 70, 80, 90, 100, 110, 120]\n",
    "cut_lens_test = [7, 120]\n",
    "desired_shift = 3\n",
    "max_shift = desired_shift * 2"
   ]
  },
  {
   "cell_type": "code",
   "execution_count": 101,
   "id": "895208f9",
   "metadata": {},
   "outputs": [],
   "source": [
    "### ----- Load the MLAAPDE testing dataset from HDF5 files ----- ###\n",
    "\n",
    "hdf5_save_dir = '/hdd/mlaapde/decimated'\n",
    "\n",
    "testing_data = h5py.File(hdf5_save_dir + '/testing_data.hdf5', 'r')\n",
    "mlaa_snrs = testing_data['snr_db'][:]\n",
    "\n",
    "testing_data.close()"
   ]
  },
  {
   "cell_type": "code",
   "execution_count": 102,
   "id": "3b117edd",
   "metadata": {},
   "outputs": [],
   "source": [
    "mlaa_snrs_dB = mlaa_snrs / np.log(10)"
   ]
  },
  {
   "cell_type": "code",
   "execution_count": 103,
   "id": "4e835fb8",
   "metadata": {},
   "outputs": [
    {
     "name": "stdout",
     "output_type": "stream",
     "text": [
      "324365\n",
      "324365\n"
     ]
    }
   ],
   "source": [
    "print(len(mlaa_snrs))\n",
    "print(len(mlaa_snrs_dB))"
   ]
  },
  {
   "cell_type": "code",
   "execution_count": 104,
   "id": "aa3ff359",
   "metadata": {},
   "outputs": [
    {
     "name": "stdout",
     "output_type": "stream",
     "text": [
      "-75.6556888927\n",
      "-32.856848210688746\n",
      "162.927618425\n",
      "70.75856563161607\n"
     ]
    }
   ],
   "source": [
    "print(min(mlaa_snrs))\n",
    "print(min(mlaa_snrs_dB))\n",
    "\n",
    "print(max(mlaa_snrs))\n",
    "print(max(mlaa_snrs_dB))"
   ]
  },
  {
   "cell_type": "code",
   "execution_count": 105,
   "id": "cc4ae278",
   "metadata": {},
   "outputs": [],
   "source": [
    "round_mlaa_snrs_5 = np.round(mlaa_snrs_dB / 5) * 5\n",
    "round_mlaa_snrs_2 = np.round(mlaa_snrs_dB / 2) * 2"
   ]
  },
  {
   "cell_type": "code",
   "execution_count": 106,
   "id": "35386b6b",
   "metadata": {},
   "outputs": [
    {
     "data": {
      "text/plain": [
       "(324365,)"
      ]
     },
     "execution_count": 106,
     "metadata": {},
     "output_type": "execute_result"
    }
   ],
   "source": [
    "mlaa_snrs_dB.shape"
   ]
  },
  {
   "cell_type": "code",
   "execution_count": 107,
   "id": "caa30341",
   "metadata": {},
   "outputs": [
    {
     "data": {
      "text/plain": [
       "array([10., -0., -0., ...,  0., -0.,  5.])"
      ]
     },
     "execution_count": 107,
     "metadata": {},
     "output_type": "execute_result"
    }
   ],
   "source": [
    "round_mlaa_snrs_5"
   ]
  },
  {
   "cell_type": "code",
   "execution_count": 108,
   "id": "1cbf5271",
   "metadata": {},
   "outputs": [
    {
     "data": {
      "text/plain": [
       "array([12., -2., -0., ...,  2., -2.,  2.])"
      ]
     },
     "execution_count": 108,
     "metadata": {},
     "output_type": "execute_result"
    }
   ],
   "source": [
    "round_mlaa_snrs_2"
   ]
  },
  {
   "cell_type": "code",
   "execution_count": 109,
   "id": "84925f5d",
   "metadata": {},
   "outputs": [
    {
     "name": "stdout",
     "output_type": "stream",
     "text": [
      "-32.0\n",
      "-32.856848210688746\n",
      "70.0\n",
      "70.75856563161607\n"
     ]
    }
   ],
   "source": [
    "print(min(round_mlaa_snrs_2))\n",
    "print(min(mlaa_snrs_dB))\n",
    "\n",
    "print(max(round_mlaa_snrs_2))\n",
    "print(max(mlaa_snrs_dB))"
   ]
  },
  {
   "cell_type": "code",
   "execution_count": 110,
   "id": "c41c308b",
   "metadata": {},
   "outputs": [],
   "source": [
    "# How snr is calculated in MLAAPDE - try this with historic data\n",
    "\n",
    "# noise = wave[:,0:(self.pre_event_sec-1)*self.resample_hz]\n",
    "# idxp = self.pre_event_sec*self.resample_hz\n",
    "# signal = wave[:,idxp:idxp+int(self.post_event_sec/2)*self.resample_hz]\n",
    "# noise_rms = np.sqrt(np.mean(noise**2))\n",
    "# signal_rms = np.sqrt(np.mean(signal**2))\n",
    "# snr = signal_rms/noise_rms\n",
    "# snr_db = 20*np.log(snr)"
   ]
  },
  {
   "cell_type": "code",
   "execution_count": 111,
   "id": "e5438490",
   "metadata": {},
   "outputs": [
    {
     "name": "stdout",
     "output_type": "stream",
     "text": [
      "(13449, 2400, 3)\n",
      "(13449, 2400, 3)\n",
      "(13151, 2400, 3)\n",
      "(13449,)\n",
      "(13151,)\n"
     ]
    }
   ],
   "source": [
    "### ----- Load the historic testing dataset ----- ###\n",
    "\n",
    "historic_path = '/hdd/mlaapde/decimated/'\n",
    "\n",
    "historic_test_waves = np.load(historic_path + 'historic_test_waves.npy')\n",
    "historic_test_mags = np.load(historic_path + 'historic_test_mags.npy')\n",
    "print(historic_test_waves.shape)\n",
    "n_channels_hist = 3\n",
    "\n",
    "bad_hist_indices = np.loadtxt('/home/sdybing/mlaapde/codes/bad_historic_waves.txt').astype(int)\n",
    "\n",
    "historic_test_waves_nonan = np.delete(historic_test_waves, bad_hist_indices, axis = 0)\n",
    "historic_test_mags_nonan = np.delete(historic_test_mags, bad_hist_indices, axis = 0)\n",
    "\n",
    "print(historic_test_waves.shape)\n",
    "print(historic_test_waves_nonan.shape)\n",
    "print(historic_test_mags.shape)\n",
    "print(historic_test_mags_nonan.shape)\n",
    "\n",
    "n_historic_test_samp = len(historic_test_waves_nonan)"
   ]
  },
  {
   "cell_type": "code",
   "execution_count": 112,
   "id": "14054c09",
   "metadata": {},
   "outputs": [],
   "source": [
    "hist_waves = historic_test_waves_nonan"
   ]
  },
  {
   "cell_type": "code",
   "execution_count": 113,
   "id": "7bf2fec0",
   "metadata": {},
   "outputs": [
    {
     "data": {
      "text/plain": [
       "(60, 3)"
      ]
     },
     "execution_count": 113,
     "metadata": {},
     "output_type": "execute_result"
    }
   ],
   "source": [
    "hist_waves[0,0:60].shape"
   ]
  },
  {
   "cell_type": "code",
   "execution_count": 114,
   "id": "4d3cad1e",
   "metadata": {},
   "outputs": [],
   "source": [
    "# noise = wave[:,0:(self.pre_event_sec-1)*self.resample_hz]\n",
    "# idxp = self.pre_event_sec*self.resample_hz\n",
    "# signal = wave[:,idxp:idxp+int(self.post_event_sec/2)*self.resample_hz]\n",
    "# noise_rms = np.sqrt(np.mean(noise**2))\n",
    "# signal_rms = np.sqrt(np.mean(signal**2))\n",
    "# snr = signal_rms/noise_rms\n",
    "# snr_db = 20*np.log(snr)"
   ]
  },
  {
   "cell_type": "code",
   "execution_count": 115,
   "id": "8afe58a8",
   "metadata": {},
   "outputs": [],
   "source": [
    "hist_snrs = []\n",
    "\n",
    "for idx in range(len(hist_waves)):\n",
    "    \n",
    "    wave = hist_waves[idx]\n",
    "#     print(wave.shape)\n",
    "    noise = hist_waves[idx, 0 : 59*20]\n",
    "#     print(noise.shape)\n",
    "    signal = hist_waves[idx, 60*20 : 60*20 + 30*20]\n",
    "#     print(signal.shape)\n",
    "    noise_rms = np.sqrt(np.mean(noise**2))\n",
    "#     print(noise_rms)\n",
    "    signal_rms = np.sqrt(np.mean(signal**2))\n",
    "#     print(signal_rms)\n",
    "    snr = signal_rms/noise_rms\n",
    "#     print(snr)\n",
    "    snr_db = 20*np.log10(snr)\n",
    "#     print(snr_db)\n",
    "\n",
    "    hist_snrs.append(snr_db)"
   ]
  },
  {
   "cell_type": "code",
   "execution_count": 116,
   "id": "c479e4ef",
   "metadata": {},
   "outputs": [],
   "source": [
    "hist_snrs_arr = np.array(hist_snrs)"
   ]
  },
  {
   "cell_type": "code",
   "execution_count": 117,
   "id": "d375b7e5",
   "metadata": {},
   "outputs": [
    {
     "data": {
      "text/plain": [
       "(13151,)"
      ]
     },
     "execution_count": 117,
     "metadata": {},
     "output_type": "execute_result"
    }
   ],
   "source": [
    "hist_snrs_arr.shape"
   ]
  },
  {
   "cell_type": "code",
   "execution_count": 118,
   "id": "12ca9c71",
   "metadata": {},
   "outputs": [],
   "source": [
    "round_hist_snrs_5 = np.round(hist_snrs_arr / 5) * 5\n",
    "round_hist_snrs_2 = np.round(hist_snrs_arr / 2) * 2"
   ]
  },
  {
   "cell_type": "code",
   "execution_count": 119,
   "id": "ffc75988",
   "metadata": {},
   "outputs": [],
   "source": [
    "round_snrs_5 = np.concatenate((round_mlaa_snrs_5, round_hist_snrs_5))\n",
    "round_snrs_2 = np.concatenate((round_mlaa_snrs_2, round_hist_snrs_2))"
   ]
  },
  {
   "cell_type": "code",
   "execution_count": 120,
   "id": "31c24a9e",
   "metadata": {},
   "outputs": [
    {
     "data": {
      "text/plain": [
       "(337516,)"
      ]
     },
     "execution_count": 120,
     "metadata": {},
     "output_type": "execute_result"
    }
   ],
   "source": [
    "round_snrs_5.shape"
   ]
  },
  {
   "cell_type": "code",
   "execution_count": 121,
   "id": "b6e9836b",
   "metadata": {},
   "outputs": [
    {
     "data": {
      "text/plain": [
       "(337516,)"
      ]
     },
     "execution_count": 121,
     "metadata": {},
     "output_type": "execute_result"
    }
   ],
   "source": [
    "round_snrs_2.shape"
   ]
  },
  {
   "cell_type": "code",
   "execution_count": 124,
   "id": "2b67c67d",
   "metadata": {},
   "outputs": [
    {
     "name": "stdout",
     "output_type": "stream",
     "text": [
      "1\n",
      "2\n",
      "3\n",
      "4\n",
      "5\n",
      "6\n",
      "7\n",
      "8\n",
      "9\n",
      "10\n",
      "11\n",
      "12\n",
      "13\n",
      "14\n",
      "19\n",
      "24\n",
      "29\n",
      "34\n",
      "44\n",
      "54\n",
      "64\n",
      "74\n",
      "84\n",
      "94\n",
      "104\n",
      "114\n"
     ]
    }
   ],
   "source": [
    "### ----- FIGURE 6 ----- ###\n",
    "\n",
    "for cut_len in cut_lens:\n",
    "    \n",
    "    shift_len = cut_len - max_shift\n",
    "    print(shift_len)\n",
    "    errors = np.loadtxt('/home/sdybing/mlaapde/testdata_preds/all_test_rerun/errors/' + str(shift_len) + 's_window_errors.txt')\n",
    "#     errors_mlaa = errors[:324365]\n",
    "#     print(len(errors_mlaa))\n",
    "    \n",
    "#     bins = np.arange(-35,75,5)\n",
    "    bins = np.arange(-34,74,2)\n",
    "#     print(bins)\n",
    "    data_bins = []\n",
    "#     histogram_bins = []\n",
    "\n",
    "    for abin in bins:\n",
    "#         print(abin)\n",
    "#         i = np.where(round_snrs_5 == abin)[0]\n",
    "        i = np.where(round_snrs_2 == abin)[0]\n",
    "#         print(round_dist[i])\n",
    "        error_bin = np.array(errors[i])\n",
    "    #     print(error_bin)\n",
    "        data_bins.append(error_bin)\n",
    "#         histogram_bins.append(np.array(round_dist_200[i])) # doesn't work\n",
    "    #     print('-----')\n",
    "\n",
    "    fig = plt.figure(figsize = (14, 9), dpi = 300, facecolor = 'none')\n",
    "\n",
    "    plt.rcParams['text.usetex'] = False\n",
    "\n",
    "    fig.suptitle('Magnitude estimation error by signal to noise ratio (dB) - ' + str(shift_len) + 's window', fontsize = 20, y = 0.93, color = 'black')\n",
    "    ax = fig.add_subplot(111)\n",
    "    \n",
    "#     both_depth_10 = [round_depth_10_mlaa/10+0.5, round_depth_10_hist/10+0.5]\n",
    "#     histcount_mlaa, histbins_mlaa  = np.histogram(round_mlaa_snrs_5, bins = bins)\n",
    "#     histcount_hist, histbins_hist  = np.histogram(round_hist_snrs_5, bins = bins)\n",
    "    histcount_mlaa, histbins_mlaa  = np.histogram(round_mlaa_snrs_2, bins = bins)\n",
    "    histcount_hist, histbins_hist  = np.histogram(round_hist_snrs_2, bins = bins)\n",
    "            \n",
    "    ax2 = ax.twinx()\n",
    "    ax2.set_yscale('log')\n",
    "#     ax2.hist(both_depth_10, bins = 70, color = ['#730114', '#f01f42'], stacked = True, zorder = 3.5) # 730114\n",
    "#     ax2.bar(x = histbins_hist[:-1]/5+8, height = histcount_hist+histcount_mlaa, align = 'center', width = 1, color = '#f01f42', alpha = 0.7) # Adding height of other bar so that it's stacked properly\n",
    "#     ax2.bar(x = histbins_mlaa[:-1]/5+8, height = histcount_mlaa, align = 'center', width = 1, color = 'black', alpha = 0.35)\n",
    "    ax2.bar(x = histbins_hist[:-1]/2+18, height = histcount_hist+histcount_mlaa, align = 'center', width = 1, color = '#f01f42', alpha = 0.7) # Adding height of other bar so that it's stacked properly\n",
    "    ax2.bar(x = histbins_mlaa[:-1]/2+18, height = histcount_mlaa, align = 'center', width = 1, color = 'black', alpha = 0.35)\n",
    "#     both_snrs_5 = [round_mlaa_snrs_5/5+15.85, round_hist_snrs_5/5+15.85]\n",
    "#     ax2 = ax.twinx()\n",
    "#     ax2.set_yscale('log')\n",
    "#     ax2.hist(both_snrs_5, bins = bins, color = ['#730114', '#f01f42'], stacked = True, alpha = 0.45, zorder = 3.5)\n",
    "# #     ax2.set_ylim(0, 150000)\n",
    "    ax2.set_ylim(10**-1, 10**19)\n",
    "    ax2.set_yticks([10**0, 10**2, 10**4])\n",
    "    ax2.set_yticklabels(['1', '100', '10,000'])\n",
    "#     ax2.set_yticks([0, 10000, 20000, 30000, 40000])\n",
    "#     ax2.set_yticklabels(['0', '10,000', '20,000', '30,000', '40,000'], style = 'italic')\n",
    "    ax2.text(s = 'Log count of waveforms\\nin each SNR bin', x = 55, y = 600000, fontsize = 18, color = 'black', rotation = 270)\n",
    "    ax2.tick_params(labelsize = 18, color = 'black')\n",
    "    ax2.set_zorder(2.9)\n",
    "    mlaa_label = ax2.text(s = 'MLAAPDE test data distrib.', x = 37, y = 10**18, fontsize = 18, backgroundcolor = '#730114', color = 'white', zorder = 25)\n",
    "    hist_label = ax2.text(s = 'Historic test data distrib.', x = 38.3, y = 5*10**16, fontsize = 18, backgroundcolor = '#f01f42', color = 'white', zorder = 25)\n",
    "    mlaa_label.set_bbox(dict(facecolor = '#730114', alpha = 0.7, edgecolor = 'none'))\n",
    "    hist_label.set_bbox(dict(facecolor = '#f01f42', alpha = 0.7, edgecolor = 'none'))\n",
    "    \n",
    "    ax.grid(which = 'major', axis = 'y', markevery = 0.5, zorder = 2)\n",
    "    ax.grid(which = 'major', axis = 'x', zorder = 2.5)\n",
    "\n",
    "    bp = ax.boxplot(data_bins, notch = False, patch_artist = True, zorder = 3)\n",
    "    \n",
    "    ax.set_facecolor('none')\n",
    "    \n",
    "    for patch in bp['boxes']:\n",
    "        patch.set_facecolor('#99D9D9') \n",
    "        patch.set_edgecolor('#001528')\n",
    "    for median in bp['medians']:\n",
    "        median.set(color = '#001528', linewidth = 3)\n",
    "    for whisker in bp['whiskers']:\n",
    "        whisker.set(color = '#001528', linewidth = 1)\n",
    "    for cap in bp['caps']:\n",
    "        cap.set(color = '#001528', linewidth = 1)\n",
    "    for flier in bp['fliers']:\n",
    "        flier.set(marker = '+', color = '#001528', alpha = 0.5)\n",
    "\n",
    "    bins_list = bins.tolist()\n",
    "    ax.set_xticklabels(bins_list, fontsize = 18, color = 'black')\n",
    "    ax.xaxis.set_major_locator(ticker.FixedLocator([1, 11, 21, 31, 41, 51, 61, 71, 81, 91, 101]))\n",
    "#     ax.xaxis.set_major_locator(ticker.FixedLocator([0, 10]))\n",
    "    ax.axhline(0, color = 'gray', linestyle = '--', linewidth = 2, alpha = 0.8, zorder = 2)\n",
    "    ax.tick_params(labelsize = 18, color = 'black')\n",
    "    ax.set_ylabel('Magnitude error (estimated - catalog)', fontsize = 20, color = 'black')\n",
    "    ax.set_xlabel('Signal to noise ratio (dB)', fontsize = 20, color = 'black')\n",
    "    ax.set_ylim(-7,5)\n",
    "    ax.set_zorder(3.1)\n",
    "    ax.set_alpha(0)\n",
    "\n",
    "#     plt.show();\n",
    "    plt.savefig('/home/sdybing/mlaapde/testdata_preds/all_test_rerun/revised_figures/error_snr_boxplots/' + str(shift_len) + 's_window_error_snr_boxplot.png', format = 'PNG', facecolor = 'white', transparent = False)\n",
    "    plt.close();"
   ]
  },
  {
   "cell_type": "code",
   "execution_count": 32,
   "id": "ef2b6617",
   "metadata": {},
   "outputs": [],
   "source": [
    "bins = np.arange(-80,170,5)"
   ]
  },
  {
   "cell_type": "code",
   "execution_count": 33,
   "id": "6b2a9be7",
   "metadata": {},
   "outputs": [
    {
     "data": {
      "text/plain": [
       "50"
      ]
     },
     "execution_count": 33,
     "metadata": {},
     "output_type": "execute_result"
    }
   ],
   "source": [
    "len(bins)"
   ]
  },
  {
   "cell_type": "code",
   "execution_count": 34,
   "id": "e37b1219",
   "metadata": {},
   "outputs": [
    {
     "data": {
      "text/plain": [
       "165.0"
      ]
     },
     "execution_count": 34,
     "metadata": {},
     "output_type": "execute_result"
    }
   ],
   "source": [
    "max(round_snrs_5)"
   ]
  },
  {
   "cell_type": "code",
   "execution_count": 49,
   "id": "6d20108c",
   "metadata": {},
   "outputs": [],
   "source": [
    "### Separating by groups\n",
    "\n",
    "very_small_mag_is = np.load('/home/sdybing/mlaapde/testdata_preds/all_test_rerun/very_small_mag_is.npy')\n",
    "small_mag_is = np.load('/home/sdybing/mlaapde/testdata_preds/all_test_rerun/small_mag_is.npy')\n",
    "med_mag_is = np.load('/home/sdybing/mlaapde/testdata_preds/all_test_rerun/med_mag_is.npy')\n",
    "all_big_mag_is = np.load('/home/sdybing/mlaapde/testdata_preds/all_test_rerun/all_big_mag_is.npy')"
   ]
  },
  {
   "cell_type": "code",
   "execution_count": 50,
   "id": "b38351c7",
   "metadata": {},
   "outputs": [
    {
     "name": "stdout",
     "output_type": "stream",
     "text": [
      "1\n",
      "2\n",
      "3\n",
      "4\n",
      "5\n",
      "6\n",
      "7\n",
      "8\n",
      "9\n",
      "10\n",
      "11\n",
      "12\n",
      "13\n",
      "14\n",
      "19\n",
      "24\n",
      "29\n",
      "34\n",
      "44\n",
      "54\n",
      "64\n",
      "74\n",
      "84\n",
      "94\n",
      "104\n",
      "114\n"
     ]
    }
   ],
   "source": [
    "for cut_len in cut_lens:\n",
    "    \n",
    "    group = very_small_mag_is\n",
    "    \n",
    "    shift_len = cut_len - max_shift\n",
    "    print(shift_len)\n",
    "    errors = np.loadtxt('/home/sdybing/mlaapde/testdata_preds/all_test_rerun/errors/' + str(shift_len) + 's_window_errors.txt')\n",
    "    group_errors = errors[group]\n",
    "#     errors_mlaa = errors[:324365]\n",
    "#     print(len(errors_mlaa))\n",
    "\n",
    "    snrs = round_snrs_5[group]\n",
    "    \n",
    "    bins = np.arange(-80,175,5)\n",
    "#     print(bins)\n",
    "    data_bins = []\n",
    "#     histogram_bins = []\n",
    "\n",
    "    for abin in bins:\n",
    "#         print(abin)\n",
    "        i = np.where(snrs == abin)[0]\n",
    "#         print(round_dist[i])\n",
    "        error_bin = np.array(group_errors[i])\n",
    "    #     print(error_bin)\n",
    "        data_bins.append(error_bin)\n",
    "#         histogram_bins.append(np.array(round_dist_200[i])) # doesn't work\n",
    "    #     print('-----')\n",
    "\n",
    "    fig = plt.figure(figsize = (14, 9), dpi = 300, facecolor = 'none')\n",
    "\n",
    "    plt.rcParams['text.usetex'] = False\n",
    "\n",
    "    fig.suptitle('M0.7-3.0: Magnitude prediction error by signal to noise ratio (dB) - ' + str(shift_len) + 's window', fontsize = 20, y = 0.93, color = 'black')\n",
    "    ax = fig.add_subplot(111)\n",
    "    \n",
    "# #     both_depth_10 = [round_depth_10_mlaa/10+0.5, round_depth_10_hist/10+0.5]\n",
    "#     histcount_mlaa, histbins_mlaa  = np.histogram(round_mlaa_snrs_5, bins = bins)\n",
    "#     histcount_hist, histbins_hist  = np.histogram(round_hist_snrs_5, bins = bins)\n",
    "            \n",
    "#     ax2 = ax.twinx()\n",
    "#     ax2.set_yscale('log')\n",
    "# #     ax2.hist(both_depth_10, bins = 70, color = ['#730114', '#f01f42'], stacked = True, zorder = 3.5) # 730114\n",
    "#     ax2.bar(x = histbins_hist[:-1]/5+17, height = histcount_hist+histcount_mlaa, align = 'center', width = 1, color = '#f01f42', alpha = 0.7) # Adding height of other bar so that it's stacked properly\n",
    "#     ax2.bar(x = histbins_mlaa[:-1]/5+17, height = histcount_mlaa, align = 'center', width = 1, color = 'black', alpha = 0.35)\n",
    "# #     both_snrs_5 = [round_mlaa_snrs_5/5+15.85, round_hist_snrs_5/5+15.85]\n",
    "# #     ax2 = ax.twinx()\n",
    "# #     ax2.set_yscale('log')\n",
    "# #     ax2.hist(both_snrs_5, bins = bins, color = ['#730114', '#f01f42'], stacked = True, alpha = 0.45, zorder = 3.5)\n",
    "# # #     ax2.set_ylim(0, 150000)\n",
    "#     ax2.set_ylim(10**-1, 10**19)\n",
    "#     ax2.set_yticks([10**0, 10**2, 10**4])\n",
    "#     ax2.set_yticklabels(['1', '100', '10,000'], style = 'italic')\n",
    "# #     ax2.set_yticks([0, 10000, 20000, 30000, 40000])\n",
    "# #     ax2.set_yticklabels(['0', '10,000', '20,000', '30,000', '40,000'], style = 'italic')\n",
    "#     ax2.text(s = 'Log count of waveforms\\nin each SNR bin', x = 52, y = 600000, fontsize = 16, color = 'black', rotation = 270, style = 'italic')\n",
    "#     ax2.tick_params(labelsize = 14, color = 'black')\n",
    "#     ax2.set_zorder(2.9)\n",
    "#     mlaa_label = ax2.text(s = 'MLAAPDE test data distrib.', x = 35, y = 10**18, fontsize = 18, backgroundcolor = '#730114', color = 'white', zorder = 25)\n",
    "#     hist_label = ax2.text(s = 'Historic test data distrib.', x = 36.22, y = 5*10**16, fontsize = 18, backgroundcolor = '#f01f42', color = 'white', zorder = 25)\n",
    "#     mlaa_label.set_bbox(dict(facecolor = '#730114', alpha = 0.7, edgecolor = 'none'))\n",
    "#     hist_label.set_bbox(dict(facecolor = '#f01f42', alpha = 0.7, edgecolor = 'none'))\n",
    "    \n",
    "    ax.grid(which = 'major', axis = 'y', markevery = 0.5, zorder = 2)\n",
    "    ax.grid(which = 'major', axis = 'x', zorder = 2.5)\n",
    "\n",
    "    bp = ax.boxplot(data_bins, notch = False, patch_artist = True, zorder = 3)\n",
    "    \n",
    "    ax.set_facecolor('none')\n",
    "    \n",
    "    for patch in bp['boxes']:\n",
    "        patch.set_facecolor('#99D9D9') \n",
    "        patch.set_edgecolor('#001528')\n",
    "    for median in bp['medians']:\n",
    "        median.set(color = '#001528', linewidth = 3)\n",
    "    for whisker in bp['whiskers']:\n",
    "        whisker.set(color = '#001528', linewidth = 1)\n",
    "    for cap in bp['caps']:\n",
    "        cap.set(color = '#001528', linewidth = 1)\n",
    "    for flier in bp['fliers']:\n",
    "        flier.set(marker = '+', color = '#001528', alpha = 0.5)\n",
    "\n",
    "    bins_list = bins.tolist()\n",
    "    ax.set_xticklabels(bins_list, fontsize = 14, color = 'black')\n",
    "    ax.xaxis.set_major_locator(ticker.FixedLocator([1, 11, 21, 31, 41, 51, 61, 71, 81, 91, 101]))\n",
    "#     ax.xaxis.set_major_locator(ticker.FixedLocator([0, 10]))\n",
    "    ax.axhline(0, color = 'gray', linestyle = '--', linewidth = 2, alpha = 0.8, zorder = 2)\n",
    "    ax.tick_params(labelsize = 14, color = 'black')\n",
    "    ax.set_ylabel('Magnitude error (predicted - catalog)', fontsize = 16, color = 'black')\n",
    "    ax.set_xlabel('Signal to noise ratio (dB)', fontsize = 16, color = 'black')\n",
    "    ax.set_ylim(-7,5)\n",
    "    ax.set_zorder(3.1)\n",
    "    ax.set_alpha(0)\n",
    "\n",
    "#     plt.show();\n",
    "    plt.savefig('/home/sdybing/mlaapde/testdata_preds/all_test_rerun/figures/error_snr_boxplots/mag_separation/very_small_mags/' + str(shift_len) + 's_window_error_snr_boxplot.png', format = 'PNG', facecolor = 'white', transparent = False)\n",
    "    plt.close();"
   ]
  },
  {
   "cell_type": "code",
   "execution_count": null,
   "id": "f2f86584",
   "metadata": {},
   "outputs": [],
   "source": [
    "# round_snrs_5 = np.concatenate((round_mlaa_snrs_5, round_hist_snrs_5))"
   ]
  },
  {
   "cell_type": "code",
   "execution_count": 125,
   "id": "b3fad772",
   "metadata": {
    "scrolled": false
   },
   "outputs": [
    {
     "name": "stdout",
     "output_type": "stream",
     "text": [
      "1\n",
      "114\n"
     ]
    }
   ],
   "source": [
    "# Plot mlaa and historic separately ### ----- FIGURE S6 ----- ###\n",
    "\n",
    "# mlaa_only = True\n",
    "# hist_only = False\n",
    "\n",
    "for cut_len in cut_lens_test:\n",
    "    \n",
    "    shift_len = cut_len - max_shift\n",
    "    print(shift_len)\n",
    "    errors = np.loadtxt('/home/sdybing/mlaapde/testdata_preds/all_test_rerun/errors/' + str(shift_len) + 's_window_errors.txt')\n",
    "\n",
    "    errors_mlaa = errors[:324365]\n",
    "    errors_hist = errors[324365:]\n",
    "#     print(len(errors_mlaa))\n",
    "#     print(len(errors_hist))\n",
    "#     print(errors_mlaa)\n",
    "#     print(errors_hist)\n",
    "    \n",
    "#     bins = np.arange(-80,175,5)\n",
    "    bins = np.arange(-34,74,2)\n",
    "#     print(bins)\n",
    "    data_bins = []\n",
    "#     histogram_bins = []\n",
    "\n",
    "    ### MLAA PLOT ###\n",
    "\n",
    "    for abin in bins:\n",
    "#         print(abin)\n",
    "        i = np.where(round_mlaa_snrs_2 == abin)[0]\n",
    "#         print(round_dist[i])\n",
    "        error_bin = np.array(errors_mlaa[i])\n",
    "    #     print(error_bin)\n",
    "        data_bins.append(error_bin)\n",
    "#         histogram_bins.append(np.array(round_dist_200[i])) # doesn't work\n",
    "    #     print('-----')\n",
    "\n",
    "    fig = plt.figure(figsize = (14, 9), dpi = 300, facecolor = 'none')\n",
    "\n",
    "    plt.rcParams['text.usetex'] = False\n",
    "\n",
    "    fig.suptitle('MLAAPDE ONLY: ' + str(shift_len) + 's window', fontsize = 32, y = 0.93, color = 'black')\n",
    "    ax = fig.add_subplot(111)\n",
    "               \n",
    "    ax.grid(which = 'major', axis = 'y', markevery = 0.5, zorder = 2)\n",
    "    ax.grid(which = 'major', axis = 'x', zorder = 2.5)\n",
    "\n",
    "    bp = ax.boxplot(data_bins, notch = False, patch_artist = True, zorder = 3)\n",
    "    \n",
    "    ax.set_facecolor('none')\n",
    "    \n",
    "    for patch in bp['boxes']:\n",
    "        patch.set_facecolor('#730114') \n",
    "        patch.set_edgecolor('#001528')\n",
    "    for median in bp['medians']:\n",
    "        median.set(color = '#99D9D9', linewidth = 3)\n",
    "    for whisker in bp['whiskers']:\n",
    "        whisker.set(color = '#001528', linewidth = 1)\n",
    "    for cap in bp['caps']:\n",
    "        cap.set(color = '#001528', linewidth = 1)\n",
    "    for flier in bp['fliers']:\n",
    "        flier.set(marker = '+', color = '#001528', alpha = 0.5)\n",
    "\n",
    "    bins_list = bins.tolist()\n",
    "    ax.set_xticklabels(bins_list, fontsize = 30, color = 'black')\n",
    "    ax.xaxis.set_major_locator(ticker.FixedLocator([1, 11, 21, 31, 41, 51, 61, 71, 81, 91, 101]))\n",
    "#     ax.xaxis.set_major_locator(ticker.FixedLocator([0, 10]))\n",
    "    ax.axhline(0, color = 'gray', linestyle = '--', linewidth = 2, alpha = 0.8, zorder = 2)\n",
    "    ax.tick_params(labelsize = 30, color = 'black')\n",
    "    ax.set_ylabel('Magnitude error\\n(estimated - catalog)', fontsize = 32, color = 'black')\n",
    "    ax.set_xlabel('Signal to noise ratio (dB)', fontsize = 32, color = 'black')\n",
    "    ax.set_ylim(-7,5)\n",
    "    ax.set_zorder(3.1)\n",
    "    ax.set_alpha(0)\n",
    "\n",
    "#     plt.show();\n",
    "    plt.savefig('/home/sdybing/mlaapde/testdata_preds/all_test_rerun/revised_figures/error_snr_boxplots/catalog_separation/for_S6/MLAA_' + str(shift_len) + 's_window_error_snr_boxplot.png', format = 'PNG', facecolor = 'white', transparent = False)\n",
    "    plt.close();\n",
    "    \n",
    "    \n",
    "    ### HISTORIC PLOT ###\n",
    "    \n",
    "#     bins = np.arange(-80,175,5)\n",
    "    bins = np.arange(-34,74,2)\n",
    "#     print(bins)\n",
    "    data_bins = []\n",
    "#     histogram_bins = []\n",
    "\n",
    "    for abin in bins:\n",
    "#         print(abin)\n",
    "        i = np.where(round_hist_snrs_2 == abin)[0]\n",
    "#         print(round_dist[i])\n",
    "        error_bin = np.array(errors_hist[i])\n",
    "    #     print(error_bin)\n",
    "        data_bins.append(error_bin)\n",
    "#         histogram_bins.append(np.array(round_dist_200[i])) # doesn't work\n",
    "    #     print('-----')\n",
    "\n",
    "    fig = plt.figure(figsize = (14, 9), dpi = 300, facecolor = 'none')\n",
    "\n",
    "    plt.rcParams['text.usetex'] = False\n",
    "\n",
    "    fig.suptitle('HISTORIC ONLY: ' + str(shift_len) + 's window', fontsize = 32, y = 0.93, color = 'black')\n",
    "    ax = fig.add_subplot(111)\n",
    "               \n",
    "    ax.grid(which = 'major', axis = 'y', markevery = 0.5, zorder = 2)\n",
    "    ax.grid(which = 'major', axis = 'x', zorder = 2.5)\n",
    "\n",
    "    bp = ax.boxplot(data_bins, notch = False, patch_artist = True, zorder = 3)\n",
    "    \n",
    "    ax.set_facecolor('none')\n",
    "    \n",
    "    for patch in bp['boxes']:\n",
    "        patch.set_facecolor('#f01f42') \n",
    "        patch.set_edgecolor('#001528')\n",
    "    for median in bp['medians']:\n",
    "        median.set(color = '#001528', linewidth = 3)\n",
    "    for whisker in bp['whiskers']:\n",
    "        whisker.set(color = '#001528', linewidth = 1)\n",
    "    for cap in bp['caps']:\n",
    "        cap.set(color = '#001528', linewidth = 1)\n",
    "    for flier in bp['fliers']:\n",
    "        flier.set(marker = '+', color = '#001528', alpha = 0.5)\n",
    "\n",
    "    bins_list = bins.tolist()\n",
    "    ax.set_xticklabels(bins_list, fontsize = 30, color = 'black')\n",
    "    ax.xaxis.set_major_locator(ticker.FixedLocator([1, 11, 21, 31, 41, 51, 61, 71, 81, 91, 101]))\n",
    "#     ax.xaxis.set_major_locator(ticker.FixedLocator([0, 10]))\n",
    "    ax.axhline(0, color = 'gray', linestyle = '--', linewidth = 2, alpha = 0.8, zorder = 2)\n",
    "    ax.tick_params(labelsize = 30, color = 'black')\n",
    "    ax.set_ylabel('Magnitude error\\n(estimated - catalog)', fontsize = 32, color = 'black')\n",
    "    ax.set_xlabel('Signal to noise ratio (dB)', fontsize = 32, color = 'black')\n",
    "    ax.set_ylim(-7,5)\n",
    "    ax.set_zorder(3.1)\n",
    "    ax.set_alpha(0)\n",
    "\n",
    "#     plt.show();\n",
    "    plt.savefig('/home/sdybing/mlaapde/testdata_preds/all_test_rerun/revised_figures/error_snr_boxplots/catalog_separation/for_S6/hist_' + str(shift_len) + 's_window_error_snr_boxplot.png', format = 'PNG', facecolor = 'white', transparent = False)\n",
    "    plt.close();"
   ]
  },
  {
   "cell_type": "code",
   "execution_count": null,
   "id": "b85cd7c5",
   "metadata": {},
   "outputs": [],
   "source": []
  },
  {
   "cell_type": "code",
   "execution_count": null,
   "id": "38aa1563",
   "metadata": {},
   "outputs": [],
   "source": []
  },
  {
   "cell_type": "code",
   "execution_count": null,
   "id": "4236f342",
   "metadata": {},
   "outputs": [],
   "source": []
  },
  {
   "cell_type": "code",
   "execution_count": null,
   "id": "57264a4a",
   "metadata": {},
   "outputs": [],
   "source": []
  },
  {
   "cell_type": "code",
   "execution_count": null,
   "id": "5d4c8b5a",
   "metadata": {},
   "outputs": [],
   "source": []
  },
  {
   "cell_type": "code",
   "execution_count": null,
   "id": "df24e40a",
   "metadata": {},
   "outputs": [],
   "source": []
  }
 ],
 "metadata": {
  "kernelspec": {
   "display_name": "Python 3 (ipykernel)",
   "language": "python",
   "name": "python3"
  },
  "language_info": {
   "codemirror_mode": {
    "name": "ipython",
    "version": 3
   },
   "file_extension": ".py",
   "mimetype": "text/x-python",
   "name": "python",
   "nbconvert_exporter": "python",
   "pygments_lexer": "ipython3",
   "version": "3.8.8"
  }
 },
 "nbformat": 4,
 "nbformat_minor": 5
}
