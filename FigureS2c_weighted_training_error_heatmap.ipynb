{
 "cells": [
  {
   "cell_type": "code",
   "execution_count": 1,
   "id": "a91753f7",
   "metadata": {},
   "outputs": [],
   "source": [
    "import numpy as np\n",
    "import matplotlib.pyplot as plt\n",
    "from scipy.interpolate import griddata"
   ]
  },
  {
   "cell_type": "code",
   "execution_count": 2,
   "id": "d91d374d",
   "metadata": {},
   "outputs": [],
   "source": [
    "data = np.load('/home/sdybing/mlaapde/testdata_preds/weighted_training/catmag_abserror_window_forwill.npy')\n",
    "times = [1, 4, 9, 14, 19, 24, 34, 44, 54, 74, 94, 114]\n",
    "mags = data[0,:,0]\n",
    "error = data[:,:,1]"
   ]
  },
  {
   "cell_type": "code",
   "execution_count": 5,
   "id": "e1b7a9de",
   "metadata": {},
   "outputs": [
    {
     "data": {
      "text/plain": [
       "(12, 85, 2)"
      ]
     },
     "execution_count": 5,
     "metadata": {},
     "output_type": "execute_result"
    }
   ],
   "source": [
    "data.shape"
   ]
  },
  {
   "cell_type": "code",
   "execution_count": 6,
   "id": "d1298199",
   "metadata": {},
   "outputs": [],
   "source": [
    "### ----- FIGURE 8 ----- ###\n",
    "\n",
    "fig = plt.figure(figsize = (11, 8), dpi = 300)\n",
    "ax = fig.add_subplot(111)\n",
    "\n",
    "P = []\n",
    "for xx in times:\n",
    "    for yy in mags:\n",
    "        P.append((yy, xx))\n",
    "\n",
    "def fmt(x):\n",
    "    s = f\"{x:.1f}\"\n",
    "    if s.endswith(\"0\"):\n",
    "        s = f\"{x:.0f}\"\n",
    "    return rf\"{s}\" if plt.rcParams[\"text.usetex\"] else f\"{s}\"\n",
    "\n",
    "y = np.linspace(1.0, 114.0, 1000)\n",
    "x = np.linspace(0.7, 10, 1000)\n",
    "X, Y = np.meshgrid(x, y)\n",
    "Ti = griddata(P, error.flatten(), (X, Y), method = 'nearest')\n",
    "cb = ax.contourf(X, Y, Ti, cmap = 'magma_r', levels = 199)\n",
    "cs = ax.contour(X, Y, Ti, origin = 'lower', levels = [0.5], colors = ['black'], linewidths = 2.5, alpha = 0.75)\n",
    "manual_locations = [(2.5, 74), (5.5, 10), (7.65, 59), (7.6, 109)]\n",
    "ax.clabel(cs, inline = True, fmt = fmt, manual = manual_locations, fontsize = 12)\n",
    "xt, yt = zip(*P)\n",
    "ax.plot(xt, yt, '.', color = 'black', alpha = 0.5, ms = 0.5)\n",
    "ax.set_xlabel('Catalog magnitude', fontsize = 15)\n",
    "ax.set_ylabel('Window length (s)', fontsize = 15)\n",
    "ax.tick_params(axis = 'x', labelsize = 13)\n",
    "ax.tick_params(axis = 'y', labelsize = 13)\n",
    "cbar = fig.colorbar(cb, ticks = [0, 1, 2, 3, 4], orientation = 'horizontal')\n",
    "cbar.ax.tick_params(labelsize = 12)\n",
    "cbar.ax.set_xlabel(xlabel = 'Absolute magnitude error (abs(median estimated magnitude - catalog magnitude))', fontsize = 13)\n",
    "ax.set_xlim(0.7, 9.1)\n",
    "\n",
    "# plt.show();\n",
    "plt.savefig('/home/sdybing/mlaapde/testdata_preds/weighted_training/weightedtraining_errorheatmap.png', format = 'PNG')\n",
    "plt.close();\n"
   ]
  },
  {
   "cell_type": "code",
   "execution_count": 7,
   "id": "fde62da7",
   "metadata": {},
   "outputs": [],
   "source": [
    "origdata = np.load('/home/sdybing/mlaapde/testdata_preds/all_test_rerun/catmag_abserror_window_forwill.npy')\n",
    "\n",
    "weighted114 = data[-1,:,:]\n",
    "orig114 = origdata[-1,:,:]"
   ]
  },
  {
   "cell_type": "code",
   "execution_count": 9,
   "id": "86d73100",
   "metadata": {},
   "outputs": [
    {
     "data": {
      "text/plain": [
       "(85, 2)"
      ]
     },
     "execution_count": 9,
     "metadata": {},
     "output_type": "execute_result"
    }
   ],
   "source": [
    "weighted114.shape"
   ]
  },
  {
   "cell_type": "code",
   "execution_count": 15,
   "id": "75c54708",
   "metadata": {},
   "outputs": [
    {
     "data": {
      "image/png": "[encoded data removed]",
      "text/plain": [
       "<Figure size 640x480 with 1 Axes>"
      ]
     },
     "metadata": {},
     "output_type": "display_data"
    }
   ],
   "source": [
    "plt.scatter(orig114[:,0], orig114[:,1], label = 'Original training')\n",
    "plt.scatter(weighted114[:,0], weighted114[:,1], label = 'Weighted training')\n",
    "plt.axhline(y = 0.5, linestyle = '--', color = 'gray')\n",
    "plt.legend()\n",
    "plt.xlim(7,8)\n",
    "plt.ylim(0,1);"
   ]
  },
  {
   "cell_type": "code",
   "execution_count": 28,
   "id": "5908afcc",
   "metadata": {},
   "outputs": [
    {
     "data": {
      "text/plain": [
       "array([70])"
      ]
     },
     "execution_count": 28,
     "metadata": {},
     "output_type": "execute_result"
    }
   ],
   "source": [
    "i = np.where(orig114[:,0] == 7.7)[0]\n",
    "i"
   ]
  },
  {
   "cell_type": "code",
   "execution_count": 29,
   "id": "2fee7541",
   "metadata": {},
   "outputs": [
    {
     "name": "stdout",
     "output_type": "stream",
     "text": [
      "[[3.300575 ]\n",
      " [3.1968386]\n",
      " [3.0886886]\n",
      " [2.945547 ]\n",
      " [2.776594 ]\n",
      " [2.717635 ]\n",
      " [2.4977924]\n",
      " [2.268858 ]\n",
      " [2.1750247]\n",
      " [1.7291867]\n",
      " [1.4723427]\n",
      " [1.621657 ]\n",
      " [1.388205 ]\n",
      " [1.393357 ]\n",
      " [1.0881264]\n",
      " [0.837868 ]\n",
      " [0.659413 ]\n",
      " [0.6801   ]\n",
      " [0.6543905]\n",
      " [0.5554006]\n",
      " [0.538273 ]\n",
      " [0.5589683]\n",
      " [0.533713 ]\n",
      " [0.5802166]\n",
      " [0.5382764]\n",
      " [0.5016496]]\n",
      "[[3.229854 ]\n",
      " [3.049212 ]\n",
      " [2.162319 ]\n",
      " [1.302582 ]\n",
      " [1.0547616]\n",
      " [0.7350747]\n",
      " [0.7907235]\n",
      " [0.582985 ]\n",
      " [0.647207 ]\n",
      " [0.4768335]\n",
      " [0.4911253]\n",
      " [0.5164244]]\n"
     ]
    }
   ],
   "source": [
    "print(origdata[:,i,1])\n",
    "print(data[:,i,1])"
   ]
  },
  {
   "cell_type": "code",
   "execution_count": 43,
   "id": "c03b8596",
   "metadata": {},
   "outputs": [
    {
     "data": {
      "image/png": "[encoded data removed]",
      "text/plain": [
       "<Figure size 640x480 with 1 Axes>"
      ]
     },
     "metadata": {},
     "output_type": "display_data"
    }
   ],
   "source": [
    "origtimes = [1, 2, 3, 4, 5, 6, 7, 8, 9, 10, 11, 12, 13, 14, 19, 24, 29, 34, 44, 54, 64, 74, 84, 94, 104, 114]\n",
    "\n",
    "plt.scatter(origtimes, origdata[:,i,1], label = 'Errors for M7.7 in original training')\n",
    "plt.scatter(times, data[:,i,1], label = 'Errors for M7.7 in weighted training')\n",
    "plt.axhline(y = 0.5, linestyle = '--', color = 'gray')\n",
    "plt.legend()\n",
    "plt.xlabel('Time window')\n",
    "plt.ylabel('Absolute error');\n",
    "plt.xlim(40,120)\n",
    "plt.ylim(0.3,0.8);"
   ]
  },
  {
   "cell_type": "code",
   "execution_count": 41,
   "id": "6b4111c7",
   "metadata": {},
   "outputs": [
    {
     "name": "stdout",
     "output_type": "stream",
     "text": [
      "[]\n"
     ]
    }
   ],
   "source": [
    "k = np.where(times == 74)[0]\n",
    "print(k)"
   ]
  },
  {
   "cell_type": "code",
   "execution_count": 42,
   "id": "c43d6fd2",
   "metadata": {},
   "outputs": [
    {
     "data": {
      "text/plain": [
       "[1, 4, 9, 14, 19, 24, 34, 44, 54, 74, 94, 114]"
      ]
     },
     "execution_count": 42,
     "metadata": {},
     "output_type": "execute_result"
    }
   ],
   "source": [
    "times"
   ]
  },
  {
   "cell_type": "code",
   "execution_count": 44,
   "id": "7c54a90e",
   "metadata": {},
   "outputs": [
    {
     "data": {
      "text/plain": [
       "74"
      ]
     },
     "execution_count": 44,
     "metadata": {},
     "output_type": "execute_result"
    }
   ],
   "source": [
    "times[9]"
   ]
  },
  {
   "cell_type": "code",
   "execution_count": 45,
   "id": "60215bff",
   "metadata": {},
   "outputs": [
    {
     "data": {
      "text/plain": [
       "array([[0.7      , 2.1186326],\n",
       "       [0.8      , 1.9938175],\n",
       "       [0.9      , 1.9261528],\n",
       "       [1.       , 1.7513516],\n",
       "       [1.1      , 1.3871378],\n",
       "       [1.2      , 1.4409535],\n",
       "       [1.3      , 1.3179621],\n",
       "       [1.4      , 1.2106894],\n",
       "       [1.5      , 1.077549 ],\n",
       "       [1.6      , 1.0647067],\n",
       "       [1.7      , 1.0213988],\n",
       "       [1.8      , 0.887375 ],\n",
       "       [1.9      , 0.8028933],\n",
       "       [2.       , 0.6636925],\n",
       "       [2.1      , 0.6502272],\n",
       "       [2.2      , 0.6383012],\n",
       "       [2.3      , 0.6049714],\n",
       "       [2.4      , 0.5176877],\n",
       "       [2.5      , 0.4404793],\n",
       "       [2.6      , 0.406163 ],\n",
       "       [2.7      , 0.3449207],\n",
       "       [2.8      , 0.3037285],\n",
       "       [2.9      , 0.2405082],\n",
       "       [3.       , 0.218409 ],\n",
       "       [3.1      , 0.1533429],\n",
       "       [3.2      , 0.1209195],\n",
       "       [3.3      , 0.0933747],\n",
       "       [3.4      , 0.0682965],\n",
       "       [3.5      , 0.0666687],\n",
       "       [3.6      , 0.0673331],\n",
       "       [3.7      , 0.1321662],\n",
       "       [3.8      , 0.0188652],\n",
       "       [3.9      , 0.0938676],\n",
       "       [4.       , 0.2478356],\n",
       "       [4.1      , 0.202988 ],\n",
       "       [4.2      , 0.134013 ],\n",
       "       [4.3      , 0.070401 ],\n",
       "       [4.4      , 0.0182963],\n",
       "       [4.5      , 0.040309 ],\n",
       "       [4.6      , 0.082655 ],\n",
       "       [4.7      , 0.088036 ],\n",
       "       [4.8      , 0.130086 ],\n",
       "       [4.9      , 0.1742553],\n",
       "       [5.       , 0.195407 ],\n",
       "       [5.1      , 0.179901 ],\n",
       "       [5.2      , 0.2162764],\n",
       "       [5.3      , 0.2222145],\n",
       "       [5.4      , 0.2297405],\n",
       "       [5.5      , 0.281878 ],\n",
       "       [5.6      , 0.2705513],\n",
       "       [5.7      , 0.3189756],\n",
       "       [5.8      , 0.283577 ],\n",
       "       [5.9      , 0.2891654],\n",
       "       [6.       , 0.249075 ],\n",
       "       [6.1      , 0.2433873],\n",
       "       [6.2      , 0.125083 ],\n",
       "       [6.3      , 0.0561555],\n",
       "       [6.4      , 0.125045 ],\n",
       "       [6.5      , 0.122333 ],\n",
       "       [6.6      , 0.305267 ],\n",
       "       [6.7      , 0.364963 ],\n",
       "       [6.8      , 0.2430666],\n",
       "       [6.9      , 0.4047035],\n",
       "       [7.       , 0.233447 ],\n",
       "       [7.1      ,       nan],\n",
       "       [7.2      ,       nan],\n",
       "       [7.3      ,       nan],\n",
       "       [7.4      , 0.4096436],\n",
       "       [7.5      , 0.47461  ],\n",
       "       [7.6      , 0.326968 ],\n",
       "       [7.7      , 0.4768335],\n",
       "       [7.8      , 0.581972 ],\n",
       "       [7.9      , 0.6994304],\n",
       "       [8.       , 0.746477 ],\n",
       "       [8.1      , 0.5031463],\n",
       "       [8.2      , 1.1635773],\n",
       "       [8.3      , 0.614311 ],\n",
       "       [8.4      , 0.727446 ],\n",
       "       [8.5      ,       nan],\n",
       "       [8.6      , 0.867722 ],\n",
       "       [8.7      ,       nan],\n",
       "       [8.8      , 0.9668105],\n",
       "       [8.9      ,       nan],\n",
       "       [9.       ,       nan],\n",
       "       [9.1      , 1.26014  ]])"
      ]
     },
     "execution_count": 45,
     "metadata": {},
     "output_type": "execute_result"
    }
   ],
   "source": [
    "data[9]"
   ]
  },
  {
   "cell_type": "code",
   "execution_count": 46,
   "id": "4d0084ec",
   "metadata": {},
   "outputs": [
    {
     "data": {
      "text/plain": [
       "74"
      ]
     },
     "execution_count": 46,
     "metadata": {},
     "output_type": "execute_result"
    }
   ],
   "source": [
    "origtimes[21]"
   ]
  },
  {
   "cell_type": "code",
   "execution_count": 47,
   "id": "a7aeee3d",
   "metadata": {},
   "outputs": [
    {
     "data": {
      "text/plain": [
       "array([[0.7      , 1.6987303],\n",
       "       [0.8      , 1.931391 ],\n",
       "       [0.9      , 1.7904802],\n",
       "       [1.       , 1.6086404],\n",
       "       [1.1      , 1.455727 ],\n",
       "       [1.2      , 1.4683052],\n",
       "       [1.3      , 1.3239045],\n",
       "       [1.4      , 1.2028178],\n",
       "       [1.5      , 1.0941253],\n",
       "       [1.6      , 1.1108192],\n",
       "       [1.7      , 1.0294536],\n",
       "       [1.8      , 1.00024  ],\n",
       "       [1.9      , 0.8182195],\n",
       "       [2.       , 0.7006655],\n",
       "       [2.1      , 0.6663388],\n",
       "       [2.2      , 0.6709142],\n",
       "       [2.3      , 0.6282491],\n",
       "       [2.4      , 0.528656 ],\n",
       "       [2.5      , 0.4853933],\n",
       "       [2.6      , 0.4464675],\n",
       "       [2.7      , 0.3856426],\n",
       "       [2.8      , 0.358408 ],\n",
       "       [2.9      , 0.297125 ],\n",
       "       [3.       , 0.2867148],\n",
       "       [3.1      , 0.2159885],\n",
       "       [3.2      , 0.1777497],\n",
       "       [3.3      , 0.1414651],\n",
       "       [3.4      , 0.1098047],\n",
       "       [3.5      , 0.120637 ],\n",
       "       [3.6      , 0.145305 ],\n",
       "       [3.7      , 0.2013603],\n",
       "       [3.8      , 0.0500562],\n",
       "       [3.9      , 0.136151 ],\n",
       "       [4.       , 0.2989826],\n",
       "       [4.1      , 0.2468976],\n",
       "       [4.2      , 0.178915 ],\n",
       "       [4.3      , 0.1044905],\n",
       "       [4.4      , 0.0389753],\n",
       "       [4.5      , 0.02604  ],\n",
       "       [4.6      , 0.076807 ],\n",
       "       [4.7      , 0.106301 ],\n",
       "       [4.8      , 0.1534956],\n",
       "       [4.9      , 0.2065763],\n",
       "       [5.       , 0.2418756],\n",
       "       [5.1      , 0.233426 ],\n",
       "       [5.2      , 0.274533 ],\n",
       "       [5.3      , 0.2807806],\n",
       "       [5.4      , 0.2895755],\n",
       "       [5.5      , 0.3374267],\n",
       "       [5.6      , 0.3198477],\n",
       "       [5.7      , 0.3636443],\n",
       "       [5.8      , 0.320414 ],\n",
       "       [5.9      , 0.348595 ],\n",
       "       [6.       , 0.249835 ],\n",
       "       [6.1      , 0.2679115],\n",
       "       [6.2      , 0.157488 ],\n",
       "       [6.3      , 0.0983184],\n",
       "       [6.4      , 0.151281 ],\n",
       "       [6.5      , 0.185774 ],\n",
       "       [6.6      , 0.3205606],\n",
       "       [6.7      , 0.398567 ],\n",
       "       [6.8      , 0.2873757],\n",
       "       [6.9      , 0.3945784],\n",
       "       [7.       , 0.2750216],\n",
       "       [7.1      ,       nan],\n",
       "       [7.2      ,       nan],\n",
       "       [7.3      ,       nan],\n",
       "       [7.4      , 0.490076 ],\n",
       "       [7.5      , 0.573993 ],\n",
       "       [7.6      , 0.501755 ],\n",
       "       [7.7      , 0.5589683],\n",
       "       [7.8      , 0.6968773],\n",
       "       [7.9      , 0.903988 ],\n",
       "       [8.       , 0.9205375],\n",
       "       [8.1      , 0.7144166],\n",
       "       [8.2      , 1.2521383],\n",
       "       [8.3      , 0.7065137],\n",
       "       [8.4      , 0.8620447],\n",
       "       [8.5      ,       nan],\n",
       "       [8.6      , 0.9912272],\n",
       "       [8.7      ,       nan],\n",
       "       [8.8      , 1.1355627],\n",
       "       [8.9      ,       nan],\n",
       "       [9.       ,       nan],\n",
       "       [9.1      , 1.4272743]])"
      ]
     },
     "execution_count": 47,
     "metadata": {},
     "output_type": "execute_result"
    }
   ],
   "source": [
    "origdata[21]"
   ]
  },
  {
   "cell_type": "code",
   "execution_count": null,
   "id": "6bc94baa",
   "metadata": {},
   "outputs": [],
   "source": []
  }
 ],
 "metadata": {
  "kernelspec": {
   "display_name": "Python 3 (ipykernel)",
   "language": "python",
   "name": "python3"
  },
  "language_info": {
   "codemirror_mode": {
    "name": "ipython",
    "version": 3
   },
   "file_extension": ".py",
   "mimetype": "text/x-python",
   "name": "python",
   "nbconvert_exporter": "python",
   "pygments_lexer": "ipython3",
   "version": "3.8.8"
  }
 },
 "nbformat": 4,
 "nbformat_minor": 5
}
