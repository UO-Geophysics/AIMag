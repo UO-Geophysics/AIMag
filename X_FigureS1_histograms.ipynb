{
 "cells": [
  {
   "cell_type": "code",
   "execution_count": 1,
   "id": "2c3f3be1",
   "metadata": {},
   "outputs": [],
   "source": [
    "import matplotlib.pyplot as plt\n",
    "import numpy as np\n",
    "import h5py"
   ]
  },
  {
   "cell_type": "code",
   "execution_count": 2,
   "id": "cb014182",
   "metadata": {},
   "outputs": [],
   "source": [
    "### ----- Load the full dataset from HDF5 files ----- ###\n",
    "\n",
    "training_data = h5py.File('/hdd/mlaapde/decimated/training_data_full_decimate2.hdf5', 'r')\n",
    "validation_data = h5py.File('/hdd/mlaapde/decimated/validation_data_full_decimate2.hdf5', 'r')\n",
    "testing_data = h5py.File('/hdd/mlaapde/decimated/testing_data.hdf5', 'r')\n",
    "\n",
    "train_mags = training_data['magnitude'][:]\n",
    "valid_mags = validation_data['magnitude'][:]\n",
    "test_mags = testing_data['magnitude'][:]\n",
    "\n",
    "training_data.close()\n",
    "validation_data.close()\n",
    "testing_data.close()"
   ]
  },
  {
   "cell_type": "code",
   "execution_count": 3,
   "id": "6c1a1146",
   "metadata": {},
   "outputs": [],
   "source": [
    "idx = 741100\n",
    "idx2 = 741102\n",
    "\n",
    "# Fixing the weird nan wave\n",
    "\n",
    "copy_mag = train_mags[0]\n",
    "copy_mag2 = train_mags[1]\n",
    "\n",
    "train_mags[idx] = copy_mag\n",
    "train_mags[idx2] = copy_mag2"
   ]
  },
  {
   "cell_type": "code",
   "execution_count": 4,
   "id": "55e38c04",
   "metadata": {},
   "outputs": [
    {
     "data": {
      "text/plain": [
       "3244974"
      ]
     },
     "execution_count": 4,
     "metadata": {},
     "output_type": "execute_result"
    }
   ],
   "source": [
    "len(train_mags) + len(valid_mags) + len(test_mags)"
   ]
  },
  {
   "cell_type": "code",
   "execution_count": 5,
   "id": "05bdaf01",
   "metadata": {},
   "outputs": [],
   "source": [
    "historic_test_mags = np.load('/hdd/mlaapde/decimated/historic_test_mags.npy')"
   ]
  },
  {
   "cell_type": "code",
   "execution_count": 6,
   "id": "a2ee6927",
   "metadata": {},
   "outputs": [],
   "source": [
    "both_test = [valid_mags, historic_test_mags]"
   ]
  },
  {
   "cell_type": "code",
   "execution_count": 9,
   "id": "c0283513",
   "metadata": {},
   "outputs": [],
   "source": [
    "### ----- FIGURE S1 ----- ###\n",
    "\n",
    "plt.figure(figsize = (16,8), facecolor = 'white', dpi = 300)\n",
    "#plt.suptitle('Dataset EQ Magnitude Distribution', x = 0.5, y = 1.02, fontsize = 16)\n",
    "\n",
    "plt.subplot(131)\n",
    "plt.grid()\n",
    "plt.hist(train_mags, bins = 50, color = '#001528', label = 'Aug. 1, 2013 - Sept. 30, 2018')\n",
    "#plt.title('Training data (800,000 samples)\\nAug 1, 2013 - July 31, 2017', fontsize = 14)\n",
    "plt.title('Training data (2,431,341 samples)', fontsize = 16)\n",
    "#plt.xlabel('Magnitude', fontsize = 14)\n",
    "plt.ylabel('Log Count', fontsize = 18)\n",
    "plt.yscale('log', nonpositive = 'clip')\n",
    "plt.ylim(1, 10**6)\n",
    "plt.tick_params(axis = 'y', labelsize = 16)\n",
    "#plt.ylim(1, 2*10**5)\n",
    "plt.xlim(0,9.5)\n",
    "plt.xticks([0, 1, 2, 3, 4, 5, 6, 7, 8, 9], fontsize = 16)\n",
    "plt.legend(loc = 'upper left', fontsize = 13)\n",
    "plt.text(x = -1.6, y = 2*10**6, s = '(a)', fontsize = 20)\n",
    "\n",
    "plt.subplot(132)\n",
    "plt.grid()\n",
    "plt.hist(valid_mags, bins = 50, color = '#2DADB4', label = 'Oct. 1, 2018 - Dec. 31, 2019')\n",
    "#plt.title('Validation data (200,000 samples)\\nAug 1, 2017 - Apr 1, 2018', fontsize = 14)\n",
    "plt.title('Validation data (489,268 samples)', fontsize = 16)\n",
    "plt.xlabel('Catalog Magnitude', fontsize = 18)\n",
    "# plt.ylabel('Log Count', fontsize = 14)\n",
    "# plt.yticks(ticks = None, labels = None, fontsize = 11)\n",
    "plt.tick_params(axis = 'y', labelleft = False)\n",
    "plt.yscale('log', nonpositive = 'clip')\n",
    "plt.ylim(1, 10**6)\n",
    "#plt.ylim(1, 2*10**5)\n",
    "plt.xlim(0,9.5)\n",
    "plt.xticks([1, 2, 3, 4, 5, 6, 7, 8, 9], fontsize = 16)\n",
    "plt.legend(loc = 'upper left', fontsize = 13)\n",
    "plt.text(x = -0.1, y = 2*10**6, s = '(b)', fontsize = 20)\n",
    "\n",
    "plt.subplot(133)\n",
    "plt.grid()\n",
    "plt.hist(both_test, bins = 50, color = ['#730114', '#f01f42'], label = ['MLAAPDE testing data\\n(Jan. 1, 2020 - Dec. 31, 2020)', 'Extended historical data\\n(Jan. 1, 2000 - Jul. 31, 2013)'], stacked = True)\n",
    "#plt.hist(historic_test_mags, bins = 10, color = '#f01f42', label = 'Extended historic data\\n(Jan. 1, 2000 - Jul. 31, 2013)', stacked = True)\n",
    "#plt.hist(valid_mags, bins = 50, color = '#730114', label = 'MLAAPDE testing data\\n(Jan. 1, 2020 - Dec. 31, 2020)', alpha = 0.8, stacked = True)\n",
    "plt.title('Testing data (337,814 samples)', fontsize = 16)\n",
    "#plt.xlabel('Magnitude', fontsize = 14)\n",
    "#plt.ylabel('Log Count', fontsize = 14)\n",
    "#plt.yticks(ticks = None, labels = None)\n",
    "plt.tick_params(axis = 'y', labelleft = False)\n",
    "plt.yscale('log', nonpositive = 'clip')\n",
    "plt.ylim(1, 10**6)\n",
    "#plt.ylim(1, 2*10**5)\n",
    "plt.xlim(0,9.5)\n",
    "plt.xticks([1, 2, 3, 4, 5, 6, 7, 8, 9], fontsize = 16)\n",
    "plt.legend(loc = 'upper left', fontsize = 13)\n",
    "plt.text(x = -0.1, y = 2*10**6, s = '(c)', fontsize = 20)\n",
    "\n",
    "plt.subplots_adjust(wspace = 0)\n",
    "# plt.show()\n",
    "plt.savefig('/home/sdybing/mlaapde/testdata_preds/all_test_rerun/revised_figures/figS1_datadistrib_hist.png', format = 'PNG')\n",
    "plt.close();\n"
   ]
  },
  {
   "cell_type": "code",
   "execution_count": null,
   "id": "47dd827e",
   "metadata": {},
   "outputs": [],
   "source": []
  }
 ],
 "metadata": {
  "kernelspec": {
   "display_name": "Python 3 (ipykernel)",
   "language": "python",
   "name": "python3"
  },
  "language_info": {
   "codemirror_mode": {
    "name": "ipython",
    "version": 3
   },
   "file_extension": ".py",
   "mimetype": "text/x-python",
   "name": "python",
   "nbconvert_exporter": "python",
   "pygments_lexer": "ipython3",
   "version": "3.8.8"
  }
 },
 "nbformat": 4,
 "nbformat_minor": 5
}
