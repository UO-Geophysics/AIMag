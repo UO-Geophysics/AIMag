{
 "cells": [
  {
   "cell_type": "code",
   "execution_count": 22,
   "id": "019783db",
   "metadata": {},
   "outputs": [
    {
     "name": "stdout",
     "output_type": "stream",
     "text": [
      "(324365,)\n",
      "[10.0 10.0 10.0 ... 77.7 77.7 77.7]\n",
      "[10. 10. 10. ... 78. 78. 78.]\n"
     ]
    }
   ],
   "source": [
    "import matplotlib.pyplot as plt\n",
    "import numpy as np\n",
    "import matplotlib.ticker as ticker\n",
    "\n",
    "cut_lens = [7, 8, 9, 10, 11, 12, 13, 14, 15, 16, 17, 18, 19, 20, 25, 30, 35, 40, 50, 60, 70, 80, 90, 100, 110, 120]\n",
    "test_cut_lens = [7]\n",
    "desired_shift = 3\n",
    "max_shift = desired_shift * 2\n",
    "\n",
    "test_metadata_hypdists_depthskm = np.load('/home/sdybing/mlaapde/test_metadata_hypdists_depthskm.npy', allow_pickle = True)\n",
    "depth_km = test_metadata_hypdists[:,7]\n",
    "print(depth_km.shape)\n",
    "\n",
    "float_depth = depth_km.astype(float)\n",
    "round_depth = np.around(float_depth)\n",
    "print(depth_km)\n",
    "print(round_depth)"
   ]
  },
  {
   "cell_type": "code",
   "execution_count": 23,
   "id": "790d7531",
   "metadata": {},
   "outputs": [
    {
     "name": "stdout",
     "output_type": "stream",
     "text": [
      "656.0\n"
     ]
    }
   ],
   "source": [
    "print(max(round_depth))"
   ]
  },
  {
   "cell_type": "code",
   "execution_count": 34,
   "id": "4f1e9834",
   "metadata": {},
   "outputs": [
    {
     "data": {
      "image/png": "[encoded data removed]",
      "text/plain": [
       "<Figure size 640x480 with 1 Axes>"
      ]
     },
     "metadata": {},
     "output_type": "display_data"
    }
   ],
   "source": [
    "plt.hist(round_depth, bins = 100)\n",
    "plt.xlim(0,100);"
   ]
  },
  {
   "cell_type": "code",
   "execution_count": 37,
   "id": "8be65c69",
   "metadata": {},
   "outputs": [
    {
     "name": "stdout",
     "output_type": "stream",
     "text": [
      "1\n",
      "2\n",
      "3\n",
      "4\n",
      "5\n",
      "6\n",
      "7\n",
      "8\n",
      "9\n",
      "10\n",
      "11\n",
      "12\n",
      "13\n",
      "14\n",
      "19\n",
      "24\n",
      "29\n",
      "34\n",
      "44\n",
      "54\n",
      "64\n",
      "74\n",
      "84\n",
      "94\n",
      "104\n",
      "114\n"
     ]
    }
   ],
   "source": [
    "for cut_len in cut_lens:\n",
    "    \n",
    "    shift_len = cut_len - max_shift\n",
    "    print(shift_len)\n",
    "    errors = np.loadtxt('/home/sdybing/mlaapde/testdata_preds/mlaa_only/test_errors_' + str(shift_len) + 's_window.txt')\n",
    "    \n",
    "    # Full range boxplot\n",
    "    \n",
    "    bins = np.arange(0,660,10)\n",
    "    # print(bins)\n",
    "    data_bins = []\n",
    "\n",
    "    for abin in bins:\n",
    "    #     print(abin)\n",
    "        i = np.where(round_depth == abin)[0]\n",
    "    #     print(measured_mags[i])\n",
    "        error_bin = np.array(errors[i])\n",
    "    #     print(predict_bin)\n",
    "        data_bins.append(error_bin)\n",
    "    #     print('-----')\n",
    "\n",
    "    fig = plt.figure(figsize = (14, 9), dpi = 300, facecolor = 'white')\n",
    "\n",
    "    plt.rcParams['text.usetex'] = False\n",
    "\n",
    "    fig.suptitle('Magnitude prediction error by source depth (km) - ' + str(shift_len) + 's window', fontsize = 20, y = 0.93, color = 'black')\n",
    "    ax = fig.add_subplot(111)\n",
    "    ax.set_facecolor('white')\n",
    "    ax.grid(which = 'major', axis = 'y', markevery = 0.5, zorder = 2)\n",
    "    ax.grid(which = 'major', axis = 'x', zorder = 2.5)\n",
    "\n",
    "    bp = ax.boxplot(data_bins, notch = False, patch_artist = True, zorder = 3)\n",
    "\n",
    "    for patch in bp['boxes']:\n",
    "        patch.set_facecolor('#2DADB4')\n",
    "        patch.set_edgecolor('#001528')\n",
    "    for median in bp['medians']:\n",
    "        median.set(color = '#001528', linewidth = 3)\n",
    "    for whisker in bp['whiskers']:\n",
    "        whisker.set(color = '#001528', linewidth = 1)\n",
    "    for cap in bp['caps']:\n",
    "        cap.set(color = '#001528', linewidth = 1)\n",
    "    for flier in bp['fliers']:\n",
    "        flier.set(marker = '+', color = '#001528', alpha = 0.5)\n",
    "\n",
    "    bins_list = bins.tolist()\n",
    "    ax.set_xticklabels(bins_list, fontsize = 14, color = 'black')\n",
    "    ax.xaxis.set_major_locator(ticker.FixedLocator([1, 11, 21, 31, 41, 51, 61, 71, 81, 91, 101]))\n",
    "    ax.axhline(0, color = 'gray', linestyle = '--', linewidth = 2, alpha = 0.8, zorder = 2)\n",
    "    ax.tick_params(labelsize = 14, color = 'black')\n",
    "    ax.set_ylabel('Magnitude error (predicted - catalog)', fontsize = 16, color = 'black')\n",
    "    ax.set_xlabel('Source depth (km)', fontsize = 16, color = 'black')\n",
    "    ax.set_ylim(-5,5)\n",
    "\n",
    "#     plt.show();\n",
    "    plt.savefig('/home/sdybing/mlaapde/testdata_preds/mlaa_only/depth_error_full_' + str(shift_len) + 's_window_BOXPLOT.png', format = 'PNG', facecolor = 'white', transparent = False)\n",
    "    plt.close();\n",
    "    \n",
    "    # 0-50 km depth boxplot only\n",
    "    \n",
    "    bins = np.arange(0,50,1)\n",
    "    # print(bins)\n",
    "    data_bins = []\n",
    "\n",
    "    for abin in bins:\n",
    "    #     print(abin)\n",
    "        i = np.where(round_depth == abin)[0]\n",
    "    #     print(measured_mags[i])\n",
    "        error_bin = np.array(errors[i])\n",
    "    #     print(predict_bin)\n",
    "        data_bins.append(error_bin)\n",
    "    #     print('-----')\n",
    "\n",
    "    fig = plt.figure(figsize = (14, 9), dpi = 300, facecolor = 'white')\n",
    "\n",
    "    plt.rcParams['text.usetex'] = False\n",
    "\n",
    "    fig.suptitle('Magnitude prediction error by source depth (km) - Shallow events - ' + str(shift_len) + 's window', fontsize = 20, y = 0.93, color = 'black')\n",
    "    ax = fig.add_subplot(111)\n",
    "    ax.set_facecolor('white')\n",
    "    ax.grid(which = 'major', axis = 'y', markevery = 0.5, zorder = 2)\n",
    "    ax.grid(which = 'major', axis = 'x', zorder = 2.5)\n",
    "\n",
    "    bp = ax.boxplot(data_bins, notch = False, patch_artist = True, zorder = 3)\n",
    "\n",
    "    for patch in bp['boxes']:\n",
    "        patch.set_facecolor('#2DADB4')\n",
    "        patch.set_edgecolor('#001528')\n",
    "    for median in bp['medians']:\n",
    "        median.set(color = '#001528', linewidth = 3)\n",
    "    for whisker in bp['whiskers']:\n",
    "        whisker.set(color = '#001528', linewidth = 1)\n",
    "    for cap in bp['caps']:\n",
    "        cap.set(color = '#001528', linewidth = 1)\n",
    "    for flier in bp['fliers']:\n",
    "        flier.set(marker = '+', color = '#001528', alpha = 0.5)\n",
    "\n",
    "    bins_list = bins.tolist()\n",
    "    ax.set_xticklabels(bins_list, fontsize = 14, color = 'black')\n",
    "    ax.xaxis.set_major_locator(ticker.FixedLocator([1, 11, 21, 31, 41, 51, 61, 71, 81, 91, 101]))\n",
    "    ax.axhline(0, color = 'gray', linestyle = '--', linewidth = 2, alpha = 0.8, zorder = 2)\n",
    "    ax.tick_params(labelsize = 14, color = 'black')\n",
    "    ax.set_ylabel('Magnitude error (predicted - catalog)', fontsize = 16, color = 'black')\n",
    "    ax.set_xlabel('Source depth (km)', fontsize = 16, color = 'black')\n",
    "    ax.set_ylim(-5,5)\n",
    "\n",
    "#     plt.show();\n",
    "    plt.savefig('/home/sdybing/mlaapde/testdata_preds/mlaa_only/depth_error_50km_' + str(shift_len) + 's_window_BOXPLOT.png', format = 'PNG', facecolor = 'white', transparent = False)\n",
    "    plt.close();"
   ]
  },
  {
   "cell_type": "code",
   "execution_count": 38,
   "id": "881ff53c",
   "metadata": {},
   "outputs": [],
   "source": [
    "# # Scatter plots\n",
    "\n",
    "# errors = np.loadtxt('/home/sdybing/mlaapde/testdata_preds/mlaa_only/test_errors_114s_window.txt')\n",
    "\n",
    "# fig = plt.figure(figsize = (14, 9), dpi = 300, facecolor = 'white')\n",
    "# plt.title('Magnitude prediction error by source depth (km) - 114s window', fontsize = 21, pad = 12)\n",
    "# plt.scatter(round_depth, errors, alpha = 0.2, color = '#2DADB4')\n",
    "# plt.xlabel('Source depth (km)', fontsize = 18)\n",
    "# plt.ylabel('Magnitude error (predicted - catalog)', fontsize = 18)\n",
    "# plt.xlim(min(round_depth), max(round_depth))\n",
    "# plt.axhline(0, color = 'black', linestyle = '--')\n",
    "# plt.tick_params(axis='both', labelsize = 16)\n",
    "# plt.show()\n",
    "# # plt.savefig('/home/sdybing/mlaapde/testdata_preds/mlaa_only/depth_error_114s_window.png', format = 'PNG', facecolor = 'white', transparent = False)\n",
    "# plt.close();"
   ]
  },
  {
   "cell_type": "code",
   "execution_count": 39,
   "id": "51c39540",
   "metadata": {},
   "outputs": [
    {
     "data": {
      "text/plain": [
       "656.0"
      ]
     },
     "execution_count": 39,
     "metadata": {},
     "output_type": "execute_result"
    }
   ],
   "source": [
    "max(round_depth)"
   ]
  }
 ],
 "metadata": {
  "kernelspec": {
   "display_name": "Python 3 (ipykernel)",
   "language": "python",
   "name": "python3"
  },
  "language_info": {
   "codemirror_mode": {
    "name": "ipython",
    "version": 3
   },
   "file_extension": ".py",
   "mimetype": "text/x-python",
   "name": "python",
   "nbconvert_exporter": "python",
   "pygments_lexer": "ipython3",
   "version": "3.8.8"
  }
 },
 "nbformat": 4,
 "nbformat_minor": 5
}
