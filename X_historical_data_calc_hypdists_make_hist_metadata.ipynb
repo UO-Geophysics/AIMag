{
 "cells": [
  {
   "cell_type": "code",
   "execution_count": 24,
   "id": "f52d57b5",
   "metadata": {},
   "outputs": [],
   "source": [
    "import numpy as np\n",
    "import pandas as pd"
   ]
  },
  {
   "cell_type": "code",
   "execution_count": 18,
   "id": "fa3573d3",
   "metadata": {},
   "outputs": [],
   "source": [
    "hist_stainfo = np.load('/home/sdybing/mlaapde/histdata_stainfo_wcoordinates_weventids.npy')"
   ]
  },
  {
   "cell_type": "code",
   "execution_count": 19,
   "id": "0b2481cc",
   "metadata": {},
   "outputs": [
    {
     "data": {
      "text/plain": [
       "array([['IU.GUMO', '144.8684', '13.5893', 'usp0009qb4'],\n",
       "       ['IU.GUMO', '144.8684', '13.5893', 'usp0009qb4'],\n",
       "       ['IU.GUMO', '144.8684', '13.5893', 'usp0009qb4'],\n",
       "       ...,\n",
       "       ['TA.M48A', '-71.9259', '44.2401', 'usb000h4jh'],\n",
       "       ['TA.M48A', '-71.9259', '44.2401', 'usb000h4jh'],\n",
       "       ['II.BORG', '-21.3268', '64.7474', 'usb000h4jh']], dtype='<U32')"
      ]
     },
     "execution_count": 19,
     "metadata": {},
     "output_type": "execute_result"
    }
   ],
   "source": [
    "hist_stainfo"
   ]
  },
  {
   "cell_type": "code",
   "execution_count": 15,
   "id": "932a4a01",
   "metadata": {},
   "outputs": [],
   "source": [
    "hist_eqs = np.genfromtxt('/home/sdybing/mlaapde/2000-2013_catalog.csv', delimiter = ',', dtype = 'str', skip_header = 1) # M7.5+ 01/01/2000 - 07/31/2013;\n"
   ]
  },
  {
   "cell_type": "code",
   "execution_count": 42,
   "id": "2738aa44",
   "metadata": {},
   "outputs": [
    {
     "data": {
      "text/plain": [
       "array([['2000-03-28T11:00:22.510Z', '22.338', '143.73', '126.5', '7.6',\n",
       "        'mwc', '', 'us', 'usp0009qb4', '2022-04-29T18:35:42.761Z', 'us',\n",
       "        'hrv'],\n",
       "       ['2000-05-04T04:21:16.210Z', '-1.105', '123.573', '26', '7.6',\n",
       "        'mwc', '', 'us', 'usp0009sbh', '2022-04-29T19:16:21.382Z', 'us',\n",
       "        'hrv'],\n",
       "       ['2000-06-04T16:28:26.170Z', '-4.721', '102.087', '33', '7.9',\n",
       "        'mwc', '379', 'us', 'usp0009txv', '2022-04-29T18:39:33.008Z',\n",
       "        'us', 'hrv'],\n",
       "       ['2000-06-18T14:44:13.310Z', '-13.802', '97.453', '10', '7.9',\n",
       "        'mwc', '405', 'us', 'usp0009ut0', '2022-04-29T18:42:02.193Z',\n",
       "        'us', 'hrv'],\n",
       "       ['2000-11-16T04:54:56.740Z', '-3.98', '152.169', '33', '8', 'mwc',\n",
       "        '254', 'us', 'usp000a3qq', '2022-04-29T19:26:13.204Z', 'us',\n",
       "        'hrv'],\n",
       "       ['2000-11-16T07:42:16.930Z', '-5.233', '153.102', '30', '7.8',\n",
       "        'mwc', '294', 'us', 'usp000a3sp', '2022-04-29T19:16:32.829Z',\n",
       "        'us', 'hrv'],\n",
       "       ['2000-11-17T21:01:56.490Z', '-5.496', '151.781', '33', '7.8',\n",
       "        'mwc', '346', 'us', 'usp000a45f', '2022-04-29T18:58:50.243Z',\n",
       "        'us', 'hrv'],\n",
       "       ['2001-01-01T06:57:04.170Z', '6.898', '126.579', '33', '7.5',\n",
       "        'mwc', '324', 'us', 'usp000a70h', '2022-04-29T19:03:22.544Z',\n",
       "        'us', 'hrv'],\n",
       "       ['2001-01-13T17:33:32.380Z', '13.049', '-88.66', '60', '7.7',\n",
       "        'mwc', '427', 'us', 'usp000a7m5', '2022-04-29T19:04:33.753Z',\n",
       "        'us', 'hrv'],\n",
       "       ['2001-01-26T03:16:40.500Z', '23.419', '70.232', '16', '7.7',\n",
       "        'mwc', '472', 'us', 'usp000a8ds', '2022-04-29T19:06:14.319Z',\n",
       "        'us', 'hrv'],\n",
       "       ['2001-06-23T20:33:14.130Z', '-16.265', '-73.641', '33', '8.4',\n",
       "        'mww', '518', 'official', 'official20010623203314130_33',\n",
       "        '2022-04-29T19:23:29.022Z', 'us', 'official'],\n",
       "       ['2001-07-07T09:38:43.520Z', '-17.543', '-72.077', '33', '7.6',\n",
       "        'mwc', '398', 'us', 'usp000aj40', '2022-04-29T19:25:29.098Z',\n",
       "        'us', 'hrv'],\n",
       "       ['2001-10-19T03:28:44.460Z', '-4.102', '123.907', '33', '7.5',\n",
       "        'mwc', '234', 'us', 'usp000ar78', '2022-04-29T19:37:29.631Z',\n",
       "        'us', 'hrv'],\n",
       "       ['2001-11-14T09:26:10.010Z', '35.946', '90.541', '10', '7.8',\n",
       "        'mwc', '368', 'us', 'usp000asvm', '2022-04-29T19:39:59.331Z',\n",
       "        'us', 'hrv'],\n",
       "       ['2002-03-05T21:16:09.130Z', '6.033', '124.249', '31', '7.5',\n",
       "        'mwc', '321', 'us', 'usp000azqw', '2022-05-02T15:45:49.701Z',\n",
       "        'us', 'hrv'],\n",
       "       ['2002-08-19T11:01:01.190Z', '-21.696', '-179.513', '580', '7.7',\n",
       "        'mwc', '670', 'us', 'usp000ba6g', '2022-05-02T16:14:14.819Z',\n",
       "        'us', 'hrv'],\n",
       "       ['2002-08-19T11:08:24.310Z', '-23.884', '178.495', '675.4', '7.7',\n",
       "        'mwc', '302', 'us', 'usp000ba6m', '2022-05-02T16:11:09.941Z',\n",
       "        'us', 'hrv'],\n",
       "       ['2002-09-08T18:44:23.710Z', '-3.302', '142.945', '13', '7.6',\n",
       "        'mwc', '428', 'us', 'usp000bbpf', '2022-05-02T16:07:44.247Z',\n",
       "        'us', 'hrv'],\n",
       "       ['2002-10-10T10:50:20.570Z', '-1.757', '134.297', '10', '7.6',\n",
       "        'mwc', '375', 'us', 'usp000be54', '2022-05-02T16:11:29.357Z',\n",
       "        'us', 'hrv'],\n",
       "       ['2002-11-03T22:12:41.518Z', '63.5141', '-147.4529', '4.2', '7.9',\n",
       "        'mw', '', 'ak', 'ak002e435qpj', '2022-07-12T20:11:15.869Z', 'ak',\n",
       "        'ak'],\n",
       "       ['2003-01-22T02:06:34.610Z', '18.77', '-104.104', '24', '7.6',\n",
       "        'mwb', '551', 'us', 'usp000bnyr', '2022-05-02T16:23:52.048Z',\n",
       "        'us', 'us'],\n",
       "       ['2003-07-15T20:27:50.530Z', '-2.598', '68.382', '10', '7.6',\n",
       "        'mwc', '522', 'us', 'usp000c2ka', '2022-05-02T16:39:11.559Z',\n",
       "        'us', 'hrv'],\n",
       "       ['2003-08-04T04:37:20.130Z', '-60.532', '-43.411', '10', '7.6',\n",
       "        'mwc', '315', 'us', 'usp000c41f', '2022-05-02T16:40:11.734Z',\n",
       "        'us', 'hrv'],\n",
       "       ['2003-09-25T19:50:06.360Z', '41.815', '143.91', '27', '8.16',\n",
       "        'mww', '', 'official', 'official20030925195006360_27',\n",
       "        '2022-05-02T16:44:11.135Z', 'us', 'duputel'],\n",
       "       ['2003-11-17T06:43:06.800Z', '51.146', '178.65', '33', '7.8',\n",
       "        'mwc', '604', 'us', 'usp000cd1n', '2022-05-02T16:54:06.367Z',\n",
       "        'us', 'hrv'],\n",
       "       ['2004-11-11T21:26:41.150Z', '-8.152', '124.868', '10', '7.5',\n",
       "        'mwc', '301', 'us', 'usp000d85g', '2022-07-14T19:45:32.524Z',\n",
       "        'us', 'hrv'],\n",
       "       ['2004-12-23T14:59:04.410Z', '-49.312', '161.345', '10', '8.1',\n",
       "        'mwc', '331', 'us', 'usp000db93', '2022-05-02T17:38:24.182Z',\n",
       "        'us', 'hrv'],\n",
       "       ['2004-12-26T00:58:53.450Z', '3.295', '95.982', '30', '9.1', 'mw',\n",
       "        '601', 'official', 'official20041226005853450_30',\n",
       "        '2022-07-14T19:04:56.531Z', 'us', 'official'],\n",
       "       ['2005-03-28T16:09:36.530Z', '2.085', '97.108', '30', '8.6',\n",
       "        'mww', '510', 'official', 'official20050328160936530_30',\n",
       "        '2022-07-14T17:08:13.141Z', 'us', 'official'],\n",
       "       ['2005-06-13T22:44:33.900Z', '-19.987', '-69.197', '115.6', '7.8',\n",
       "        'mwb', '714', 'us', 'usp000dsw1', '2022-07-27T01:56:37.783Z',\n",
       "        'us', 'us'],\n",
       "       ['2005-09-09T07:26:43.730Z', '-4.539', '153.474', '90', '7.6',\n",
       "        'mwc', '502', 'us', 'usp000dz2j', '2022-07-14T14:54:15.306Z',\n",
       "        'us', 'hrv'],\n",
       "       ['2005-09-26T01:55:37.670Z', '-5.678', '-76.398', '115', '7.5',\n",
       "        'mwb', '696', 'us', 'usp000e09h', '2022-07-14T14:40:30.080Z',\n",
       "        'us', 'us'],\n",
       "       ['2005-10-08T03:50:40.800Z', '34.539', '73.588', '26', '7.6',\n",
       "        'mwc', '724', 'us', 'usp000e12e', '2022-07-14T14:31:38.274Z',\n",
       "        'us', 'hrv'],\n",
       "       ['2006-01-27T16:58:53.670Z', '-5.473', '128.131', '397', '7.6',\n",
       "        'mwc', '560', 'us', 'usp000e8ys', '2022-07-14T12:36:43.741Z',\n",
       "        'us', 'hrv'],\n",
       "       ['2006-04-20T23:25:02.150Z', '60.949', '167.089', '22', '7.6',\n",
       "        'mwc', '579', 'us', 'usp000ef1h', '2022-05-02T15:29:42.339Z',\n",
       "        'us', 'hrv'],\n",
       "       ['2006-05-03T15:26:40.290Z', '-20.187', '-174.123', '55', '8',\n",
       "        'mwc', '626', 'us', 'usp000eg5g', '2022-07-14T11:33:02.464Z',\n",
       "        'us', 'hrv'],\n",
       "       ['2006-07-17T08:19:26.680Z', '-9.284', '107.419', '20', '7.7',\n",
       "        'mwc', '357', 'us', 'usp000ensm', '2022-07-14T10:46:46.015Z',\n",
       "        'us', 'hrv'],\n",
       "       ['2006-11-15T11:14:13.570Z', '46.592', '153.266', '10', '8.3',\n",
       "        'mwc', '576', 'us', 'usp000exfn', '2022-07-14T09:00:34.950Z',\n",
       "        'us', 'gcmt'],\n",
       "       ['2007-01-13T04:23:21.160Z', '46.243', '154.524', '10', '8.1',\n",
       "        'mwc', '606', 'us', 'usp000f2ab', '2022-07-14T08:15:53.956Z',\n",
       "        'us', 'gcmt'],\n",
       "       ['2007-01-21T11:27:45.060Z', '1.065', '126.282', '22', '7.5',\n",
       "        'mwc', '570', 'us', 'usp000f34b', '2022-07-14T08:08:59.870Z',\n",
       "        'us', 'gcmt'],\n",
       "       ['2007-04-01T20:39:58.710Z', '-8.466', '157.043', '24', '8.1',\n",
       "        'mwc', '439', 'us', 'usp000f83m', '2022-07-14T07:01:32.418Z',\n",
       "        'us', 'gcmt'],\n",
       "       ['2007-08-08T17:05:04.920Z', '-5.859', '107.419', '280', '7.5',\n",
       "        'mwc', '228', 'us', 'usp000fj6k', '2022-05-09T19:12:38.751Z',\n",
       "        'us', 'gcmt'],\n",
       "       ['2007-08-15T23:40:57.890Z', '-13.386', '-76.603', '39', '8',\n",
       "        'mwc', '625', 'us', 'usp000fjta', '2022-08-14T02:30:07.224Z',\n",
       "        'us', 'gcmt'],\n",
       "       ['2007-09-12T11:10:26.830Z', '-4.438', '101.367', '34', '8.4',\n",
       "        'mww', '411', 'official', 'official20070912111026830_34',\n",
       "        '2022-07-14T03:10:27.019Z', 'us', 'official'],\n",
       "       ['2007-09-12T23:49:03.720Z', '-2.625', '100.841', '35', '7.9',\n",
       "        'mwc', '446', 'us', 'usp000fn2b', '2022-07-14T03:06:52.110Z',\n",
       "        'us', 'gcmt'],\n",
       "       ['2007-09-28T13:38:57.880Z', '22.013', '142.668', '260', '7.5',\n",
       "        'mwc', '558', 'us', 'usp000fpca', '2022-07-14T02:30:19.087Z',\n",
       "        'us', 'gcmt'],\n",
       "       ['2007-11-14T15:40:50.530Z', '-22.247', '-69.89', '40', '7.7',\n",
       "        'mwc', '610', 'us', 'usp000fshy', '2022-07-27T00:50:29.919Z',\n",
       "        'us', 'gcmt'],\n",
       "       ['2007-12-09T07:28:20.820Z', '-25.996', '-177.514', '152.5',\n",
       "        '7.8', 'mwc', '512', 'us', 'usp000fu3q',\n",
       "        '2022-07-14T00:10:26.485Z', 'us', 'gcmt'],\n",
       "       ['2008-05-12T06:28:01.570Z', '31.002', '103.322', '19', '7.9',\n",
       "        'mwc', '774', 'us', 'usp000g650', '2022-08-09T08:58:40.211Z',\n",
       "        'us', 'us'],\n",
       "       ['2008-07-05T02:12:04.480Z', '53.882', '152.886', '632.8', '7.7',\n",
       "        'mwc', '777', 'us', 'usp000gbc0', '2022-07-13T04:39:04.928Z',\n",
       "        'us', 'us'],\n",
       "       ['2009-01-03T19:43:50.650Z', '-0.414', '132.885', '17', '7.7',\n",
       "        'mwc', '288', 'us', 'usp000gs2d', '2022-07-15T03:38:55.850Z',\n",
       "        'us', 'gcmt'],\n",
       "       ['2009-03-19T18:17:40.470Z', '-23.043', '-174.66', '31', '7.6',\n",
       "        'mwc', '504', 'us', 'usp000gv5p', '2022-07-15T06:13:32.074Z',\n",
       "        'us', 'us'],\n",
       "       ['2009-07-15T09:22:29.030Z', '-45.762', '166.562', '12', '7.8',\n",
       "        'mwc', '434', 'us', 'usp000gz8j', '2022-07-15T13:59:45.046Z',\n",
       "        'wel', 'gcmt'],\n",
       "       ['2009-08-10T19:55:38.730Z', '14.099', '92.902', '24', '7.5',\n",
       "        'mwc', '303', 'us', 'usp000h05x', '2022-07-15T15:33:51.153Z',\n",
       "        'us', 'us'],\n",
       "       ['2009-09-29T17:48:10.990Z', '-15.489', '-172.095', '18', '8.1',\n",
       "        'mwc', '520', 'us', 'usp000h1ys', '2022-07-15T18:20:44.470Z',\n",
       "        'us', 'gcmt'],\n",
       "       ['2009-09-30T10:16:09.250Z', '-0.72', '99.867', '81', '7.6',\n",
       "        'mwc', '498', 'us', 'usp000h237', '2022-07-15T18:24:11.761Z',\n",
       "        'us', 'gcmt'],\n",
       "       ['2009-10-07T22:03:14.470Z', '-13.006', '166.51', '45', '7.7',\n",
       "        'mww', '283', 'us', 'usp000h2g9', '2022-07-15T18:45:47.803Z',\n",
       "        'us', 'us'],\n",
       "       ['2009-10-07T22:18:51.240Z', '-12.517', '166.382', '35', '7.8',\n",
       "        'mwc', '195', 'us', 'usp000h2gd', '2022-05-02T21:29:39.820Z',\n",
       "        'us', 'us'],\n",
       "       ['2010-02-27T06:34:11.530Z', '-36.122', '-72.898', '22.9', '8.8',\n",
       "        'mww', '454', 'official', 'official20100227063411530_30',\n",
       "        '2022-08-23T21:21:38.351Z', 'us', 'official'],\n",
       "       ['2010-04-06T22:15:01.580Z', '2.383', '97.048', '31', '7.8',\n",
       "        'mwc', '352', 'us', 'usp000hat0', '2022-05-02T22:39:44.108Z',\n",
       "        'us', 'gcmt'],\n",
       "       ['2010-06-12T19:26:50.460Z', '7.881', '91.936', '35', '7.5',\n",
       "        'mwc', '514', 'us', 'usp000hdwb', '2022-07-16T15:24:55.383Z',\n",
       "        'us', 'gcmt'],\n",
       "       ['2010-07-23T22:51:11.840Z', '6.497', '123.48', '578', '7.6',\n",
       "        'mwc', '340', 'us', 'usp000hgmh', '2022-07-18T17:00:38.641Z',\n",
       "        'us', 'us'],\n",
       "       ['2010-07-23T23:15:10.190Z', '6.776', '123.259', '640.6', '7.5',\n",
       "        'mwc', '441', 'us', 'usp000hgmq', '2022-07-18T17:02:13.829Z',\n",
       "        'us', 'gcmt'],\n",
       "       ['2010-10-25T14:42:22.460Z', '-3.487', '100.082', '20.1', '7.8',\n",
       "        'mwc', '379', 'us', 'usp000hnj4', '2022-07-18T22:57:12.869Z',\n",
       "        'us', 'gcmt'],\n",
       "       ['2011-03-11T05:46:24.120Z', '38.297', '142.373', '29', '9.1',\n",
       "        'mww', '541', 'official', 'official20110311054624120_30',\n",
       "        '2022-07-19T08:00:46.915Z', 'us', 'official'],\n",
       "       ['2011-03-11T06:15:40.280Z', '36.281', '141.111', '42.6', '7.9',\n",
       "        'mwc', '163', 'us', 'usp000hvpa', '2022-08-13T17:38:32.116Z',\n",
       "        'us', 'us'],\n",
       "       ['2011-03-11T06:25:50.300Z', '38.058', '144.59', '18.6', '7.7',\n",
       "        'mwc', '507', 'us', 'usp000hvpg', '2022-07-19T08:04:51.126Z',\n",
       "        'us', 'us'],\n",
       "       ['2011-07-06T19:03:18.260Z', '-29.539', '-176.34', '17', '7.6',\n",
       "        'mww', '567', 'us', 'usp000j48h', '2022-07-19T19:32:13.101Z',\n",
       "        'us', 'us'],\n",
       "       ['2012-04-11T08:38:36.720Z', '2.327', '93.063', '20', '8.6', 'mw',\n",
       "        '499', 'official', 'official20120411083836720_20',\n",
       "        '2022-05-03T15:35:45.817Z', 'us', 'official'],\n",
       "       ['2012-04-11T10:43:10.850Z', '0.802', '92.463', '25.1', '8.2',\n",
       "        'mwc', '341', 'us', 'usp000jhjb', '2022-05-03T15:35:50.003Z',\n",
       "        'us', 'us'],\n",
       "       ['2012-08-14T02:59:38.460Z', '49.8', '145.064', '583.2', '7.7',\n",
       "        'mww', '862', 'us', 'usp000jq9h', '2022-05-03T15:46:15.720Z',\n",
       "        'us', 'us'],\n",
       "       ['2012-08-31T12:47:33.380Z', '10.811', '126.638', '28', '7.6',\n",
       "        'mww', '682', 'us', 'usp000jr83', '2022-05-03T15:48:46.699Z',\n",
       "        'us', 'us'],\n",
       "       ['2012-09-05T14:42:07.800Z', '10.085', '-85.315', '35', '7.6',\n",
       "        'mww', '703', 'us', 'usp000jrsw', '2022-05-03T15:49:28.845Z',\n",
       "        'us', 'us'],\n",
       "       ['2012-10-28T03:04:08.820Z', '52.788', '-132.101', '14', '7.8',\n",
       "        'mww', '807', 'us', 'usp000juhz', '2022-05-03T16:36:15.746Z',\n",
       "        'us', 'us'],\n",
       "       ['2013-01-05T08:58:14.957Z', '55.228', '-134.8591', '8.7', '7.5',\n",
       "        'mw', '', 'ak', 'ak0138esnzr', '2022-05-03T16:02:50.203Z', 'ak',\n",
       "        'ak'],\n",
       "       ['2013-02-06T01:12:25.830Z', '-10.799', '165.114', '24', '8',\n",
       "        'mww', '460', 'us', 'usc000f1s0', '2022-07-24T17:28:55.652Z',\n",
       "        'us', 'us'],\n",
       "       ['2013-04-16T10:44:20.180Z', '28.033', '61.996', '80', '7.7',\n",
       "        'mww', '506', 'us', 'usb000g7x7', '2022-07-24T23:40:43.236Z',\n",
       "        'us', 'us'],\n",
       "       ['2013-05-24T05:44:48.980Z', '54.892', '153.221', '598.1', '8.3',\n",
       "        'mww', '385', 'us', 'usb000h4jh', '2022-07-25T02:58:04.098Z',\n",
       "        'us', 'us']], dtype='<U28')"
      ]
     },
     "execution_count": 42,
     "metadata": {},
     "output_type": "execute_result"
    }
   ],
   "source": [
    "hist_eqs"
   ]
  },
  {
   "cell_type": "code",
   "execution_count": 20,
   "id": "ee65f97b",
   "metadata": {},
   "outputs": [
    {
     "data": {
      "text/plain": [
       "35202"
      ]
     },
     "execution_count": 20,
     "metadata": {},
     "output_type": "execute_result"
    }
   ],
   "source": [
    "len(hist_stainfo)"
   ]
  },
  {
   "cell_type": "code",
   "execution_count": 25,
   "id": "e50ab354",
   "metadata": {},
   "outputs": [],
   "source": [
    "stalons = hist_stainfo[:][:,1]\n",
    "stalats = hist_stainfo[:][:,2]\n",
    "netstas = hist_stainfo[:][:,0]\n",
    "eventids = hist_stainfo[:][:,3]"
   ]
  },
  {
   "cell_type": "code",
   "execution_count": 26,
   "id": "39b3598e",
   "metadata": {},
   "outputs": [],
   "source": [
    "ds = {'netsta': netstas, 'lon': stalons, 'lat': stalats, 'eventid': eventids}\n",
    "histstas = pd.DataFrame(data=ds)"
   ]
  },
  {
   "cell_type": "code",
   "execution_count": 27,
   "id": "e45898d4",
   "metadata": {},
   "outputs": [
    {
     "data": {
      "text/html": [
       "<div>\n",
       "<style scoped>\n",
       "    .dataframe tbody tr th:only-of-type {\n",
       "        vertical-align: middle;\n",
       "    }\n",
       "\n",
       "    .dataframe tbody tr th {\n",
       "        vertical-align: top;\n",
       "    }\n",
       "\n",
       "    .dataframe thead th {\n",
       "        text-align: right;\n",
       "    }\n",
       "</style>\n",
       "<table border=\"1\" class=\"dataframe\">\n",
       "  <thead>\n",
       "    <tr style=\"text-align: right;\">\n",
       "      <th></th>\n",
       "      <th>netsta</th>\n",
       "      <th>lon</th>\n",
       "      <th>lat</th>\n",
       "      <th>eventid</th>\n",
       "    </tr>\n",
       "  </thead>\n",
       "  <tbody>\n",
       "    <tr>\n",
       "      <th>0</th>\n",
       "      <td>IU.GUMO</td>\n",
       "      <td>144.8684</td>\n",
       "      <td>13.5893</td>\n",
       "      <td>usp0009qb4</td>\n",
       "    </tr>\n",
       "    <tr>\n",
       "      <th>1</th>\n",
       "      <td>IU.GUMO</td>\n",
       "      <td>144.8684</td>\n",
       "      <td>13.5893</td>\n",
       "      <td>usp0009qb4</td>\n",
       "    </tr>\n",
       "    <tr>\n",
       "      <th>2</th>\n",
       "      <td>IU.GUMO</td>\n",
       "      <td>144.8684</td>\n",
       "      <td>13.5893</td>\n",
       "      <td>usp0009qb4</td>\n",
       "    </tr>\n",
       "    <tr>\n",
       "      <th>3</th>\n",
       "      <td>IU.MAJO</td>\n",
       "      <td>138.2041</td>\n",
       "      <td>36.5457</td>\n",
       "      <td>usp0009qb4</td>\n",
       "    </tr>\n",
       "    <tr>\n",
       "      <th>4</th>\n",
       "      <td>IU.MAJO</td>\n",
       "      <td>138.2041</td>\n",
       "      <td>36.5457</td>\n",
       "      <td>usp0009qb4</td>\n",
       "    </tr>\n",
       "    <tr>\n",
       "      <th>...</th>\n",
       "      <td>...</td>\n",
       "      <td>...</td>\n",
       "      <td>...</td>\n",
       "      <td>...</td>\n",
       "    </tr>\n",
       "    <tr>\n",
       "      <th>35197</th>\n",
       "      <td>US.LBNH</td>\n",
       "      <td>-71.9259</td>\n",
       "      <td>44.2401</td>\n",
       "      <td>usb000h4jh</td>\n",
       "    </tr>\n",
       "    <tr>\n",
       "      <th>35198</th>\n",
       "      <td>TA.M48A</td>\n",
       "      <td>-71.9259</td>\n",
       "      <td>44.2401</td>\n",
       "      <td>usb000h4jh</td>\n",
       "    </tr>\n",
       "    <tr>\n",
       "      <th>35199</th>\n",
       "      <td>TA.M48A</td>\n",
       "      <td>-71.9259</td>\n",
       "      <td>44.2401</td>\n",
       "      <td>usb000h4jh</td>\n",
       "    </tr>\n",
       "    <tr>\n",
       "      <th>35200</th>\n",
       "      <td>TA.M48A</td>\n",
       "      <td>-71.9259</td>\n",
       "      <td>44.2401</td>\n",
       "      <td>usb000h4jh</td>\n",
       "    </tr>\n",
       "    <tr>\n",
       "      <th>35201</th>\n",
       "      <td>II.BORG</td>\n",
       "      <td>-21.3268</td>\n",
       "      <td>64.7474</td>\n",
       "      <td>usb000h4jh</td>\n",
       "    </tr>\n",
       "  </tbody>\n",
       "</table>\n",
       "<p>35202 rows × 4 columns</p>\n",
       "</div>"
      ],
      "text/plain": [
       "        netsta       lon      lat     eventid\n",
       "0      IU.GUMO  144.8684  13.5893  usp0009qb4\n",
       "1      IU.GUMO  144.8684  13.5893  usp0009qb4\n",
       "2      IU.GUMO  144.8684  13.5893  usp0009qb4\n",
       "3      IU.MAJO  138.2041  36.5457  usp0009qb4\n",
       "4      IU.MAJO  138.2041  36.5457  usp0009qb4\n",
       "...        ...       ...      ...         ...\n",
       "35197  US.LBNH  -71.9259  44.2401  usb000h4jh\n",
       "35198  TA.M48A  -71.9259  44.2401  usb000h4jh\n",
       "35199  TA.M48A  -71.9259  44.2401  usb000h4jh\n",
       "35200  TA.M48A  -71.9259  44.2401  usb000h4jh\n",
       "35201  II.BORG  -21.3268  64.7474  usb000h4jh\n",
       "\n",
       "[35202 rows x 4 columns]"
      ]
     },
     "execution_count": 27,
     "metadata": {},
     "output_type": "execute_result"
    }
   ],
   "source": [
    "histstas"
   ]
  },
  {
   "cell_type": "code",
   "execution_count": 28,
   "id": "1c64543c",
   "metadata": {},
   "outputs": [],
   "source": [
    "nodup_histstas = histstas.drop_duplicates()"
   ]
  },
  {
   "cell_type": "code",
   "execution_count": 29,
   "id": "11423bfd",
   "metadata": {},
   "outputs": [
    {
     "data": {
      "text/html": [
       "<div>\n",
       "<style scoped>\n",
       "    .dataframe tbody tr th:only-of-type {\n",
       "        vertical-align: middle;\n",
       "    }\n",
       "\n",
       "    .dataframe tbody tr th {\n",
       "        vertical-align: top;\n",
       "    }\n",
       "\n",
       "    .dataframe thead th {\n",
       "        text-align: right;\n",
       "    }\n",
       "</style>\n",
       "<table border=\"1\" class=\"dataframe\">\n",
       "  <thead>\n",
       "    <tr style=\"text-align: right;\">\n",
       "      <th></th>\n",
       "      <th>netsta</th>\n",
       "      <th>lon</th>\n",
       "      <th>lat</th>\n",
       "      <th>eventid</th>\n",
       "    </tr>\n",
       "  </thead>\n",
       "  <tbody>\n",
       "    <tr>\n",
       "      <th>0</th>\n",
       "      <td>IU.GUMO</td>\n",
       "      <td>144.8684</td>\n",
       "      <td>13.5893</td>\n",
       "      <td>usp0009qb4</td>\n",
       "    </tr>\n",
       "    <tr>\n",
       "      <th>3</th>\n",
       "      <td>IU.MAJO</td>\n",
       "      <td>138.2041</td>\n",
       "      <td>36.5457</td>\n",
       "      <td>usp0009qb4</td>\n",
       "    </tr>\n",
       "    <tr>\n",
       "      <th>6</th>\n",
       "      <td>IU.TATO</td>\n",
       "      <td>121.4971</td>\n",
       "      <td>24.9735</td>\n",
       "      <td>usp0009qb4</td>\n",
       "    </tr>\n",
       "    <tr>\n",
       "      <th>9</th>\n",
       "      <td>IU.INCN</td>\n",
       "      <td>126.6244</td>\n",
       "      <td>37.4777</td>\n",
       "      <td>usp0009qb4</td>\n",
       "    </tr>\n",
       "    <tr>\n",
       "      <th>12</th>\n",
       "      <td>IC.SSE</td>\n",
       "      <td>121.1908</td>\n",
       "      <td>31.0948</td>\n",
       "      <td>usp0009qb4</td>\n",
       "    </tr>\n",
       "    <tr>\n",
       "      <th>...</th>\n",
       "      <td>...</td>\n",
       "      <td>...</td>\n",
       "      <td>...</td>\n",
       "      <td>...</td>\n",
       "    </tr>\n",
       "    <tr>\n",
       "      <th>35191</th>\n",
       "      <td>TA.M50A</td>\n",
       "      <td>-83.0428</td>\n",
       "      <td>41.4035</td>\n",
       "      <td>usb000h4jh</td>\n",
       "    </tr>\n",
       "    <tr>\n",
       "      <th>35194</th>\n",
       "      <td>TA.N49A</td>\n",
       "      <td>-84.1825</td>\n",
       "      <td>40.922</td>\n",
       "      <td>usb000h4jh</td>\n",
       "    </tr>\n",
       "    <tr>\n",
       "      <th>35197</th>\n",
       "      <td>US.LBNH</td>\n",
       "      <td>-71.9259</td>\n",
       "      <td>44.2401</td>\n",
       "      <td>usb000h4jh</td>\n",
       "    </tr>\n",
       "    <tr>\n",
       "      <th>35198</th>\n",
       "      <td>TA.M48A</td>\n",
       "      <td>-71.9259</td>\n",
       "      <td>44.2401</td>\n",
       "      <td>usb000h4jh</td>\n",
       "    </tr>\n",
       "    <tr>\n",
       "      <th>35201</th>\n",
       "      <td>II.BORG</td>\n",
       "      <td>-21.3268</td>\n",
       "      <td>64.7474</td>\n",
       "      <td>usb000h4jh</td>\n",
       "    </tr>\n",
       "  </tbody>\n",
       "</table>\n",
       "<p>13449 rows × 4 columns</p>\n",
       "</div>"
      ],
      "text/plain": [
       "        netsta       lon      lat     eventid\n",
       "0      IU.GUMO  144.8684  13.5893  usp0009qb4\n",
       "3      IU.MAJO  138.2041  36.5457  usp0009qb4\n",
       "6      IU.TATO  121.4971  24.9735  usp0009qb4\n",
       "9      IU.INCN  126.6244  37.4777  usp0009qb4\n",
       "12      IC.SSE  121.1908  31.0948  usp0009qb4\n",
       "...        ...       ...      ...         ...\n",
       "35191  TA.M50A  -83.0428  41.4035  usb000h4jh\n",
       "35194  TA.N49A  -84.1825   40.922  usb000h4jh\n",
       "35197  US.LBNH  -71.9259  44.2401  usb000h4jh\n",
       "35198  TA.M48A  -71.9259  44.2401  usb000h4jh\n",
       "35201  II.BORG  -21.3268  64.7474  usb000h4jh\n",
       "\n",
       "[13449 rows x 4 columns]"
      ]
     },
     "execution_count": 29,
     "metadata": {},
     "output_type": "execute_result"
    }
   ],
   "source": [
    "nodup_histstas"
   ]
  },
  {
   "cell_type": "code",
   "execution_count": 30,
   "id": "a9b866c3",
   "metadata": {},
   "outputs": [],
   "source": [
    "bad_hist_indices = np.loadtxt('/home/sdybing/mlaapde/codes/bad_historic_waves.txt').astype(int)"
   ]
  },
  {
   "cell_type": "code",
   "execution_count": 31,
   "id": "e9d1a0e9",
   "metadata": {},
   "outputs": [
    {
     "name": "stdout",
     "output_type": "stream",
     "text": [
      "(13449, 4)\n"
     ]
    }
   ],
   "source": [
    "np_nodup = nodup_histstas.to_numpy()\n",
    "print(np_nodup.shape)"
   ]
  },
  {
   "cell_type": "code",
   "execution_count": 32,
   "id": "75c12ae9",
   "metadata": {},
   "outputs": [
    {
     "name": "stdout",
     "output_type": "stream",
     "text": [
      "(13151, 4)\n"
     ]
    }
   ],
   "source": [
    "np_nodup_dropbad = np.delete(np_nodup, bad_hist_indices, axis = 0)\n",
    "print(np_nodup_dropbad.shape)"
   ]
  },
  {
   "cell_type": "code",
   "execution_count": 33,
   "id": "bc7857eb",
   "metadata": {},
   "outputs": [
    {
     "data": {
      "text/plain": [
       "array([['IU.GUMO', '144.8684', '13.5893', 'usp0009qb4'],\n",
       "       ['IU.MAJO', '138.2041', '36.5457', 'usp0009qb4'],\n",
       "       ['IU.TATO', '121.4971', '24.9735', 'usp0009qb4'],\n",
       "       ...,\n",
       "       ['US.LBNH', '-71.9259', '44.2401', 'usb000h4jh'],\n",
       "       ['TA.M48A', '-71.9259', '44.2401', 'usb000h4jh'],\n",
       "       ['II.BORG', '-21.3268', '64.7474', 'usb000h4jh']], dtype=object)"
      ]
     },
     "execution_count": 33,
     "metadata": {},
     "output_type": "execute_result"
    }
   ],
   "source": [
    "np_nodup_dropbad"
   ]
  },
  {
   "cell_type": "code",
   "execution_count": 34,
   "id": "41aa88dc",
   "metadata": {},
   "outputs": [],
   "source": [
    "netstas_final = np_nodup_dropbad[:,0]\n",
    "lons_final = np_nodup_dropbad[:,1]\n",
    "lats_final = np_nodup_dropbad[:,2]\n",
    "eventids_final = np_nodup_dropbad[:,3]"
   ]
  },
  {
   "cell_type": "code",
   "execution_count": 36,
   "id": "8b3e221e",
   "metadata": {},
   "outputs": [],
   "source": [
    "stations = np_nodup_dropbad\n",
    "eqs = hist_eqs"
   ]
  },
  {
   "cell_type": "code",
   "execution_count": 48,
   "id": "011613a0",
   "metadata": {},
   "outputs": [
    {
     "data": {
      "text/plain": [
       "array([['IU.GUMO', '144.8684', '13.5893', 'usp0009qb4'],\n",
       "       ['IU.MAJO', '138.2041', '36.5457', 'usp0009qb4'],\n",
       "       ['IU.TATO', '121.4971', '24.9735', 'usp0009qb4'],\n",
       "       ...,\n",
       "       ['US.LBNH', '-71.9259', '44.2401', 'usb000h4jh'],\n",
       "       ['TA.M48A', '-71.9259', '44.2401', 'usb000h4jh'],\n",
       "       ['II.BORG', '-21.3268', '64.7474', 'usb000h4jh']], dtype=object)"
      ]
     },
     "execution_count": 48,
     "metadata": {},
     "output_type": "execute_result"
    }
   ],
   "source": [
    "stations"
   ]
  },
  {
   "cell_type": "code",
   "execution_count": 52,
   "id": "b31bc8af",
   "metadata": {},
   "outputs": [
    {
     "data": {
      "text/plain": [
       "array(['13.5893', '36.5457', '24.9735', ..., '44.2401', '44.2401',\n",
       "       '64.7474'], dtype=object)"
      ]
     },
     "execution_count": 52,
     "metadata": {},
     "output_type": "execute_result"
    }
   ],
   "source": [
    "stations[:,2]"
   ]
  },
  {
   "cell_type": "code",
   "execution_count": 56,
   "id": "1d8599ef",
   "metadata": {},
   "outputs": [
    {
     "data": {
      "text/plain": [
       "array(['143.73', '123.573', '102.087', '97.453', '152.169', '153.102',\n",
       "       '151.781', '126.579', '-88.66', '70.232', '-73.641', '-72.077',\n",
       "       '123.907', '90.541', '124.249', '-179.513', '178.495', '142.945',\n",
       "       '134.297', '-147.4529', '-104.104', '68.382', '-43.411', '143.91',\n",
       "       '178.65', '124.868', '161.345', '95.982', '97.108', '-69.197',\n",
       "       '153.474', '-76.398', '73.588', '128.131', '167.089', '-174.123',\n",
       "       '107.419', '153.266', '154.524', '126.282', '157.043', '107.419',\n",
       "       '-76.603', '101.367', '100.841', '142.668', '-69.89', '-177.514',\n",
       "       '103.322', '152.886', '132.885', '-174.66', '166.562', '92.902',\n",
       "       '-172.095', '99.867', '166.51', '166.382', '-72.898', '97.048',\n",
       "       '91.936', '123.48', '123.259', '100.082', '142.373', '141.111',\n",
       "       '144.59', '-176.34', '93.063', '92.463', '145.064', '126.638',\n",
       "       '-85.315', '-132.101', '-134.8591', '165.114', '61.996', '153.221'],\n",
       "      dtype='<U28')"
      ]
     },
     "execution_count": 56,
     "metadata": {},
     "output_type": "execute_result"
    }
   ],
   "source": [
    "eqs[:,2]"
   ]
  },
  {
   "cell_type": "code",
   "execution_count": 53,
   "id": "b7f7ba46",
   "metadata": {},
   "outputs": [],
   "source": [
    "source_eventids = eqs[:,8]"
   ]
  },
  {
   "cell_type": "code",
   "execution_count": 54,
   "id": "5193a3bb",
   "metadata": {},
   "outputs": [
    {
     "data": {
      "text/plain": [
       "array(['usp0009qb4', 'usp0009sbh', 'usp0009txv', 'usp0009ut0',\n",
       "       'usp000a3qq', 'usp000a3sp', 'usp000a45f', 'usp000a70h',\n",
       "       'usp000a7m5', 'usp000a8ds', 'official20010623203314130_33',\n",
       "       'usp000aj40', 'usp000ar78', 'usp000asvm', 'usp000azqw',\n",
       "       'usp000ba6g', 'usp000ba6m', 'usp000bbpf', 'usp000be54',\n",
       "       'ak002e435qpj', 'usp000bnyr', 'usp000c2ka', 'usp000c41f',\n",
       "       'official20030925195006360_27', 'usp000cd1n', 'usp000d85g',\n",
       "       'usp000db93', 'official20041226005853450_30',\n",
       "       'official20050328160936530_30', 'usp000dsw1', 'usp000dz2j',\n",
       "       'usp000e09h', 'usp000e12e', 'usp000e8ys', 'usp000ef1h',\n",
       "       'usp000eg5g', 'usp000ensm', 'usp000exfn', 'usp000f2ab',\n",
       "       'usp000f34b', 'usp000f83m', 'usp000fj6k', 'usp000fjta',\n",
       "       'official20070912111026830_34', 'usp000fn2b', 'usp000fpca',\n",
       "       'usp000fshy', 'usp000fu3q', 'usp000g650', 'usp000gbc0',\n",
       "       'usp000gs2d', 'usp000gv5p', 'usp000gz8j', 'usp000h05x',\n",
       "       'usp000h1ys', 'usp000h237', 'usp000h2g9', 'usp000h2gd',\n",
       "       'official20100227063411530_30', 'usp000hat0', 'usp000hdwb',\n",
       "       'usp000hgmh', 'usp000hgmq', 'usp000hnj4',\n",
       "       'official20110311054624120_30', 'usp000hvpa', 'usp000hvpg',\n",
       "       'usp000j48h', 'official20120411083836720_20', 'usp000jhjb',\n",
       "       'usp000jq9h', 'usp000jr83', 'usp000jrsw', 'usp000juhz',\n",
       "       'ak0138esnzr', 'usc000f1s0', 'usb000g7x7', 'usb000h4jh'],\n",
       "      dtype='<U28')"
      ]
     },
     "execution_count": 54,
     "metadata": {},
     "output_type": "execute_result"
    }
   ],
   "source": [
    "source_eventids"
   ]
  },
  {
   "cell_type": "code",
   "execution_count": 82,
   "id": "3ae6d2f9",
   "metadata": {},
   "outputs": [
    {
     "name": "stdout",
     "output_type": "stream",
     "text": [
      "13151\n",
      "13151\n",
      "13151\n",
      "13151\n",
      "13151\n",
      "13151\n",
      "13151\n",
      "13151\n"
     ]
    }
   ],
   "source": [
    "from obspy.geodetics import gps2dist_azimuth, kilometer2degrees\n",
    "\n",
    "netsta_names = []\n",
    "sta_eventids = []\n",
    "sta_lons = []\n",
    "sta_lats = []\n",
    "source_lons = []\n",
    "source_lats = []\n",
    "dists_km = []\n",
    "source_depths_km = []\n",
    "\n",
    "for idx in range(len(stations)):\n",
    "    \n",
    "    netsta_name = stations[idx,0]\n",
    "    sta_eventid = stations[idx,3]\n",
    "    sta_lon = float(stations[idx,1])\n",
    "    sta_lat = float(stations[idx,2])\n",
    "    \n",
    "    i = np.where(sta_eventid == source_eventids)[0]\n",
    "#     print(i)\n",
    "    \n",
    "    source_lon = float(eqs[i,2][0])\n",
    "    source_lat = float(eqs[i,1][0])\n",
    "    source_depth = float(eqs[i,3][0])\n",
    "    \n",
    "#     print('--------------------------')\n",
    "#     print('Sta eventid: ' + str(sta_eventid))\n",
    "#     print('Source eventid: ' + str(source_eventids[i][0]))\n",
    "#     print('Sta lon: ' + str(sta_lon))\n",
    "#     print('Sta lat: ' + str(sta_lat))\n",
    "#     print('Source lon: ' + str(source_lon))\n",
    "#     print('Source lat: ' + str(source_lat))\n",
    "#     print('Source depth: ' + str(source_depth))\n",
    "    \n",
    "    distaz = gps2dist_azimuth(source_lat, source_lon, sta_lat, sta_lon)\n",
    "    dist_m = distaz[0]\n",
    "    dist_km = dist_m/1000\n",
    "    \n",
    "    netsta_names.append(netsta_name)\n",
    "    sta_eventids.append(sta_eventid)\n",
    "    sta_lons.append(sta_lon)\n",
    "    sta_lats.append(sta_lat)\n",
    "    source_lons.append(source_lon)\n",
    "    source_lats.append(source_lat)\n",
    "    dists_km.append(dist_km)\n",
    "    source_depths_km.append(source_depth)\n",
    "    \n",
    "#     print('Hypocentral distance (km): ' + str(dist_km))\n",
    "    \n",
    "#     if idx == 0:\n",
    "#         print(dists_km)\n",
    "#         print(dists_deg)\n",
    "\n",
    "print(len(netsta_names))\n",
    "print(len(sta_eventids))\n",
    "print(len(sta_lons))\n",
    "print(len(sta_lats))\n",
    "print(len(source_lons))\n",
    "print(len(source_lats))\n",
    "print(len(dists_km))\n",
    "print(len(source_depths_km))"
   ]
  },
  {
   "cell_type": "code",
   "execution_count": 83,
   "id": "f898b2e8",
   "metadata": {},
   "outputs": [
    {
     "data": {
      "text/plain": [
       "(13151, 8)"
      ]
     },
     "execution_count": 83,
     "metadata": {},
     "output_type": "execute_result"
    }
   ],
   "source": [
    "hist_metadata = np.column_stack((np.array(sta_eventids),np.array(netsta_names),np.array(sta_lons),np.array(sta_lats),np.array(source_lons),np.array(source_lats),np.array(dists_km),np.array(source_depths_km)))\n",
    "hist_metadata.shape\n",
    "\n",
    "\n",
    "\n"
   ]
  },
  {
   "cell_type": "code",
   "execution_count": 84,
   "id": "88cc78eb",
   "metadata": {},
   "outputs": [
    {
     "name": "stdout",
     "output_type": "stream",
     "text": [
      "['usp0009qb4' 'IU.GUMO' '144.8684' '13.5893' '143.73' '22.338'\n",
      " '975.7817879487706' '126.5']\n"
     ]
    }
   ],
   "source": [
    "print(hist_metadata[0])"
   ]
  },
  {
   "cell_type": "code",
   "execution_count": 85,
   "id": "a22d5f56",
   "metadata": {},
   "outputs": [],
   "source": [
    "np.save('/home/sdybing/mlaapde/hist_metadata_hypdist.npy', hist_metadata)"
   ]
  },
  {
   "cell_type": "code",
   "execution_count": null,
   "id": "c99ee6f9",
   "metadata": {},
   "outputs": [],
   "source": [
    "# Compare columns with test_metadata_hypdist for MLAAPDE data to put them together to do full distance analysis"
   ]
  }
 ],
 "metadata": {
  "kernelspec": {
   "display_name": "Python 3 (ipykernel)",
   "language": "python",
   "name": "python3"
  },
  "language_info": {
   "codemirror_mode": {
    "name": "ipython",
    "version": 3
   },
   "file_extension": ".py",
   "mimetype": "text/x-python",
   "name": "python",
   "nbconvert_exporter": "python",
   "pygments_lexer": "ipython3",
   "version": "3.8.8"
  }
 },
 "nbformat": 4,
 "nbformat_minor": 5
}
