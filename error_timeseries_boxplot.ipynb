{
 "cells": [
  {
   "cell_type": "code",
   "execution_count": 1,
   "id": "4578f02d",
   "metadata": {},
   "outputs": [],
   "source": [
    "import matplotlib.pyplot as plt\n",
    "import numpy as np\n",
    "import matplotlib.ticker as ticker"
   ]
  },
  {
   "cell_type": "code",
   "execution_count": 2,
   "id": "9bd965db",
   "metadata": {},
   "outputs": [],
   "source": [
    "cut_lens = [7, 8, 9, 10, 11, 12, 13, 14, 15, 16, 17, 18, 19, 20, 25, 30, 35, 40, 50, 60, 70, 80, 90, 100, 110, 120]\n",
    "desired_shift = 3\n",
    "max_shift = desired_shift * 2\n",
    "\n",
    "shift_lengths = []\n",
    "\n",
    "for cut_len in cut_lens:\n",
    "    shift_len = cut_len - max_shift\n",
    "    shift_lengths.append(shift_len)"
   ]
  },
  {
   "cell_type": "code",
   "execution_count": null,
   "id": "f56b05a6",
   "metadata": {},
   "outputs": [],
   "source": [
    "# Didn't save all errors"
   ]
  },
  {
   "cell_type": "code",
   "execution_count": null,
   "id": "bec60b4f",
   "metadata": {},
   "outputs": [],
   "source": []
  }
 ],
 "metadata": {
  "kernelspec": {
   "display_name": "Python 3",
   "language": "python",
   "name": "python3"
  },
  "language_info": {
   "codemirror_mode": {
    "name": "ipython",
    "version": 3
   },
   "file_extension": ".py",
   "mimetype": "text/x-python",
   "name": "python",
   "nbconvert_exporter": "python",
   "pygments_lexer": "ipython3",
   "version": "3.8.8"
  }
 },
 "nbformat": 4,
 "nbformat_minor": 5
}
