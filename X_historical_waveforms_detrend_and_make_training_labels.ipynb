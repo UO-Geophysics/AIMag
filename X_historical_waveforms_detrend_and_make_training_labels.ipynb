{
 "cells": [
  {
   "cell_type": "code",
   "execution_count": 1,
   "id": "ef4b3cbb",
   "metadata": {},
   "outputs": [],
   "source": [
    "from obspy.clients.fdsn import Client\n",
    "from obspy import UTCDateTime, read\n",
    "import matplotlib\n",
    "import matplotlib.pyplot as plt\n",
    "import numpy as np\n",
    "from obspy.io.quakeml.core import Unpickler\n",
    "import pandas as pd\n",
    "import os\n",
    "\n",
    "client = Client(\"IRIS\")"
   ]
  },
  {
   "cell_type": "code",
   "execution_count": 2,
   "id": "2d2d922b",
   "metadata": {},
   "outputs": [],
   "source": [
    "# Paths\n",
    "\n",
    "mseeds_path = '/data/sdybing/olderdata/mseeds/'\n",
    "array_path = '/data/sdybing/olderdata/arrays/'\n",
    "\n",
    "# Event catalog\n",
    "\n",
    "new_catalog = np.genfromtxt('/home/sdybing/neic-mlaapde/2000-2013_catalog.csv', delimiter = ',', dtype = 'str', skip_header = 1) # M7.5+ 01/01/2000 - 07/31/2013\n",
    "event_ids = new_catalog[:,8]\n",
    "\n",
    "# Other things\n",
    "\n",
    "resample_hz = 20\n",
    "nsamp_historic = 13449\n",
    "n_channels = 3\n",
    "window_len = 120\n",
    "historic_test_waves = np.zeros(shape = (nsamp_historic, window_len * resample_hz, n_channels))"
   ]
  },
  {
   "cell_type": "code",
   "execution_count": 3,
   "id": "51f7b12f",
   "metadata": {},
   "outputs": [
    {
     "data": {
      "text/plain": [
       "array([['2000-03-28T11:00:22.510Z', '22.338', '143.73', '126.5', '7.6',\n",
       "        'mwc', '', 'us', 'usp0009qb4', '2022-04-29T18:35:42.761Z', 'us',\n",
       "        'hrv'],\n",
       "       ['2000-05-04T04:21:16.210Z', '-1.105', '123.573', '26', '7.6',\n",
       "        'mwc', '', 'us', 'usp0009sbh', '2022-04-29T19:16:21.382Z', 'us',\n",
       "        'hrv'],\n",
       "       ['2000-06-04T16:28:26.170Z', '-4.721', '102.087', '33', '7.9',\n",
       "        'mwc', '379', 'us', 'usp0009txv', '2022-04-29T18:39:33.008Z',\n",
       "        'us', 'hrv'],\n",
       "       ['2000-06-18T14:44:13.310Z', '-13.802', '97.453', '10', '7.9',\n",
       "        'mwc', '405', 'us', 'usp0009ut0', '2022-04-29T18:42:02.193Z',\n",
       "        'us', 'hrv'],\n",
       "       ['2000-11-16T04:54:56.740Z', '-3.98', '152.169', '33', '8', 'mwc',\n",
       "        '254', 'us', 'usp000a3qq', '2022-04-29T19:26:13.204Z', 'us',\n",
       "        'hrv'],\n",
       "       ['2000-11-16T07:42:16.930Z', '-5.233', '153.102', '30', '7.8',\n",
       "        'mwc', '294', 'us', 'usp000a3sp', '2022-04-29T19:16:32.829Z',\n",
       "        'us', 'hrv'],\n",
       "       ['2000-11-17T21:01:56.490Z', '-5.496', '151.781', '33', '7.8',\n",
       "        'mwc', '346', 'us', 'usp000a45f', '2022-04-29T18:58:50.243Z',\n",
       "        'us', 'hrv'],\n",
       "       ['2001-01-01T06:57:04.170Z', '6.898', '126.579', '33', '7.5',\n",
       "        'mwc', '324', 'us', 'usp000a70h', '2022-04-29T19:03:22.544Z',\n",
       "        'us', 'hrv'],\n",
       "       ['2001-01-13T17:33:32.380Z', '13.049', '-88.66', '60', '7.7',\n",
       "        'mwc', '427', 'us', 'usp000a7m5', '2022-04-29T19:04:33.753Z',\n",
       "        'us', 'hrv'],\n",
       "       ['2001-01-26T03:16:40.500Z', '23.419', '70.232', '16', '7.7',\n",
       "        'mwc', '472', 'us', 'usp000a8ds', '2022-04-29T19:06:14.319Z',\n",
       "        'us', 'hrv'],\n",
       "       ['2001-06-23T20:33:14.130Z', '-16.265', '-73.641', '33', '8.4',\n",
       "        'mww', '518', 'official', 'official20010623203314130_33',\n",
       "        '2022-04-29T19:23:29.022Z', 'us', 'official'],\n",
       "       ['2001-07-07T09:38:43.520Z', '-17.543', '-72.077', '33', '7.6',\n",
       "        'mwc', '398', 'us', 'usp000aj40', '2022-04-29T19:25:29.098Z',\n",
       "        'us', 'hrv'],\n",
       "       ['2001-10-19T03:28:44.460Z', '-4.102', '123.907', '33', '7.5',\n",
       "        'mwc', '234', 'us', 'usp000ar78', '2022-04-29T19:37:29.631Z',\n",
       "        'us', 'hrv'],\n",
       "       ['2001-11-14T09:26:10.010Z', '35.946', '90.541', '10', '7.8',\n",
       "        'mwc', '368', 'us', 'usp000asvm', '2022-04-29T19:39:59.331Z',\n",
       "        'us', 'hrv'],\n",
       "       ['2002-03-05T21:16:09.130Z', '6.033', '124.249', '31', '7.5',\n",
       "        'mwc', '321', 'us', 'usp000azqw', '2022-05-02T15:45:49.701Z',\n",
       "        'us', 'hrv'],\n",
       "       ['2002-08-19T11:01:01.190Z', '-21.696', '-179.513', '580', '7.7',\n",
       "        'mwc', '670', 'us', 'usp000ba6g', '2022-05-02T16:14:14.819Z',\n",
       "        'us', 'hrv'],\n",
       "       ['2002-08-19T11:08:24.310Z', '-23.884', '178.495', '675.4', '7.7',\n",
       "        'mwc', '302', 'us', 'usp000ba6m', '2022-05-02T16:11:09.941Z',\n",
       "        'us', 'hrv'],\n",
       "       ['2002-09-08T18:44:23.710Z', '-3.302', '142.945', '13', '7.6',\n",
       "        'mwc', '428', 'us', 'usp000bbpf', '2022-05-02T16:07:44.247Z',\n",
       "        'us', 'hrv'],\n",
       "       ['2002-10-10T10:50:20.570Z', '-1.757', '134.297', '10', '7.6',\n",
       "        'mwc', '375', 'us', 'usp000be54', '2022-05-02T16:11:29.357Z',\n",
       "        'us', 'hrv'],\n",
       "       ['2002-11-03T22:12:41.518Z', '63.5141', '-147.4529', '4.2', '7.9',\n",
       "        'mw', '', 'ak', 'ak002e435qpj', '2022-07-12T20:11:15.869Z', 'ak',\n",
       "        'ak'],\n",
       "       ['2003-01-22T02:06:34.610Z', '18.77', '-104.104', '24', '7.6',\n",
       "        'mwb', '551', 'us', 'usp000bnyr', '2022-05-02T16:23:52.048Z',\n",
       "        'us', 'us'],\n",
       "       ['2003-07-15T20:27:50.530Z', '-2.598', '68.382', '10', '7.6',\n",
       "        'mwc', '522', 'us', 'usp000c2ka', '2022-05-02T16:39:11.559Z',\n",
       "        'us', 'hrv'],\n",
       "       ['2003-08-04T04:37:20.130Z', '-60.532', '-43.411', '10', '7.6',\n",
       "        'mwc', '315', 'us', 'usp000c41f', '2022-05-02T16:40:11.734Z',\n",
       "        'us', 'hrv'],\n",
       "       ['2003-09-25T19:50:06.360Z', '41.815', '143.91', '27', '8.16',\n",
       "        'mww', '', 'official', 'official20030925195006360_27',\n",
       "        '2022-05-02T16:44:11.135Z', 'us', 'duputel'],\n",
       "       ['2003-11-17T06:43:06.800Z', '51.146', '178.65', '33', '7.8',\n",
       "        'mwc', '604', 'us', 'usp000cd1n', '2022-05-02T16:54:06.367Z',\n",
       "        'us', 'hrv'],\n",
       "       ['2004-11-11T21:26:41.150Z', '-8.152', '124.868', '10', '7.5',\n",
       "        'mwc', '301', 'us', 'usp000d85g', '2022-07-14T19:45:32.524Z',\n",
       "        'us', 'hrv'],\n",
       "       ['2004-12-23T14:59:04.410Z', '-49.312', '161.345', '10', '8.1',\n",
       "        'mwc', '331', 'us', 'usp000db93', '2022-05-02T17:38:24.182Z',\n",
       "        'us', 'hrv'],\n",
       "       ['2004-12-26T00:58:53.450Z', '3.295', '95.982', '30', '9.1', 'mw',\n",
       "        '601', 'official', 'official20041226005853450_30',\n",
       "        '2022-07-14T19:04:56.531Z', 'us', 'official'],\n",
       "       ['2005-03-28T16:09:36.530Z', '2.085', '97.108', '30', '8.6',\n",
       "        'mww', '510', 'official', 'official20050328160936530_30',\n",
       "        '2022-07-14T17:08:13.141Z', 'us', 'official'],\n",
       "       ['2005-06-13T22:44:33.900Z', '-19.987', '-69.197', '115.6', '7.8',\n",
       "        'mwb', '714', 'us', 'usp000dsw1', '2022-07-27T01:56:37.783Z',\n",
       "        'us', 'us'],\n",
       "       ['2005-09-09T07:26:43.730Z', '-4.539', '153.474', '90', '7.6',\n",
       "        'mwc', '502', 'us', 'usp000dz2j', '2022-07-14T14:54:15.306Z',\n",
       "        'us', 'hrv'],\n",
       "       ['2005-09-26T01:55:37.670Z', '-5.678', '-76.398', '115', '7.5',\n",
       "        'mwb', '696', 'us', 'usp000e09h', '2022-07-14T14:40:30.080Z',\n",
       "        'us', 'us'],\n",
       "       ['2005-10-08T03:50:40.800Z', '34.539', '73.588', '26', '7.6',\n",
       "        'mwc', '724', 'us', 'usp000e12e', '2022-07-14T14:31:38.274Z',\n",
       "        'us', 'hrv'],\n",
       "       ['2006-01-27T16:58:53.670Z', '-5.473', '128.131', '397', '7.6',\n",
       "        'mwc', '560', 'us', 'usp000e8ys', '2022-07-14T12:36:43.741Z',\n",
       "        'us', 'hrv'],\n",
       "       ['2006-04-20T23:25:02.150Z', '60.949', '167.089', '22', '7.6',\n",
       "        'mwc', '579', 'us', 'usp000ef1h', '2022-05-02T15:29:42.339Z',\n",
       "        'us', 'hrv'],\n",
       "       ['2006-05-03T15:26:40.290Z', '-20.187', '-174.123', '55', '8',\n",
       "        'mwc', '626', 'us', 'usp000eg5g', '2022-07-14T11:33:02.464Z',\n",
       "        'us', 'hrv'],\n",
       "       ['2006-07-17T08:19:26.680Z', '-9.284', '107.419', '20', '7.7',\n",
       "        'mwc', '357', 'us', 'usp000ensm', '2022-07-14T10:46:46.015Z',\n",
       "        'us', 'hrv'],\n",
       "       ['2006-11-15T11:14:13.570Z', '46.592', '153.266', '10', '8.3',\n",
       "        'mwc', '576', 'us', 'usp000exfn', '2022-07-14T09:00:34.950Z',\n",
       "        'us', 'gcmt'],\n",
       "       ['2007-01-13T04:23:21.160Z', '46.243', '154.524', '10', '8.1',\n",
       "        'mwc', '606', 'us', 'usp000f2ab', '2022-07-14T08:15:53.956Z',\n",
       "        'us', 'gcmt'],\n",
       "       ['2007-01-21T11:27:45.060Z', '1.065', '126.282', '22', '7.5',\n",
       "        'mwc', '570', 'us', 'usp000f34b', '2022-07-14T08:08:59.870Z',\n",
       "        'us', 'gcmt'],\n",
       "       ['2007-04-01T20:39:58.710Z', '-8.466', '157.043', '24', '8.1',\n",
       "        'mwc', '439', 'us', 'usp000f83m', '2022-07-14T07:01:32.418Z',\n",
       "        'us', 'gcmt'],\n",
       "       ['2007-08-08T17:05:04.920Z', '-5.859', '107.419', '280', '7.5',\n",
       "        'mwc', '228', 'us', 'usp000fj6k', '2022-05-09T19:12:38.751Z',\n",
       "        'us', 'gcmt'],\n",
       "       ['2007-08-15T23:40:57.890Z', '-13.386', '-76.603', '39', '8',\n",
       "        'mwc', '625', 'us', 'usp000fjta', '2022-08-14T02:30:07.224Z',\n",
       "        'us', 'gcmt'],\n",
       "       ['2007-09-12T11:10:26.830Z', '-4.438', '101.367', '34', '8.4',\n",
       "        'mww', '411', 'official', 'official20070912111026830_34',\n",
       "        '2022-07-14T03:10:27.019Z', 'us', 'official'],\n",
       "       ['2007-09-12T23:49:03.720Z', '-2.625', '100.841', '35', '7.9',\n",
       "        'mwc', '446', 'us', 'usp000fn2b', '2022-07-14T03:06:52.110Z',\n",
       "        'us', 'gcmt'],\n",
       "       ['2007-09-28T13:38:57.880Z', '22.013', '142.668', '260', '7.5',\n",
       "        'mwc', '558', 'us', 'usp000fpca', '2022-07-14T02:30:19.087Z',\n",
       "        'us', 'gcmt'],\n",
       "       ['2007-11-14T15:40:50.530Z', '-22.247', '-69.89', '40', '7.7',\n",
       "        'mwc', '610', 'us', 'usp000fshy', '2022-07-27T00:50:29.919Z',\n",
       "        'us', 'gcmt'],\n",
       "       ['2007-12-09T07:28:20.820Z', '-25.996', '-177.514', '152.5',\n",
       "        '7.8', 'mwc', '512', 'us', 'usp000fu3q',\n",
       "        '2022-07-14T00:10:26.485Z', 'us', 'gcmt'],\n",
       "       ['2008-05-12T06:28:01.570Z', '31.002', '103.322', '19', '7.9',\n",
       "        'mwc', '774', 'us', 'usp000g650', '2022-08-09T08:58:40.211Z',\n",
       "        'us', 'us'],\n",
       "       ['2008-07-05T02:12:04.480Z', '53.882', '152.886', '632.8', '7.7',\n",
       "        'mwc', '777', 'us', 'usp000gbc0', '2022-07-13T04:39:04.928Z',\n",
       "        'us', 'us'],\n",
       "       ['2009-01-03T19:43:50.650Z', '-0.414', '132.885', '17', '7.7',\n",
       "        'mwc', '288', 'us', 'usp000gs2d', '2022-07-15T03:38:55.850Z',\n",
       "        'us', 'gcmt'],\n",
       "       ['2009-03-19T18:17:40.470Z', '-23.043', '-174.66', '31', '7.6',\n",
       "        'mwc', '504', 'us', 'usp000gv5p', '2022-07-15T06:13:32.074Z',\n",
       "        'us', 'us'],\n",
       "       ['2009-07-15T09:22:29.030Z', '-45.762', '166.562', '12', '7.8',\n",
       "        'mwc', '434', 'us', 'usp000gz8j', '2022-07-15T13:59:45.046Z',\n",
       "        'wel', 'gcmt'],\n",
       "       ['2009-08-10T19:55:38.730Z', '14.099', '92.902', '24', '7.5',\n",
       "        'mwc', '303', 'us', 'usp000h05x', '2022-07-15T15:33:51.153Z',\n",
       "        'us', 'us'],\n",
       "       ['2009-09-29T17:48:10.990Z', '-15.489', '-172.095', '18', '8.1',\n",
       "        'mwc', '520', 'us', 'usp000h1ys', '2022-07-15T18:20:44.470Z',\n",
       "        'us', 'gcmt'],\n",
       "       ['2009-09-30T10:16:09.250Z', '-0.72', '99.867', '81', '7.6',\n",
       "        'mwc', '498', 'us', 'usp000h237', '2022-07-15T18:24:11.761Z',\n",
       "        'us', 'gcmt'],\n",
       "       ['2009-10-07T22:03:14.470Z', '-13.006', '166.51', '45', '7.7',\n",
       "        'mww', '283', 'us', 'usp000h2g9', '2022-07-15T18:45:47.803Z',\n",
       "        'us', 'us'],\n",
       "       ['2009-10-07T22:18:51.240Z', '-12.517', '166.382', '35', '7.8',\n",
       "        'mwc', '195', 'us', 'usp000h2gd', '2022-05-02T21:29:39.820Z',\n",
       "        'us', 'us'],\n",
       "       ['2010-02-27T06:34:11.530Z', '-36.122', '-72.898', '22.9', '8.8',\n",
       "        'mww', '454', 'official', 'official20100227063411530_30',\n",
       "        '2022-08-23T21:21:38.351Z', 'us', 'official'],\n",
       "       ['2010-04-06T22:15:01.580Z', '2.383', '97.048', '31', '7.8',\n",
       "        'mwc', '352', 'us', 'usp000hat0', '2022-05-02T22:39:44.108Z',\n",
       "        'us', 'gcmt'],\n",
       "       ['2010-06-12T19:26:50.460Z', '7.881', '91.936', '35', '7.5',\n",
       "        'mwc', '514', 'us', 'usp000hdwb', '2022-07-16T15:24:55.383Z',\n",
       "        'us', 'gcmt'],\n",
       "       ['2010-07-23T22:51:11.840Z', '6.497', '123.48', '578', '7.6',\n",
       "        'mwc', '340', 'us', 'usp000hgmh', '2022-07-18T17:00:38.641Z',\n",
       "        'us', 'us'],\n",
       "       ['2010-07-23T23:15:10.190Z', '6.776', '123.259', '640.6', '7.5',\n",
       "        'mwc', '441', 'us', 'usp000hgmq', '2022-07-18T17:02:13.829Z',\n",
       "        'us', 'gcmt'],\n",
       "       ['2010-10-25T14:42:22.460Z', '-3.487', '100.082', '20.1', '7.8',\n",
       "        'mwc', '379', 'us', 'usp000hnj4', '2022-07-18T22:57:12.869Z',\n",
       "        'us', 'gcmt'],\n",
       "       ['2011-03-11T05:46:24.120Z', '38.297', '142.373', '29', '9.1',\n",
       "        'mww', '541', 'official', 'official20110311054624120_30',\n",
       "        '2022-07-19T08:00:46.915Z', 'us', 'official'],\n",
       "       ['2011-03-11T06:15:40.280Z', '36.281', '141.111', '42.6', '7.9',\n",
       "        'mwc', '163', 'us', 'usp000hvpa', '2022-08-13T17:38:32.116Z',\n",
       "        'us', 'us'],\n",
       "       ['2011-03-11T06:25:50.300Z', '38.058', '144.59', '18.6', '7.7',\n",
       "        'mwc', '507', 'us', 'usp000hvpg', '2022-07-19T08:04:51.126Z',\n",
       "        'us', 'us'],\n",
       "       ['2011-07-06T19:03:18.260Z', '-29.539', '-176.34', '17', '7.6',\n",
       "        'mww', '567', 'us', 'usp000j48h', '2022-07-19T19:32:13.101Z',\n",
       "        'us', 'us'],\n",
       "       ['2012-04-11T08:38:36.720Z', '2.327', '93.063', '20', '8.6', 'mw',\n",
       "        '499', 'official', 'official20120411083836720_20',\n",
       "        '2022-05-03T15:35:45.817Z', 'us', 'official'],\n",
       "       ['2012-04-11T10:43:10.850Z', '0.802', '92.463', '25.1', '8.2',\n",
       "        'mwc', '341', 'us', 'usp000jhjb', '2022-05-03T15:35:50.003Z',\n",
       "        'us', 'us'],\n",
       "       ['2012-08-14T02:59:38.460Z', '49.8', '145.064', '583.2', '7.7',\n",
       "        'mww', '862', 'us', 'usp000jq9h', '2022-05-03T15:46:15.720Z',\n",
       "        'us', 'us'],\n",
       "       ['2012-08-31T12:47:33.380Z', '10.811', '126.638', '28', '7.6',\n",
       "        'mww', '682', 'us', 'usp000jr83', '2022-05-03T15:48:46.699Z',\n",
       "        'us', 'us'],\n",
       "       ['2012-09-05T14:42:07.800Z', '10.085', '-85.315', '35', '7.6',\n",
       "        'mww', '703', 'us', 'usp000jrsw', '2022-05-03T15:49:28.845Z',\n",
       "        'us', 'us'],\n",
       "       ['2012-10-28T03:04:08.820Z', '52.788', '-132.101', '14', '7.8',\n",
       "        'mww', '807', 'us', 'usp000juhz', '2022-05-03T16:36:15.746Z',\n",
       "        'us', 'us'],\n",
       "       ['2013-01-05T08:58:14.957Z', '55.228', '-134.8591', '8.7', '7.5',\n",
       "        'mw', '', 'ak', 'ak0138esnzr', '2022-05-03T16:02:50.203Z', 'ak',\n",
       "        'ak'],\n",
       "       ['2013-02-06T01:12:25.830Z', '-10.799', '165.114', '24', '8',\n",
       "        'mww', '460', 'us', 'usc000f1s0', '2022-07-24T17:28:55.652Z',\n",
       "        'us', 'us'],\n",
       "       ['2013-04-16T10:44:20.180Z', '28.033', '61.996', '80', '7.7',\n",
       "        'mww', '506', 'us', 'usb000g7x7', '2022-07-24T23:40:43.236Z',\n",
       "        'us', 'us'],\n",
       "       ['2013-05-24T05:44:48.980Z', '54.892', '153.221', '598.1', '8.3',\n",
       "        'mww', '385', 'us', 'usb000h4jh', '2022-07-25T02:58:04.098Z',\n",
       "        'us', 'us']], dtype='<U28')"
      ]
     },
     "execution_count": 3,
     "metadata": {},
     "output_type": "execute_result"
    }
   ],
   "source": [
    "new_catalog"
   ]
  },
  {
   "cell_type": "code",
   "execution_count": 3,
   "id": "f7f61d14",
   "metadata": {
    "scrolled": true
   },
   "outputs": [
    {
     "name": "stdout",
     "output_type": "stream",
     "text": [
      "/data/sdybing/olderdata/mseeds/usp0009qb4\n",
      "/data/sdybing/olderdata/mseeds/usp0009sbh\n",
      "/data/sdybing/olderdata/mseeds/usp0009txv\n",
      "/data/sdybing/olderdata/mseeds/usp0009ut0\n",
      "/data/sdybing/olderdata/mseeds/usp000a3qq\n",
      "/data/sdybing/olderdata/mseeds/usp000a3sp\n",
      "/data/sdybing/olderdata/mseeds/usp000a45f\n",
      "/data/sdybing/olderdata/mseeds/usp000a70h\n",
      "/data/sdybing/olderdata/mseeds/usp000a7m5\n",
      "/data/sdybing/olderdata/mseeds/usp000a8ds\n",
      "/data/sdybing/olderdata/mseeds/official20010623203314130_33\n",
      "/data/sdybing/olderdata/mseeds/usp000aj40\n",
      "/data/sdybing/olderdata/mseeds/usp000ar78\n",
      "/data/sdybing/olderdata/mseeds/usp000asvm\n",
      "/data/sdybing/olderdata/mseeds/usp000azqw\n",
      "/data/sdybing/olderdata/mseeds/usp000ba6g\n",
      "/data/sdybing/olderdata/mseeds/usp000ba6m\n",
      "/data/sdybing/olderdata/mseeds/usp000bbpf\n",
      "/data/sdybing/olderdata/mseeds/usp000be54\n",
      "/data/sdybing/olderdata/mseeds/ak002e435qpj\n",
      "/data/sdybing/olderdata/mseeds/usp000bnyr\n",
      "/data/sdybing/olderdata/mseeds/usp000c2ka\n",
      "/data/sdybing/olderdata/mseeds/usp000c41f\n",
      "/data/sdybing/olderdata/mseeds/official20030925195006360_27\n",
      "/data/sdybing/olderdata/mseeds/usp000cd1n\n",
      "/data/sdybing/olderdata/mseeds/usp000d85g\n",
      "/data/sdybing/olderdata/mseeds/usp000db93\n",
      "/data/sdybing/olderdata/mseeds/official20041226005853450_30\n",
      "/data/sdybing/olderdata/mseeds/official20050328160936530_30\n",
      "/data/sdybing/olderdata/mseeds/usp000dsw1\n",
      "/data/sdybing/olderdata/mseeds/usp000dz2j\n",
      "/data/sdybing/olderdata/mseeds/usp000e09h\n",
      "/data/sdybing/olderdata/mseeds/usp000e12e\n",
      "/data/sdybing/olderdata/mseeds/usp000e8ys\n",
      "/data/sdybing/olderdata/mseeds/usp000ef1h\n",
      "/data/sdybing/olderdata/mseeds/usp000eg5g\n",
      "/data/sdybing/olderdata/mseeds/usp000ensm\n",
      "/data/sdybing/olderdata/mseeds/usp000exfn\n",
      "/data/sdybing/olderdata/mseeds/usp000f2ab\n",
      "/data/sdybing/olderdata/mseeds/usp000f34b\n",
      "/data/sdybing/olderdata/mseeds/usp000f83m\n",
      "/data/sdybing/olderdata/mseeds/usp000fj6k\n",
      "/data/sdybing/olderdata/mseeds/usp000fjta\n",
      "/data/sdybing/olderdata/mseeds/official20070912111026830_34\n",
      "/data/sdybing/olderdata/mseeds/usp000fn2b\n",
      "/data/sdybing/olderdata/mseeds/usp000fpca\n",
      "/data/sdybing/olderdata/mseeds/usp000fshy\n",
      "/data/sdybing/olderdata/mseeds/usp000fu3q\n",
      "/data/sdybing/olderdata/mseeds/usp000g650\n",
      "/data/sdybing/olderdata/mseeds/usp000gbc0\n",
      "/data/sdybing/olderdata/mseeds/usp000gs2d\n",
      "/data/sdybing/olderdata/mseeds/usp000gv5p\n",
      "/data/sdybing/olderdata/mseeds/usp000gz8j\n",
      "/data/sdybing/olderdata/mseeds/usp000h05x\n",
      "/data/sdybing/olderdata/mseeds/usp000h1ys\n",
      "/data/sdybing/olderdata/mseeds/usp000h237\n",
      "/data/sdybing/olderdata/mseeds/usp000h2g9\n",
      "/data/sdybing/olderdata/mseeds/usp000h2gd\n",
      "/data/sdybing/olderdata/mseeds/official20100227063411530_30\n",
      "/data/sdybing/olderdata/mseeds/usp000hat0\n",
      "/data/sdybing/olderdata/mseeds/usp000hdwb\n",
      "/data/sdybing/olderdata/mseeds/usp000hgmh\n",
      "/data/sdybing/olderdata/mseeds/usp000hgmq\n",
      "/data/sdybing/olderdata/mseeds/usp000hnj4\n",
      "/data/sdybing/olderdata/mseeds/official20110311054624120_30\n",
      "/data/sdybing/olderdata/mseeds/usp000hvpa\n",
      "/data/sdybing/olderdata/mseeds/usp000hvpg\n",
      "/data/sdybing/olderdata/mseeds/usp000j48h\n",
      "/data/sdybing/olderdata/mseeds/official20120411083836720_20\n",
      "/data/sdybing/olderdata/mseeds/usp000jhjb\n",
      "/data/sdybing/olderdata/mseeds/usp000jq9h\n",
      "/data/sdybing/olderdata/mseeds/usp000jr83\n",
      "/data/sdybing/olderdata/mseeds/usp000jrsw\n",
      "/data/sdybing/olderdata/mseeds/usp000juhz\n",
      "/data/sdybing/olderdata/mseeds/ak0138esnzr\n",
      "/data/sdybing/olderdata/mseeds/usc000f1s0\n",
      "/data/sdybing/olderdata/mseeds/usb000g7x7\n",
      "/data/sdybing/olderdata/mseeds/usb000h4jh\n"
     ]
    }
   ],
   "source": [
    "a = 0\n",
    "historic_test_mags = []\n",
    "historic_test_magtypes = []\n",
    "historic_test_eventids = []\n",
    "    \n",
    "for idx in range(len(event_ids)):\n",
    "    \n",
    "    event_id = new_catalog[idx,8]\n",
    "#     print(event_id)\n",
    "    mag = float(new_catalog[idx,4])\n",
    "#     print(mag)\n",
    "    mag_type = new_catalog[idx,5]\n",
    "#     print(mag_type)\n",
    "    \n",
    "    event_path = mseeds_path + event_id\n",
    "    print(event_path)\n",
    "    \n",
    "    stas = []\n",
    "    in_folder = os.listdir(event_path)\n",
    "    for i in in_folder:\n",
    "        if os.path.isdir(event_path + '/' + i):\n",
    "            stas.append(i)\n",
    "    \n",
    "    for sta in stas:\n",
    "        \n",
    "        sta_path = event_path + '/' + sta\n",
    "\n",
    "        try:\n",
    "            E = read(sta_path + '/' + 'BHE.mseed')\n",
    "            E.resample(resample_hz)\n",
    "            E.detrend('demean')\n",
    "            E.detrend('linear')\n",
    "            historic_test_waves[a, :, 0] = E[0].data\n",
    "        except:\n",
    "            historic_test_waves[a, :, 0] = 0\n",
    "        try:\n",
    "            N = read(sta_path + '/' + 'BHN.mseed')\n",
    "            N.resample(resample_hz)\n",
    "            N.detrend('demean')\n",
    "            N.detrend('linear')\n",
    "            historic_test_waves[a, :, 1] = N[0].data\n",
    "                #print(N[0].stats.sampling_rate)\n",
    "        except:\n",
    "            historic_test_waves[a, :, 1] = 0\n",
    "        try:\n",
    "            Z = read(sta_path + '/' + 'BHZ.mseed')\n",
    "            Z.resample(resample_hz)\n",
    "            Z.detrend('demean')\n",
    "            Z.detrend('linear')\n",
    "            historic_test_waves[a, :, 2] = Z[0].data\n",
    "#             print(Z[0].stats.sampling_rate)\n",
    "        except:\n",
    "            historic_test_waves[a, :, 2] = 0\n",
    "\n",
    "#         print(a)\n",
    "        \n",
    "#         wmax = np.max(abs(historic_test_waves[a]))\n",
    "# #         print(wmax)\n",
    "#         if wmax == 0:\n",
    "#             print(a)\n",
    "\n",
    "        historic_test_mags.append(mag)\n",
    "        historic_test_magtypes.append(mag_type)\n",
    "        historic_test_eventids.append(event_id)\n",
    "\n",
    "        a += 1\n"
   ]
  },
  {
   "cell_type": "code",
   "execution_count": 4,
   "id": "9909843e",
   "metadata": {},
   "outputs": [
    {
     "name": "stdout",
     "output_type": "stream",
     "text": [
      "13449\n"
     ]
    }
   ],
   "source": [
    "print(a)"
   ]
  },
  {
   "cell_type": "code",
   "execution_count": 5,
   "id": "4bb8dd65",
   "metadata": {},
   "outputs": [
    {
     "name": "stdout",
     "output_type": "stream",
     "text": [
      "(13449, 2400, 3)\n",
      "13449\n",
      "13449\n",
      "13449\n"
     ]
    }
   ],
   "source": [
    "print(historic_test_waves.shape)\n",
    "print(len(historic_test_mags))\n",
    "print(len(historic_test_magtypes))\n",
    "print(len(historic_test_eventids))"
   ]
  },
  {
   "cell_type": "code",
   "execution_count": 6,
   "id": "fe93e688",
   "metadata": {},
   "outputs": [
    {
     "name": "stdout",
     "output_type": "stream",
     "text": [
      "(13449,)\n",
      "float32\n",
      "(13449,)\n",
      "<U3\n"
     ]
    }
   ],
   "source": [
    "historic_test_mags = np.array(historic_test_mags)\n",
    "historic_test_mags = np.float32(historic_test_mags)\n",
    "historic_test_magtypes = np.array(historic_test_magtypes)\n",
    "\n",
    "print(historic_test_mags.shape)\n",
    "print(historic_test_mags.dtype)\n",
    "print(historic_test_magtypes.shape)\n",
    "print(historic_test_magtypes.dtype)"
   ]
  },
  {
   "cell_type": "code",
   "execution_count": 7,
   "id": "3820c20a",
   "metadata": {},
   "outputs": [
    {
     "name": "stderr",
     "output_type": "stream",
     "text": [
      "/home/sdybing/miniconda3/envs/mlaapde/lib/python3.7/site-packages/ipykernel_launcher.py:15: RuntimeWarning: invalid value encountered in true_divide\n",
      "  from ipykernel import kernelapp as app\n",
      "/home/sdybing/miniconda3/envs/mlaapde/lib/python3.7/site-packages/ipykernel_launcher.py:16: RuntimeWarning: invalid value encountered in true_divide\n",
      "  app.launch_new_instance()\n",
      "/home/sdybing/miniconda3/envs/mlaapde/lib/python3.7/site-packages/ipykernel_launcher.py:17: RuntimeWarning: invalid value encountered in true_divide\n"
     ]
    }
   ],
   "source": [
    "norm_historic_test_waves = np.zeros(shape = (nsamp_historic, window_len * resample_hz, n_channels))\n",
    "\n",
    "for idx in range(len(historic_test_waves)):\n",
    "    \n",
    "    #print(idx)\n",
    "    wave = historic_test_waves[idx]\n",
    "    \n",
    "#     plt.figure(facecolor = 'white')\n",
    "#     plt.plot(wave[:,0])\n",
    "#     plt.plot(wave[:,1])\n",
    "#     plt.plot(wave[:,2])\n",
    "#     plt.show()\n",
    "#     plt.close()\n",
    "    \n",
    "    norm_historic_test_waves[idx,:,0] = wave[:,0] / np.max(abs(wave))\n",
    "    norm_historic_test_waves[idx,:,1] = wave[:,1] / np.max(abs(wave))\n",
    "    norm_historic_test_waves[idx,:,2] = wave[:,2] / np.max(abs(wave))\n",
    "    \n",
    "#     plt.figure(facecolor = 'white')\n",
    "#     plt.plot(norm_historic_test_waves[idx,:,0])\n",
    "#     plt.plot(norm_historic_test_waves[idx,:,1])\n",
    "#     plt.plot(norm_historic_test_waves[idx,:,2])\n",
    "#     plt.show()\n",
    "#     plt.close()\n",
    "\n",
    "# Divide error: 463"
   ]
  },
  {
   "cell_type": "code",
   "execution_count": 15,
   "id": "cec88611",
   "metadata": {},
   "outputs": [
    {
     "name": "stdout",
     "output_type": "stream",
     "text": [
      "5352\n"
     ]
    },
    {
     "data": {
      "image/png": "[encoded data removed]",
      "text/plain": [
       "<Figure size 432x288 with 1 Axes>"
      ]
     },
     "metadata": {},
     "output_type": "display_data"
    },
    {
     "data": {
      "image/png": "[encoded data removed]",
      "text/plain": [
       "<Figure size 432x288 with 1 Axes>"
      ]
     },
     "metadata": {},
     "output_type": "display_data"
    }
   ],
   "source": [
    "i = np.random.randint(0, nsamp_historic)\n",
    "#i = 572\n",
    "print(i)\n",
    "\n",
    "plt.figure(facecolor = 'white')\n",
    "plt.plot(historic_test_waves[i,:,0])\n",
    "plt.plot(historic_test_waves[i,:,1])\n",
    "plt.plot(historic_test_waves[i,:,2])\n",
    "plt.show()\n",
    "plt.close()\n",
    "\n",
    "plt.figure(facecolor = 'white')\n",
    "plt.plot(norm_historic_test_waves[i,:,0])\n",
    "plt.plot(norm_historic_test_waves[i,:,1])\n",
    "plt.plot(norm_historic_test_waves[i,:,2])\n",
    "plt.show()\n",
    "plt.close()"
   ]
  },
  {
   "cell_type": "code",
   "execution_count": 16,
   "id": "e5f2be4d",
   "metadata": {},
   "outputs": [
    {
     "data": {
      "text/plain": [
       "dtype('float64')"
      ]
     },
     "execution_count": 16,
     "metadata": {},
     "output_type": "execute_result"
    }
   ],
   "source": [
    "norm_historic_test_waves.dtype"
   ]
  },
  {
   "cell_type": "code",
   "execution_count": 10,
   "id": "97ae379a",
   "metadata": {},
   "outputs": [
    {
     "data": {
      "text/plain": [
       "(13449, 2400, 3)"
      ]
     },
     "execution_count": 10,
     "metadata": {},
     "output_type": "execute_result"
    }
   ],
   "source": [
    "norm_historic_test_waves.shape"
   ]
  },
  {
   "cell_type": "code",
   "execution_count": 11,
   "id": "1cf6fc41",
   "metadata": {},
   "outputs": [],
   "source": [
    "norm_historic_test_waves_float32 = np.float32(norm_historic_test_waves)"
   ]
  },
  {
   "cell_type": "code",
   "execution_count": 12,
   "id": "5c858fe8",
   "metadata": {},
   "outputs": [
    {
     "data": {
      "text/plain": [
       "dtype('float32')"
      ]
     },
     "execution_count": 12,
     "metadata": {},
     "output_type": "execute_result"
    }
   ],
   "source": [
    "norm_historic_test_waves_float32.dtype"
   ]
  },
  {
   "cell_type": "code",
   "execution_count": 13,
   "id": "05917b45",
   "metadata": {},
   "outputs": [],
   "source": [
    "np.save(array_path + 'historic_test_waves.npy', norm_historic_test_waves_float32)\n",
    "np.save(array_path + 'historic_test_mags.npy', historic_test_mags)\n",
    "np.save(array_path + 'historic_test_magtypes.npy', historic_test_magtypes)\n",
    "np.save(array_path + 'historic_test_eventids.npy', historic_test_eventids)"
   ]
  },
  {
   "cell_type": "code",
   "execution_count": null,
   "id": "ca83a383",
   "metadata": {},
   "outputs": [],
   "source": []
  }
 ],
 "metadata": {
  "kernelspec": {
   "display_name": "Python 3 (ipykernel)",
   "language": "python",
   "name": "python3"
  },
  "language_info": {
   "codemirror_mode": {
    "name": "ipython",
    "version": 3
   },
   "file_extension": ".py",
   "mimetype": "text/x-python",
   "name": "python",
   "nbconvert_exporter": "python",
   "pygments_lexer": "ipython3",
   "version": "3.8.8"
  }
 },
 "nbformat": 4,
 "nbformat_minor": 5
}
