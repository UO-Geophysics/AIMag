{
 "cells": [
  {
   "cell_type": "code",
   "execution_count": 15,
   "id": "d5169f73",
   "metadata": {},
   "outputs": [],
   "source": [
    "import matplotlib.pyplot as plt\n",
    "import numpy as np\n",
    "import matplotlib.ticker as ticker\n"
   ]
  },
  {
   "cell_type": "code",
   "execution_count": 20,
   "id": "c6c4e661",
   "metadata": {},
   "outputs": [],
   "source": [
    "cut_lens = [7, 8, 9, 10, 11, 12, 13, 14, 15, 16, 17, 18, 19, 20, 25, 30, 35, 40, 50, 60, 70, 80, 90, 100, 110, 120]\n",
    "desired_shift = 3\n",
    "max_shift = desired_shift * 2\n",
    "\n",
    "#mlaapde\n",
    "mlaapde = np.load('/home/sdybing/mlaapde/mlaapde_hypdists_depthskm.npy', allow_pickle = True)\n",
    "\n",
    "# Columns: \n",
    "# 0) test_phase_id\n",
    "# 1) test_sta_lats\n",
    "# 2) test_sta_lons\n",
    "# 3) test_source_lats\n",
    "# 4) test_source_lons\n",
    "# 5) dists_km_arr\n",
    "# 6) dists_deg_arr\n",
    "# 7) test_source_depthskm"
   ]
  },
  {
   "cell_type": "code",
   "execution_count": 25,
   "id": "7a81e87d",
   "metadata": {},
   "outputs": [
    {
     "data": {
      "text/plain": [
       "(13151, 8)"
      ]
     },
     "execution_count": 25,
     "metadata": {},
     "output_type": "execute_result"
    }
   ],
   "source": [
    "historic = np.load('/home/sdybing/mlaapde/hist_metadata_hypdist.npy')\n",
    "\n",
    "# Columns:\n",
    "# 0) sta_eventids\n",
    "# 1) netsta_names\n",
    "# 2) sta_lons\n",
    "# 3) sta_lats\n",
    "# 4) source_lons\n",
    "# 5) source_lats\n",
    "# 6) dists_km\n",
    "# 7) source_depths_km"
   ]
  },
  {
   "cell_type": "code",
   "execution_count": 26,
   "id": "486c9018",
   "metadata": {},
   "outputs": [],
   "source": [
    "mlaa_sta_lats = mlaapde[:,1]\n",
    "mlaa_sta_lons = mlaapde[:,2]\n",
    "mlaa_source_lats = mlaapde[:,3]\n",
    "mlaa_source_lons = mlaapde[:,4]\n",
    "mlaa_source_depths_km = mlaapde[:,7]\n",
    "mlaa_dists_km = mlaapde[:,5]\n",
    "\n",
    "hist_sta_lats = historic[:,3]\n",
    "hist_sta_lons = historic[:,2]\n",
    "hist_source_lats = historic[:,5]\n",
    "hist_source_lons = historic[:,4]\n",
    "hist_source_depths_km = historic[:,7]\n",
    "hist_dists_km = historic[:,6]"
   ]
  },
  {
   "cell_type": "code",
   "execution_count": 27,
   "id": "3ae993d8",
   "metadata": {},
   "outputs": [
    {
     "data": {
      "text/plain": [
       "array(['us70006xvh_HV.DESD.EH*.--_Pg', 19.333395, -155.38565, 19.6215,\n",
       "       -155.7722, 51.61514859435106, 0.46418618323605704, 10.0],\n",
       "      dtype=object)"
      ]
     },
     "execution_count": 27,
     "metadata": {},
     "output_type": "execute_result"
    }
   ],
   "source": [
    "mlaapde[0]"
   ]
  },
  {
   "cell_type": "code",
   "execution_count": 28,
   "id": "eee08cf0",
   "metadata": {},
   "outputs": [
    {
     "data": {
      "text/plain": [
       "array(['usp0009qb4', 'IU.GUMO', '144.8684', '13.5893', '143.73', '22.338',\n",
       "       '975.7817879487706', '126.5'], dtype='<U32')"
      ]
     },
     "execution_count": 28,
     "metadata": {},
     "output_type": "execute_result"
    }
   ],
   "source": [
    "historic[0]"
   ]
  },
  {
   "cell_type": "code",
   "execution_count": 30,
   "id": "6e6e59ca",
   "metadata": {},
   "outputs": [
    {
     "name": "stdout",
     "output_type": "stream",
     "text": [
      "19.333395\n",
      "-155.38565\n",
      "19.6215\n",
      "-155.7722\n",
      "10.0\n",
      "51.61514859435106\n"
     ]
    }
   ],
   "source": [
    "print(mlaa_sta_lats[0])\n",
    "print(mlaa_sta_lons[0])\n",
    "print(mlaa_source_lats[0])\n",
    "print(mlaa_source_lons[0])\n",
    "print(mlaa_source_depths_km[0])\n",
    "print(mlaa_dists_km[0])"
   ]
  },
  {
   "cell_type": "code",
   "execution_count": 31,
   "id": "83071e5c",
   "metadata": {},
   "outputs": [
    {
     "name": "stdout",
     "output_type": "stream",
     "text": [
      "13.5893\n",
      "144.8684\n",
      "22.338\n",
      "143.73\n",
      "126.5\n",
      "975.7817879487706\n"
     ]
    }
   ],
   "source": [
    "print(hist_sta_lats[0])\n",
    "print(hist_sta_lons[0])\n",
    "print(hist_source_lats[0])\n",
    "print(hist_source_lons[0])\n",
    "print(hist_source_depths_km[0])\n",
    "print(hist_dists_km[0])"
   ]
  },
  {
   "cell_type": "code",
   "execution_count": 34,
   "id": "c15530e3",
   "metadata": {},
   "outputs": [],
   "source": [
    "mlaa_condensed = np.column_stack((mlaa_sta_lats,mlaa_sta_lons,mlaa_source_lats,mlaa_source_lons,mlaa_source_depths_km,mlaa_dists_km))\n",
    "hist_condensed = np.column_stack((hist_sta_lats,hist_sta_lons,hist_source_lats,hist_source_lons,hist_source_depths_km,hist_dists_km))\n"
   ]
  },
  {
   "cell_type": "code",
   "execution_count": 35,
   "id": "77595263",
   "metadata": {},
   "outputs": [
    {
     "data": {
      "text/plain": [
       "(324365, 6)"
      ]
     },
     "execution_count": 35,
     "metadata": {},
     "output_type": "execute_result"
    }
   ],
   "source": [
    "mlaa_condensed.shape"
   ]
  },
  {
   "cell_type": "code",
   "execution_count": 36,
   "id": "07d09058",
   "metadata": {},
   "outputs": [
    {
     "data": {
      "text/plain": [
       "(13151, 6)"
      ]
     },
     "execution_count": 36,
     "metadata": {},
     "output_type": "execute_result"
    }
   ],
   "source": [
    "hist_condensed.shape"
   ]
  },
  {
   "cell_type": "code",
   "execution_count": 39,
   "id": "24ddeaef",
   "metadata": {},
   "outputs": [],
   "source": [
    "all_metadata = np.concatenate((mlaa_condensed,hist_condensed))\n",
    "\n",
    "# Columns: \n",
    "# 0) sta_lat\n",
    "# 1) sta_lons\n",
    "# 2) source_lat\n",
    "# 3) source_lon\n",
    "# 4) source_depth_km\n",
    "# 5) source_dist_km\n",
    "\n",
    "np.save('/home/sdybing/mlaapde/testdata_preds/all_test_rerun/all_test_metadata.npy', all_metadata, allow_pickle = True)"
   ]
  },
  {
   "cell_type": "code",
   "execution_count": 38,
   "id": "3cbc499f",
   "metadata": {},
   "outputs": [
    {
     "data": {
      "text/plain": [
       "(337516, 6)"
      ]
     },
     "execution_count": 38,
     "metadata": {},
     "output_type": "execute_result"
    }
   ],
   "source": [
    "all_metadata.shape"
   ]
  },
  {
   "cell_type": "code",
   "execution_count": null,
   "id": "287a875c",
   "metadata": {},
   "outputs": [],
   "source": [
    "# dist_km = test_metadata_hypdists[:,5]\n",
    "# dist_deg = test_metadata_hypdists[:,6]\n",
    "\n",
    "# float_dist_deg = dist_deg.astype(float)\n",
    "# round_dist_deg = np.around(float_dist_deg)\n",
    "# print(dist_deg)\n",
    "# print(round_dist_deg)\n",
    "\n",
    "# float_dist_km = dist_km.astype(float)\n",
    "# round_dist_km = np.around(float_dist_km)\n",
    "# print(dist_km)\n",
    "# print(round_dist_km)"
   ]
  }
 ],
 "metadata": {
  "kernelspec": {
   "display_name": "Python 3 (ipykernel)",
   "language": "python",
   "name": "python3"
  },
  "language_info": {
   "codemirror_mode": {
    "name": "ipython",
    "version": 3
   },
   "file_extension": ".py",
   "mimetype": "text/x-python",
   "name": "python",
   "nbconvert_exporter": "python",
   "pygments_lexer": "ipython3",
   "version": "3.8.8"
  }
 },
 "nbformat": 4,
 "nbformat_minor": 5
}
