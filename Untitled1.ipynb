{
 "cells": [
  {
   "cell_type": "code",
   "execution_count": 1,
   "id": "b87d36a3",
   "metadata": {},
   "outputs": [],
   "source": [
    "import numpy as np"
   ]
  },
  {
   "cell_type": "code",
   "execution_count": 4,
   "id": "726f7c01",
   "metadata": {},
   "outputs": [],
   "source": [
    "mag_value = 4.5\n",
    "\n",
    "mag_idx = round(int(2*mag_value))/2"
   ]
  },
  {
   "cell_type": "code",
   "execution_count": 5,
   "id": "01405c43",
   "metadata": {},
   "outputs": [
    {
     "data": {
      "text/plain": [
       "4.5"
      ]
     },
     "execution_count": 5,
     "metadata": {},
     "output_type": "execute_result"
    }
   ],
   "source": [
    "mag_idx"
   ]
  },
  {
   "cell_type": "code",
   "execution_count": null,
   "id": "f008afc5",
   "metadata": {},
   "outputs": [],
   "source": []
  }
 ],
 "metadata": {
  "kernelspec": {
   "display_name": "Python 3 (ipykernel)",
   "language": "python",
   "name": "python3"
  },
  "language_info": {
   "codemirror_mode": {
    "name": "ipython",
    "version": 3
   },
   "file_extension": ".py",
   "mimetype": "text/x-python",
   "name": "python",
   "nbconvert_exporter": "python",
   "pygments_lexer": "ipython3",
   "version": "3.8.8"
  }
 },
 "nbformat": 4,
 "nbformat_minor": 5
}
